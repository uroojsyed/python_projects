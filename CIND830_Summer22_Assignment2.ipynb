{
  "cells": [
    {
      "cell_type": "markdown",
      "source": [
        "## CIND830 - Python Programming for Data Science  \n",
        "### Assignment 2 (10% of the final grade) \n",
        "### Due on July 25, 2022 11:59 PM "
      ],
      "metadata": {
        "id": "kJ6ssXaGJfGN"
      }
    },
    {
      "cell_type": "markdown",
      "source": [
        "*****\n",
        "This is a Jupyter Notebook document that extends a simple formatting syntax for authoring HTML and PDF. Review [this](https://jupyter-notebook.readthedocs.io/en/stable/notebook.html) website for more details on using Jupyter Notebooks.\n",
        "\n",
        "Consider using a Jupyter Notebook platform to complete this assignment. Ensure using **Python 3.7 release or higher** then complete the assignment by inserting your Python code wherever seeing the string `#INSERT YOUR ANSWER HERE.`\n",
        "\n",
        "When you click the `File` button, from the top navigation bar, then select `Export Notebook to HTML`, an HTML document will be generated that includes both the assignment content and the output of any embedded Python code chunks.\n",
        "\n",
        "Use [these](https://www.ryerson.ca/courses/students/tutorials/assignments/) guidelines to submit **both** the IPYNB and the exported file (HTML). Failing to submit both files will be subject to mark deduction.\n",
        "\n",
        "Please be advised that you cannot get more than 100% in this assignment, and the **BONUS** question (if there is any) will only be graded if all other questions have been submitted."
      ],
      "metadata": {
        "id": "UWjXw7DsJfGP"
      }
    },
    {
      "cell_type": "markdown",
      "source": [
        "*****\n"
      ],
      "metadata": {
        "id": "jPrZqSxgSWNr"
      }
    },
    {
      "cell_type": "markdown",
      "source": [
        "print(type(regionName))"
      ],
      "metadata": {
        "id": "Fw-JM-Vr22r6"
      }
    },
    {
      "cell_type": "markdown",
      "source": [
        "### **Question 1  [60 pts]**:\n",
        "\n",
        "The sample data file used in this question is downloaded from (https://www.opensourceshakespeare.org) and converted to a CSV file named `rjParagraphs.csv` which can be either found on the course shell under the `Assignment 2` tab or downloaded by clicking on [this link](https://app.box.com/s/7qy51of3ekiiwvef2g63xwhf2neg73dy).  The `rjParagraphs.csv` is a delimited text file containing the paragraph dialogues for some of the main characters in Romeo and Juliet, Shakespeare's play. The file contains the following columns separated by the comma character `,`\n",
        "* CharName: The name of the character in the play.\n",
        "* PlainText: The dialogue said by the respective character.\n",
        "\n",
        "Note: Only Python [built-in functions](https://docs.python.org/3.7/library/functions.html) or [standard modules](https://docs.python.org/3.7/py-modindex.html) are allowed to be used in this question. Do not use a third-party library for any part of the code. Importing any third-party library will result in marks deduction."
      ],
      "metadata": {
        "nteract": {
          "transient": {
            "deleting": false
          }
        },
        "id": "JGmHxZweILgY"
      }
    },
    {
      "cell_type": "markdown",
      "source": [
        "**a) [10 pts]**  Write a Python function that reads the paragraph dialogues data into a tuple of lists.\n",
        "\n",
        "Note: The first line of the CSV contains the column headings; therefore, there is no need to store it in the tuple."
      ],
      "metadata": {
        "nteract": {
          "transient": {
            "deleting": false
          }
        },
        "id": "nTyXw2IxILgZ"
      }
    },
    {
      "cell_type": "code",
      "source": [
        "#INSERT YOUR ANSWER HERE.\n",
        "import csv\n",
        "def readCsv():\n",
        "  with open('rjParagraphs.csv', 'r') as file:\n",
        "    next(file)\n",
        "    reader = csv.reader(file, delimiter=',')\n",
        "    dialogueList = []\n",
        "    for rows in reader:\n",
        "      dialogueList.append(rows)\n",
        "    dialogueList = tuple(dialogueList)\n",
        "  return dialogueList\n",
        "\n",
        "dialogueList = readCsv()\n",
        "print(dialogueList, sep=\"\\n\")\n",
        "     \n"
      ],
      "outputs": [
        {
          "output_type": "stream",
          "name": "stdout",
          "text": [
            "(['Benvolio', 'Part, fools!\\nPut up your swords; you know not what you do.'], ['Tybalt', 'What, art thou drawn among these heartless hinds?\\nTurn thee, Benvolio, look upon thy death.'], ['Benvolio', 'I do but keep the peace: put up thy sword,\\nOr manage it to part these men with me.'], ['Tybalt', 'What, drawn, and talk of peace! I hate the word,\\nAs I hate hell, all Montagues, and thee:\\nHave at thee, coward!\\n[They fight]\\n[Enter, several of both houses, who join the fray;]\\nthen enter Citizens, with clubs]'], ['Benvolio', \"Here were the servants of your adversary,\\nAnd yours, close fighting ere I did approach:\\nI drew to part them: in the instant came\\nThe fiery Tybalt, with his sword prepared,\\nWhich, as he breathed defiance to my ears,\\nHe swung about his head and cut the winds,\\nWho nothing hurt withal hiss'd him in scorn:\\nWhile we were interchanging thrusts and blows,\\nCame more and more and fought on part and part,\\nTill the prince came, who parted either part.\"], ['Benvolio', \"Madam, an hour before the worshipp'd sun\\nPeer'd forth the golden window of the east,\\nA troubled mind drave me to walk abroad;\\nWhere, underneath the grove of sycamore\\nThat westward rooteth from the city's side,\\nSo early walking did I see your son:\\nTowards him I made, but he was ware of me\\nAnd stole into the covert of the wood:\\nI, measuring his affections by my own,\\nThat most are busied when they're most alone,\\nPursued my humour not pursuing his,\\nAnd gladly shunn'd who gladly fled from me.\"], ['Benvolio', 'My noble uncle, do you know the cause?'], ['Benvolio', 'Have you importuned him by any means?'], ['Benvolio', \"See, where he comes: so please you, step aside;\\nI'll know his grievance, or be much denied.\"], ['Benvolio', 'Good-morrow, cousin.'], ['Romeo', 'Is the day so young?'], ['Benvolio', 'But new struck nine.'], ['Romeo', 'Ay me! sad hours seem long.\\nWas that my father that went hence so fast?'], ['Benvolio', \"It was. What sadness lengthens Romeo's hours?\"], ['Romeo', 'Not having that, which, having, makes them short.'], ['Benvolio', 'In love?'], ['Romeo', 'Out--'], ['Benvolio', 'Of love?'], ['Romeo', 'Out of her favour, where I am in love.'], ['Benvolio', 'Alas, that love, so gentle in his view,\\nShould be so tyrannous and rough in proof!'], ['Romeo', \"Alas, that love, whose view is muffled still,\\nShould, without eyes, see pathways to his will!\\nWhere shall we dine? O me! What fray was here?\\nYet tell me not, for I have heard it all.\\nHere's much to do with hate, but more with love.\\nWhy, then, O brawling love! O loving hate!\\nO any thing, of nothing first create!\\nO heavy lightness! serious vanity!\\nMis-shapen chaos of well-seeming forms!\\nFeather of lead, bright smoke, cold fire,\\nsick health!\\nStill-waking sleep, that is not what it is!\\nThis love feel I, that feel no love in this.\\nDost thou not laugh?\"], ['Benvolio', 'No, coz, I rather weep.'], ['Romeo', 'Good heart, at what?'], ['Benvolio', \"At thy good heart's oppression.\"], ['Romeo', \"Why, such is love's transgression.\\nGriefs of mine own lie heavy in my breast,\\nWhich thou wilt propagate, to have it prest\\nWith more of thine: this love that thou hast shown\\nDoth add more grief to too much of mine own.\\nLove is a smoke raised with the fume of sighs;\\nBeing purged, a fire sparkling in lovers' eyes;\\nBeing vex'd a sea nourish'd with lovers' tears:\\nWhat is it else? a madness most discreet,\\nA choking gall and a preserving sweet.\\nFarewell, my coz.\"], ['Benvolio', 'Soft! I will go along;\\nAn if you leave me so, you do me wrong.'], ['Romeo', \"Tut, I have lost myself; I am not here;\\nThis is not Romeo, he's some other where.\"], ['Benvolio', 'Tell me in sadness, who is that you love.'], ['Romeo', 'What, shall I groan and tell thee?'], ['Benvolio', 'Groan! why, no.\\nBut sadly tell me who.'], ['Romeo', 'Bid a sick man in sadness make his will:\\nAh, word ill urged to one that is so ill!\\nIn sadness, cousin, I do love a woman.'], ['Benvolio', \"I aim'd so near, when I supposed you loved.\"], ['Romeo', \"A right good mark-man! And she's fair I love.\"], ['Benvolio', 'A right fair mark, fair coz, is soonest hit.'], ['Romeo', \"Well, in that hit you miss: she'll not be hit\\nWith Cupid's arrow; she hath Dian's wit;\\nAnd, in strong proof of chastity well arm'd,\\nFrom love's weak childish bow she lives unharm'd.\\nShe will not stay the siege of loving terms,\\nNor bide the encounter of assailing eyes,\\nNor ope her lap to saint-seducing gold:\\nO, she is rich in beauty, only poor,\\nThat when she dies with beauty dies her store.\"], ['Benvolio', 'Then she hath sworn that she will still live chaste?'], ['Romeo', 'She hath, and in that sparing makes huge waste,\\nFor beauty starved with her severity\\nCuts beauty off from all posterity.\\nShe is too fair, too wise, wisely too fair,\\nTo merit bliss by making me despair:\\nShe hath forsworn to love, and in that vow\\nDo I live dead that live to tell it now.'], ['Benvolio', 'Be ruled by me, forget to think of her.'], ['Romeo', 'O, teach me how I should forget to think.'], ['Benvolio', 'By giving liberty unto thine eyes;\\nExamine other beauties.'], ['Romeo', \"'Tis the way\\nTo call hers exquisite, in question more:\\nThese happy masks that kiss fair ladies' brows\\nBeing black put us in mind they hide the fair;\\nHe that is strucken blind cannot forget\\nThe precious treasure of his eyesight lost:\\nShow me a mistress that is passing fair,\\nWhat doth her beauty serve, but as a note\\nWhere I may read who pass'd that passing fair?\\nFarewell: thou canst not teach me to forget.\"], ['Benvolio', \"I'll pay that doctrine, or else die in debt.\"], ['Benvolio', \"Tut, man, one fire burns out another's burning,\\nOne pain is lessen'd by another's anguish;\\nTurn giddy, and be holp by backward turning;\\nOne desperate grief cures with another's languish:\\nTake thou some new infection to thy eye,\\nAnd the rank poison of the old will die.\"], ['Romeo', 'Your plaintain-leaf is excellent for that.'], ['Benvolio', 'For what, I pray thee?'], ['Romeo', 'For your broken shin.'], ['Benvolio', 'Why, Romeo, art thou mad?'], ['Romeo', \"Not mad, but bound more than a mad-man is;\\nShut up in prison, kept without my food,\\nWhipp'd and tormented and--God-den, good fellow.\"], ['Romeo', 'Ay, mine own fortune in my misery.'], ['Romeo', 'Ay, if I know the letters and the language.'], ['Romeo', \"Stay, fellow; I can read.\\n[Reads]\\n'Signior Martino and his wife and daughters;\\nCounty Anselme and his beauteous sisters; the lady\\nwidow of Vitravio; Signior Placentio and his lovely\\nnieces; Mercutio and his brother Valentine; mine\\nuncle Capulet, his wife and daughters; my fair niece\\nRosaline; Livia; Signior Valentio and his cousin\\nTybalt, Lucio and the lively Helena.' A fair\\nassembly: whither should they come?\"], ['Romeo', 'Whither?'], ['Romeo', 'Whose house?'], ['Romeo', \"Indeed, I should have ask'd you that before.\"], ['Benvolio', \"At this same ancient feast of Capulet's\\nSups the fair Rosaline whom thou so lovest,\\nWith all the admired beauties of Verona:\\nGo thither; and, with unattainted eye,\\nCompare her face with some that I shall show,\\nAnd I will make thee think thy swan a crow.\"], ['Romeo', \"When the devout religion of mine eye\\nMaintains such falsehood, then turn tears to fires;\\nAnd these, who often drown'd could never die,\\nTransparent heretics, be burnt for liars!\\nOne fairer than my love! the all-seeing sun\\nNe'er saw her match since first the world begun.\"], ['Benvolio', \"Tut, you saw her fair, none else being by,\\nHerself poised with herself in either eye:\\nBut in that crystal scales let there be weigh'd\\nYour lady's love against some other maid\\nThat I will show you shining at this feast,\\nAnd she shall scant show well that now shows best.\"], ['Romeo', \"I'll go along, no such sight to be shown,\\nBut to rejoice in splendor of mine own.\"], ['Juliet', 'How now! who calls?'], ['Juliet', 'Madam, I am here.\\nWhat is your will?'], ['Juliet', 'And stint thou too, I pray thee, nurse, say I.'], ['Juliet', 'It is an honour that I dream not of.'], ['Juliet', \"I'll look to like, if looking liking move:\\nBut no more deep will I endart mine eye\\nThan your consent gives strength to make it fly.\"], ['Romeo', 'What, shall this speech be spoke for our excuse?\\nOr shall we on without a apology?'], ['Benvolio', \"The date is out of such prolixity:\\nWe'll have no Cupid hoodwink'd with a scarf,\\nBearing a Tartar's painted bow of lath,\\nScaring the ladies like a crow-keeper;\\nNor no without-book prologue, faintly spoke\\nAfter the prompter, for our entrance:\\nBut let them measure us by what they will;\\nWe'll measure them a measure, and be gone.\"], ['Romeo', 'Give me a torch: I am not for this ambling;\\nBeing but heavy, I will bear the light.'], ['Romeo', 'Not I, believe me: you have dancing shoes\\nWith nimble soles: I have a soul of lead\\nSo stakes me to the ground I cannot move.'], ['Romeo', \"I am too sore enpierced with his shaft\\nTo soar with his light feathers, and so bound,\\nI cannot bound a pitch above dull woe:\\nUnder love's heavy burden do I sink.\"], ['Romeo', 'Is love a tender thing? it is too rough,\\nToo rude, too boisterous, and it pricks like thorn.'], ['Benvolio', 'Come, knock and enter; and no sooner in,\\nBut every man betake him to his legs.'], ['Romeo', \"A torch for me: let wantons light of heart\\nTickle the senseless rushes with their heels,\\nFor I am proverb'd with a grandsire phrase;\\nI'll be a candle-holder, and look on.\\nThe game was ne'er so fair, and I am done.\"], ['Romeo', \"Nay, that's not so.\"], ['Romeo', \"And we mean well in going to this mask;\\nBut 'tis no wit to go.\"], ['Romeo', \"I dream'd a dream to-night.\"], ['Romeo', 'Well, what was yours?'], ['Romeo', 'In bed asleep, while they do dream things true.'], ['Romeo', \"Peace, peace, Mercutio, peace!\\nThou talk'st of nothing.\"], ['Benvolio', 'This wind, you talk of, blows us from ourselves;\\nSupper is done, and we shall come too late.'], ['Romeo', \"I fear, too early: for my mind misgives\\nSome consequence yet hanging in the stars\\nShall bitterly begin his fearful date\\nWith this night's revels and expire the term\\nOf a despised life closed in my breast\\nBy some vile forfeit of untimely death.\\nBut He, that hath the steerage of my course,\\nDirect my sail! On, lusty gentlemen.\"], ['Benvolio', 'Strike, drum.'], ['Romeo', '[To a Servingman] What lady is that, which doth\\nenrich the hand\\nOf yonder knight?'], ['Romeo', \"O, she doth teach the torches to burn bright!\\nIt seems she hangs upon the cheek of night\\nLike a rich jewel in an Ethiope's ear;\\nBeauty too rich for use, for earth too dear!\\nSo shows a snowy dove trooping with crows,\\nAs yonder lady o'er her fellows shows.\\nThe measure done, I'll watch her place of stand,\\nAnd, touching hers, make blessed my rude hand.\\nDid my heart love till now? forswear it, sight!\\nFor I ne'er saw true beauty till this night.\"], ['Tybalt', \"This, by his voice, should be a Montague.\\nFetch me my rapier, boy. What dares the slave\\nCome hither, cover'd with an antic face,\\nTo fleer and scorn at our solemnity?\\nNow, by the stock and honour of my kin,\\nTo strike him dead, I hold it not a sin.\"], ['Tybalt', 'Uncle, this is a Montague, our foe,\\nA villain that is hither come in spite,\\nTo scorn at our solemnity this night.'], ['Tybalt', \"'Tis he, that villain Romeo.\"], ['Tybalt', \"It fits, when such a villain is a guest:\\nI'll not endure him.\"], ['Tybalt', \"Why, uncle, 'tis a shame.\"], ['Tybalt', 'Patience perforce with wilful choler meeting\\nMakes my flesh tremble in their different greeting.\\nI will withdraw: but this intrusion shall\\nNow seeming sweet convert to bitter gall.'], ['Romeo', '[To JULIET] If I profane with my unworthiest hand\\nThis holy shrine, the gentle fine is this:\\nMy lips, two blushing pilgrims, ready stand\\nTo smooth that rough touch with a tender kiss.'], ['Juliet', \"Good pilgrim, you do wrong your hand too much,\\nWhich mannerly devotion shows in this;\\nFor saints have hands that pilgrims' hands do touch,\\nAnd palm to palm is holy palmers' kiss.\"], ['Romeo', 'Have not saints lips, and holy palmers too?'], ['Juliet', 'Ay, pilgrim, lips that they must use in prayer.'], ['Romeo', 'O, then, dear saint, let lips do what hands do;\\nThey pray, grant thou, lest faith turn to despair.'], ['Juliet', \"Saints do not move, though grant for prayers' sake.\"], ['Romeo', \"Then move not, while my prayer's effect I take.\\nThus from my lips, by yours, my sin is purged.\"], ['Juliet', 'Then have my lips the sin that they have took.'], ['Romeo', 'Sin from thy lips? O trespass sweetly urged!\\nGive me my sin again.'], ['Juliet', 'You kiss by the book.'], ['Romeo', 'What is her mother?'], ['Romeo', \"Is she a Capulet?\\nO dear account! my life is my foe's debt.\"], ['Benvolio', 'Away, begone; the sport is at the best.'], ['Romeo', 'Ay, so I fear; the more is my unrest.'], ['Juliet', 'Come hither, nurse. What is yond gentleman?'], ['Juliet', \"What's he that now is going out of door?\"], ['Juliet', \"What's he that follows there, that would not dance?\"], ['Juliet', 'Go ask his name: if he be married.\\nMy grave is like to be my wedding bed.'], ['Juliet', 'My only love sprung from my only hate!\\nToo early seen unknown, and known too late!\\nProdigious birth of love it is to me,\\nThat I must love a loathed enemy.'], ['Juliet', \"A rhyme I learn'd even now\\nOf one I danced withal.\"], ['Romeo', 'Can I go forward when my heart is here?\\nTurn back, dull earth, and find thy centre out.'], ['Benvolio', 'Romeo! my cousin Romeo!'], ['Benvolio', \"He ran this way, and leap'd this orchard wall:\\nCall, good Mercutio.\"], ['Benvolio', 'And if he hear thee, thou wilt anger him.'], ['Benvolio', 'Come, he hath hid himself among these trees,\\nTo be consorted with the humorous night:\\nBlind is his love and best befits the dark.'], ['Benvolio', \"Go, then; for 'tis in vain\\nTo seek him here that means not to be found.\"], ['Romeo', \"He jests at scars that never felt a wound.\\n[JULIET appears above at a window]\\nBut, soft! what light through yonder window breaks?\\nIt is the east, and Juliet is the sun.\\nArise, fair sun, and kill the envious moon,\\nWho is already sick and pale with grief,\\nThat thou her maid art far more fair than she:\\nBe not her maid, since she is envious;\\nHer vestal livery is but sick and green\\nAnd none but fools do wear it; cast it off.\\nIt is my lady, O, it is my love!\\nO, that she knew she were!\\nShe speaks yet she says nothing: what of that?\\nHer eye discourses; I will answer it.\\nI am too bold, 'tis not to me she speaks:\\nTwo of the fairest stars in all the heaven,\\nHaving some business, do entreat her eyes\\nTo twinkle in their spheres till they return.\\nWhat if her eyes were there, they in her head?\\nThe brightness of her cheek would shame those stars,\\nAs daylight doth a lamp; her eyes in heaven\\nWould through the airy region stream so bright\\nThat birds would sing and think it were not night.\\nSee, how she leans her cheek upon her hand!\\nO, that I were a glove upon that hand,\\nThat I might touch that cheek!\"], ['Juliet', 'Ay me!'], ['Romeo', \"She speaks:\\nO, speak again, bright angel! for thou art\\nAs glorious to this night, being o'er my head\\nAs is a winged messenger of heaven\\nUnto the white-upturned wondering eyes\\nOf mortals that fall back to gaze on him\\nWhen he bestrides the lazy-pacing clouds\\nAnd sails upon the bosom of the air.\"], ['Juliet', \"O Romeo, Romeo! wherefore art thou Romeo?\\nDeny thy father and refuse thy name;\\nOr, if thou wilt not, be but sworn my love,\\nAnd I'll no longer be a Capulet.\"], ['Romeo', '[Aside] Shall I hear more, or shall I speak at this?'], ['Juliet', \"'Tis but thy name that is my enemy;\\nThou art thyself, though not a Montague.\\nWhat's Montague? it is nor hand, nor foot,\\nNor arm, nor face, nor any other part\\nBelonging to a man. O, be some other name!\\nWhat's in a name? that which we call a rose\\nBy any other name would smell as sweet;\\nSo Romeo would, were he not Romeo call'd,\\nRetain that dear perfection which he owes\\nWithout that title. Romeo, doff thy name,\\nAnd for that name which is no part of thee\\nTake all myself.\"], ['Romeo', \"I take thee at thy word:\\nCall me but love, and I'll be new baptized;\\nHenceforth I never will be Romeo.\"], ['Juliet', \"What man art thou that thus bescreen'd in night\\nSo stumblest on my counsel?\"], ['Romeo', 'By a name\\nI know not how to tell thee who I am:\\nMy name, dear saint, is hateful to myself,\\nBecause it is an enemy to thee;\\nHad I it written, I would tear the word.'], ['Juliet', \"My ears have not yet drunk a hundred words\\nOf that tongue's utterance, yet I know the sound:\\nArt thou not Romeo and a Montague?\"], ['Romeo', 'Neither, fair saint, if either thee dislike.'], ['Juliet', 'How camest thou hither, tell me, and wherefore?\\nThe orchard walls are high and hard to climb,\\nAnd the place death, considering who thou art,\\nIf any of my kinsmen find thee here.'], ['Romeo', \"With love's light wings did I o'er-perch these walls;\\nFor stony limits cannot hold love out,\\nAnd what love can do that dares love attempt;\\nTherefore thy kinsmen are no let to me.\"], ['Juliet', 'If they do see thee, they will murder thee.'], ['Romeo', 'Alack, there lies more peril in thine eye\\nThan twenty of their swords: look thou but sweet,\\nAnd I am proof against their enmity.'], ['Juliet', 'I would not for the world they saw thee here.'], ['Romeo', \"I have night's cloak to hide me from their sight;\\nAnd but thou love me, let them find me here:\\nMy life were better ended by their hate,\\nThan death prorogued, wanting of thy love.\"], ['Juliet', \"By whose direction found'st thou out this place?\"], ['Romeo', \"By love, who first did prompt me to inquire;\\nHe lent me counsel and I lent him eyes.\\nI am no pilot; yet, wert thou as far\\nAs that vast shore wash'd with the farthest sea,\\nI would adventure for such merchandise.\"], ['Juliet', \"Thou know'st the mask of night is on my face,\\nElse would a maiden blush bepaint my cheek\\nFor that which thou hast heard me speak to-night\\nFain would I dwell on form, fain, fain deny\\nWhat I have spoke: but farewell compliment!\\nDost thou love me? I know thou wilt say 'Ay,'\\nAnd I will take thy word: yet if thou swear'st,\\nThou mayst prove false; at lovers' perjuries\\nThen say, Jove laughs. O gentle Romeo,\\nIf thou dost love, pronounce it faithfully:\\nOr if thou think'st I am too quickly won,\\nI'll frown and be perverse an say thee nay,\\nSo thou wilt woo; but else, not for the world.\\nIn truth, fair Montague, I am too fond,\\nAnd therefore thou mayst think my 'havior light:\\nBut trust me, gentleman, I'll prove more true\\nThan those that have more cunning to be strange.\\nI should have been more strange, I must confess,\\nBut that thou overheard'st, ere I was ware,\\nMy true love's passion: therefore pardon me,\\nAnd not impute this yielding to light love,\\nWhich the dark night hath so discovered.\"], ['Romeo', 'Lady, by yonder blessed moon I swear\\nThat tips with silver all these fruit-tree tops--'], ['Juliet', 'O, swear not by the moon, the inconstant moon,\\nThat monthly changes in her circled orb,\\nLest that thy love prove likewise variable.'], ['Romeo', 'What shall I swear by?'], ['Juliet', \"Do not swear at all;\\nOr, if thou wilt, swear by thy gracious self,\\nWhich is the god of my idolatry,\\nAnd I'll believe thee.\"], ['Romeo', \"If my heart's dear love--\"], ['Juliet', \"Well, do not swear: although I joy in thee,\\nI have no joy of this contract to-night:\\nIt is too rash, too unadvised, too sudden;\\nToo like the lightning, which doth cease to be\\nEre one can say 'It lightens.' Sweet, good night!\\nThis bud of love, by summer's ripening breath,\\nMay prove a beauteous flower when next we meet.\\nGood night, good night! as sweet repose and rest\\nCome to thy heart as that within my breast!\"], ['Romeo', 'O, wilt thou leave me so unsatisfied?'], ['Juliet', 'What satisfaction canst thou have to-night?'], ['Romeo', \"The exchange of thy love's faithful vow for mine.\"], ['Juliet', 'I gave thee mine before thou didst request it:\\nAnd yet I would it were to give again.'], ['Romeo', 'Wouldst thou withdraw it? for what purpose, love?'], ['Juliet', 'But to be frank, and give it thee again.\\nAnd yet I wish but for the thing I have:\\nMy bounty is as boundless as the sea,\\nMy love as deep; the more I give to thee,\\nThe more I have, for both are infinite.\\n[Nurse calls within]\\nI hear some noise within; dear love, adieu!\\nAnon, good nurse! Sweet Montague, be true.\\nStay but a little, I will come again.'], ['Romeo', 'O blessed, blessed night! I am afeard.\\nBeing in night, all this is but a dream,\\nToo flattering-sweet to be substantial.'], ['Juliet', \"Three words, dear Romeo, and good night indeed.\\nIf that thy bent of love be honourable,\\nThy purpose marriage, send me word to-morrow,\\nBy one that I'll procure to come to thee,\\nWhere and what time thou wilt perform the rite;\\nAnd all my fortunes at thy foot I'll lay\\nAnd follow thee my lord throughout the world.\"], ['Juliet', \"I come, anon.--But if thou mean'st not well,\\nI do beseech thee--\"], ['Juliet', 'By and by, I come:--\\nTo cease thy suit, and leave me to my grief:\\nTo-morrow will I send.'], ['Romeo', 'So thrive my soul--'], ['Juliet', 'A thousand times good night!'], ['Romeo', 'A thousand times the worse, to want thy light.\\nLove goes toward love, as schoolboys from\\ntheir books,\\nBut love from love, toward school with heavy looks.'], ['Juliet', \"Hist! Romeo, hist! O, for a falconer's voice,\\nTo lure this tassel-gentle back again!\\nBondage is hoarse, and may not speak aloud;\\nElse would I tear the cave where Echo lies,\\nAnd make her airy tongue more hoarse than mine,\\nWith repetition of my Romeo's name.\"], ['Romeo', \"It is my soul that calls upon my name:\\nHow silver-sweet sound lovers' tongues by night,\\nLike softest music to attending ears!\"], ['Juliet', 'Romeo!'], ['Romeo', 'My dear?'], ['Juliet', \"At what o'clock to-morrow\\nShall I send to thee?\"], ['Romeo', 'At the hour of nine.'], ['Juliet', \"I will not fail: 'tis twenty years till then.\\nI have forgot why I did call thee back.\"], ['Romeo', 'Let me stand here till thou remember it.'], ['Juliet', 'I shall forget, to have thee still stand there,\\nRemembering how I love thy company.'], ['Romeo', \"And I'll still stay, to have thee still forget,\\nForgetting any other home but this.\"], ['Juliet', \"'Tis almost morning; I would have thee gone:\\nAnd yet no further than a wanton's bird;\\nWho lets it hop a little from her hand,\\nLike a poor prisoner in his twisted gyves,\\nAnd with a silk thread plucks it back again,\\nSo loving-jealous of his liberty.\"], ['Romeo', 'I would I were thy bird.'], ['Juliet', 'Sweet, so would I:\\nYet I should kill thee with much cherishing.\\nGood night, good night! parting is such\\nsweet sorrow,\\nThat I shall say good night till it be morrow.'], ['Romeo', \"Sleep dwell upon thine eyes, peace in thy breast!\\nWould I were sleep and peace, so sweet to rest!\\nHence will I to my ghostly father's cell,\\nHis help to crave, and my dear hap to tell.\"], ['Romeo', 'Good morrow, father.'], ['Romeo', 'That last is true; the sweeter rest was mine.'], ['Romeo', \"With Rosaline, my ghostly father? no;\\nI have forgot that name, and that name's woe.\"], ['Romeo', \"I'll tell thee, ere thou ask it me again.\\nI have been feasting with mine enemy,\\nWhere on a sudden one hath wounded me,\\nThat's by me wounded: both our remedies\\nWithin thy help and holy physic lies:\\nI bear no hatred, blessed man, for, lo,\\nMy intercession likewise steads my foe.\"], ['Romeo', \"Then plainly know my heart's dear love is set\\nOn the fair daughter of rich Capulet:\\nAs mine on hers, so hers is set on mine;\\nAnd all combined, save what thou must combine\\nBy holy marriage: when and where and how\\nWe met, we woo'd and made exchange of vow,\\nI'll tell thee as we pass; but this I pray,\\nThat thou consent to marry us to-day.\"], ['Romeo', \"Thou chid'st me oft for loving Rosaline.\"], ['Romeo', \"And bad'st me bury love.\"], ['Romeo', 'I pray thee, chide not; she whom I love now\\nDoth grace for grace and love for love allow;\\nThe other did not so.'], ['Romeo', 'O, let us hence; I stand on sudden haste.'], ['Benvolio', \"Not to his father's; I spoke with his man.\"], ['Benvolio', \"Tybalt, the kinsman of old Capulet,\\nHath sent a letter to his father's house.\"], ['Benvolio', 'Romeo will answer it.'], ['Benvolio', \"Nay, he will answer the letter's master, how he\\ndares, being dared.\"], ['Benvolio', 'Why, what is Tybalt?'], ['Benvolio', 'The what?'], ['Benvolio', 'Here comes Romeo, here comes Romeo.'], ['Romeo', 'Good morrow to you both. What counterfeit did I give you?'], ['Romeo', 'Pardon, good Mercutio, my business was great; and in\\nsuch a case as mine a man may strain courtesy.'], ['Romeo', \"Meaning, to court'sy.\"], ['Romeo', 'A most courteous exposition.'], ['Romeo', 'Pink for flower.'], ['Romeo', 'Why, then is my pump well flowered.'], ['Romeo', 'O single-soled jest, solely singular for the\\nsingleness.'], ['Romeo', \"Switch and spurs, switch and spurs; or I'll cry a match.\"], ['Romeo', 'Thou wast never with me for any thing when thou wast\\nnot there for the goose.'], ['Romeo', 'Nay, good goose, bite not.'], ['Romeo', 'And is it not well served in to a sweet goose?'], ['Romeo', \"I stretch it out for that word 'broad;' which added\\nto the goose, proves thee far and wide a broad goose.\"], ['Benvolio', 'Stop there, stop there.'], ['Benvolio', 'Thou wouldst else have made thy tale large.'], ['Romeo', \"Here's goodly gear!\"], ['Benvolio', 'Two, two; a shirt and a smock.'], ['Romeo', 'One, gentlewoman, that God hath made for himself to\\nmar.'], ['Romeo', 'I can tell you; but young Romeo will be older when\\nyou have found him than he was when you sought him:\\nI am the youngest of that name, for fault of a worse.'], ['Benvolio', 'She will indite him to some supper.'], ['Romeo', 'What hast thou found?'], ['Romeo', 'I will follow you.'], ['Romeo', 'A gentleman, nurse, that loves to hear himself talk,\\nand will speak more in a minute than he will stand\\nto in a month.'], ['Romeo', 'Nurse, commend me to thy lady and mistress. I\\nprotest unto thee--'], ['Romeo', 'What wilt thou tell her, nurse? thou dost not mark me.'], ['Romeo', \"Bid her devise\\nSome means to come to shrift this afternoon;\\nAnd there she shall at Friar Laurence' cell\\nBe shrived and married. Here is for thy pains.\"], ['Romeo', 'Go to; I say you shall.'], ['Romeo', \"And stay, good nurse, behind the abbey wall:\\nWithin this hour my man shall be with thee\\nAnd bring thee cords made like a tackled stair;\\nWhich to the high top-gallant of my joy\\nMust be my convoy in the secret night.\\nFarewell; be trusty, and I'll quit thy pains:\\nFarewell; commend me to thy mistress.\"], ['Romeo', \"What say'st thou, my dear nurse?\"], ['Romeo', \"I warrant thee, my man's as true as steel.\"], ['Romeo', 'Ay, nurse; what of that? both with an R.'], ['Romeo', 'Commend me to thy lady.'], ['Juliet', \"The clock struck nine when I did send the nurse;\\nIn half an hour she promised to return.\\nPerchance she cannot meet him: that's not so.\\nO, she is lame! love's heralds should be thoughts,\\nWhich ten times faster glide than the sun's beams,\\nDriving back shadows over louring hills:\\nTherefore do nimble-pinion'd doves draw love,\\nAnd therefore hath the wind-swift Cupid wings.\\nNow is the sun upon the highmost hill\\nOf this day's journey, and from nine till twelve\\nIs three long hours, yet she is not come.\\nHad she affections and warm youthful blood,\\nShe would be as swift in motion as a ball;\\nMy words would bandy her to my sweet love,\\nAnd his to me:\\nBut old folks, many feign as they were dead;\\nUnwieldy, slow, heavy and pale as lead.\\nO God, she comes!\\n[Enter Nurse and PETER]\\nO honey nurse, what news?\\nHast thou met with him? Send thy man away.\"], ['Juliet', \"Now, good sweet nurse,--O Lord, why look'st thou sad?\\nThough news be sad, yet tell them merrily;\\nIf good, thou shamest the music of sweet news\\nBy playing it to me with so sour a face.\"], ['Juliet', 'I would thou hadst my bones, and I thy news:\\nNay, come, I pray thee, speak; good, good nurse, speak.'], ['Juliet', \"How art thou out of breath, when thou hast breath\\nTo say to me that thou art out of breath?\\nThe excuse that thou dost make in this delay\\nIs longer than the tale thou dost excuse.\\nIs thy news good, or bad? answer to that;\\nSay either, and I'll stay the circumstance:\\nLet me be satisfied, is't good or bad?\"], ['Juliet', 'No, no: but all this did I know before.\\nWhat says he of our marriage? what of that?'], ['Juliet', \"I' faith, I am sorry that thou art not well.\\nSweet, sweet, sweet nurse, tell me, what says my love?\"], ['Juliet', \"Where is my mother! why, she is within;\\nWhere should she be? How oddly thou repliest!\\n'Your love says, like an honest gentleman,\\nWhere is your mother?'\"], ['Juliet', \"Here's such a coil! come, what says Romeo?\"], ['Juliet', 'I have.'], ['Juliet', 'Hie to high fortune! Honest nurse, farewell.'], ['Romeo', 'Amen, amen! but come what sorrow can,\\nIt cannot countervail the exchange of joy\\nThat one short minute gives me in her sight:\\nDo thou but close our hands with holy words,\\nThen love-devouring death do what he dare;\\nIt is enough I may but call her mine.'], ['Juliet', 'Good even to my ghostly confessor.'], ['Juliet', 'As much to him, else is his thanks too much.'], ['Romeo', \"Ah, Juliet, if the measure of thy joy\\nBe heap'd like mine and that thy skill be more\\nTo blazon it, then sweeten with thy breath\\nThis neighbour air, and let rich music's tongue\\nUnfold the imagined happiness that both\\nReceive in either by this dear encounter.\"], ['Juliet', 'Conceit, more rich in matter than in words,\\nBrags of his substance, not of ornament:\\nThey are but beggars that can count their worth;\\nBut my true love is grown to such excess\\nI cannot sum up sum of half my wealth.'], ['Benvolio', \"I pray thee, good Mercutio, let's retire:\\nThe day is hot, the Capulets abroad,\\nAnd, if we meet, we shall not scape a brawl;\\nFor now, these hot days, is the mad blood stirring.\"], ['Benvolio', 'Am I like such a fellow?'], ['Benvolio', 'And what to?'], ['Benvolio', 'An I were so apt to quarrel as thou art, any man\\nshould buy the fee-simple of my life for an hour and a quarter.'], ['Benvolio', 'By my head, here come the Capulets.'], ['Tybalt', 'Follow me close, for I will speak to them.\\nGentlemen, good den: a word with one of you.'], ['Tybalt', 'You shall find me apt enough to that, sir, an you\\nwill give me occasion.'], ['Tybalt', \"Mercutio, thou consort'st with Romeo,--\"], ['Benvolio', 'We talk here in the public haunt of men:\\nEither withdraw unto some private place,\\nAnd reason coldly of your grievances,\\nOr else depart; here all eyes gaze on us.'], ['Tybalt', 'Well, peace be with you, sir: here comes my man.'], ['Tybalt', 'Romeo, the hate I bear thee can afford\\nNo better term than this,--thou art a villain.'], ['Romeo', \"Tybalt, the reason that I have to love thee\\nDoth much excuse the appertaining rage\\nTo such a greeting: villain am I none;\\nTherefore farewell; I see thou know'st me not.\"], ['Tybalt', 'Boy, this shall not excuse the injuries\\nThat thou hast done me; therefore turn and draw.'], ['Romeo', 'I do protest, I never injured thee,\\nBut love thee better than thou canst devise,\\nTill thou shalt know the reason of my love:\\nAnd so, good Capulet,--which name I tender\\nAs dearly as my own,--be satisfied.'], ['Tybalt', 'What wouldst thou have with me?'], ['Tybalt', 'I am for you.'], ['Romeo', 'Gentle Mercutio, put thy rapier up.'], ['Romeo', 'Draw, Benvolio; beat down their weapons.\\nGentlemen, for shame, forbear this outrage!\\nTybalt, Mercutio, the prince expressly hath\\nForbidden bandying in Verona streets:\\nHold, Tybalt! good Mercutio!'], ['Benvolio', 'What, art thou hurt?'], ['Romeo', 'Courage, man; the hurt cannot be much.'], ['Romeo', 'I thought all for the best.'], ['Romeo', \"This gentleman, the prince's near ally,\\nMy very friend, hath got his mortal hurt\\nIn my behalf; my reputation stain'd\\nWith Tybalt's slander,--Tybalt, that an hour\\nHath been my kinsman! O sweet Juliet,\\nThy beauty hath made me effeminate\\nAnd in my temper soften'd valour's steel!\"], ['Benvolio', \"O Romeo, Romeo, brave Mercutio's dead!\\nThat gallant spirit hath aspired the clouds,\\nWhich too untimely here did scorn the earth.\"], ['Romeo', \"This day's black fate on more days doth depend;\\nThis but begins the woe, others must end.\"], ['Benvolio', 'Here comes the furious Tybalt back again.'], ['Romeo', \"Alive, in triumph! and Mercutio slain!\\nAway to heaven, respective lenity,\\nAnd fire-eyed fury be my conduct now!\\n[Re-enter TYBALT]\\nNow, Tybalt, take the villain back again,\\nThat late thou gavest me; for Mercutio's soul\\nIs but a little way above our heads,\\nStaying for thine to keep him company:\\nEither thou, or I, or both, must go with him.\"], ['Tybalt', 'Thou, wretched boy, that didst consort him here,\\nShalt with him hence.'], ['Romeo', 'This shall determine that.'], ['Benvolio', 'Romeo, away, be gone!\\nThe citizens are up, and Tybalt slain.\\nStand not amazed: the prince will doom thee death,\\nIf thou art taken: hence, be gone, away!'], ['Romeo', \"O, I am fortune's fool!\"], ['Benvolio', 'Why dost thou stay?'], ['Benvolio', 'There lies that Tybalt.'], ['Benvolio', 'O noble prince, I can discover all\\nThe unlucky manage of this fatal brawl:\\nThere lies the man, slain by young Romeo,\\nThat slew thy kinsman, brave Mercutio.'], ['Benvolio', \"Tybalt, here slain, whom Romeo's hand did slay;\\nRomeo that spoke him fair, bade him bethink\\nHow nice the quarrel was, and urged withal\\nYour high displeasure: all this uttered\\nWith gentle breath, calm look, knees humbly bow'd,\\nCould not take truce with the unruly spleen\\nOf Tybalt deaf to peace, but that he tilts\\nWith piercing steel at bold Mercutio's breast,\\nWho all as hot, turns deadly point to point,\\nAnd, with a martial scorn, with one hand beats\\nCold death aside, and with the other sends\\nIt back to Tybalt, whose dexterity,\\nRetorts it: Romeo he cries aloud,\\n'Hold, friends! friends, part!' and, swifter than\\nhis tongue,\\nHis agile arm beats down their fatal points,\\nAnd 'twixt them rushes; underneath whose arm\\nAn envious thrust from Tybalt hit the life\\nOf stout Mercutio, and then Tybalt fled;\\nBut by and by comes back to Romeo,\\nWho had but newly entertain'd revenge,\\nAnd to 't they go like lightning, for, ere I\\nCould draw to part them, was stout Tybalt slain.\\nAnd, as he fell, did Romeo turn and fly.\\nThis is the truth, or let Benvolio die.\"], ['Juliet', \"Gallop apace, you fiery-footed steeds,\\nTowards Phoebus' lodging: such a wagoner\\nAs Phaethon would whip you to the west,\\nAnd bring in cloudy night immediately.\\nSpread thy close curtain, love-performing night,\\nThat runaway's eyes may wink and Romeo\\nLeap to these arms, untalk'd of and unseen.\\nLovers can see to do their amorous rites\\nBy their own beauties; or, if love be blind,\\nIt best agrees with night. Come, civil night,\\nThou sober-suited matron, all in black,\\nAnd learn me how to lose a winning match,\\nPlay'd for a pair of stainless maidenhoods:\\nHood my unmann'd blood, bating in my cheeks,\\nWith thy black mantle; till strange love, grown bold,\\nThink true love acted simple modesty.\\nCome, night; come, Romeo; come, thou day in night;\\nFor thou wilt lie upon the wings of night\\nWhiter than new snow on a raven's back.\\nCome, gentle night, come, loving, black-brow'd night,\\nGive me my Romeo; and, when he shall die,\\nTake him and cut him out in little stars,\\nAnd he will make the face of heaven so fine\\nThat all the world will be in love with night\\nAnd pay no worship to the garish sun.\\nO, I have bought the mansion of a love,\\nBut not possess'd it, and, though I am sold,\\nNot yet enjoy'd: so tedious is this day\\nAs is the night before some festival\\nTo an impatient child that hath new robes\\nAnd may not wear them. O, here comes my nurse,\\nAnd she brings news; and every tongue that speaks\\nBut Romeo's name speaks heavenly eloquence.\\n[Enter Nurse, with cords]\\nNow, nurse, what news? What hast thou there? the cords\\nThat Romeo bid thee fetch?\"], ['Juliet', 'Ay me! what news? why dost thou wring thy hands?'], ['Juliet', 'Can heaven be so envious?'], ['Juliet', \"What devil art thou, that dost torment me thus?\\nThis torture should be roar'd in dismal hell.\\nHath Romeo slain himself? say thou but 'I,'\\nAnd that bare vowel 'I' shall poison more\\nThan the death-darting eye of cockatrice:\\nI am not I, if there be such an I;\\nOr those eyes shut, that make thee answer 'I.'\\nIf he be slain, say 'I'; or if not, no:\\nBrief sounds determine of my weal or woe.\"], ['Juliet', \"O, break, my heart! poor bankrupt, break at once!\\nTo prison, eyes, ne'er look on liberty!\\nVile earth, to earth resign; end motion here;\\nAnd thou and Romeo press one heavy bier!\"], ['Juliet', \"What storm is this that blows so contrary?\\nIs Romeo slaughter'd, and is Tybalt dead?\\nMy dear-loved cousin, and my dearer lord?\\nThen, dreadful trumpet, sound the general doom!\\nFor who is living, if those two are gone?\"], ['Juliet', \"O God! did Romeo's hand shed Tybalt's blood?\"], ['Juliet', \"O serpent heart, hid with a flowering face!\\nDid ever dragon keep so fair a cave?\\nBeautiful tyrant! fiend angelical!\\nDove-feather'd raven! wolvish-ravening lamb!\\nDespised substance of divinest show!\\nJust opposite to what thou justly seem'st,\\nA damned saint, an honourable villain!\\nO nature, what hadst thou to do in hell,\\nWhen thou didst bower the spirit of a fiend\\nIn moral paradise of such sweet flesh?\\nWas ever book containing such vile matter\\nSo fairly bound? O that deceit should dwell\\nIn such a gorgeous palace!\"], ['Juliet', \"Blister'd be thy tongue\\nFor such a wish! he was not born to shame:\\nUpon his brow shame is ashamed to sit;\\nFor 'tis a throne where honour may be crown'd\\nSole monarch of the universal earth.\\nO, what a beast was I to chide at him!\"], ['Juliet', \"Shall I speak ill of him that is my husband?\\nAh, poor my lord, what tongue shall smooth thy name,\\nWhen I, thy three-hours wife, have mangled it?\\nBut, wherefore, villain, didst thou kill my cousin?\\nThat villain cousin would have kill'd my husband:\\nBack, foolish tears, back to your native spring;\\nYour tributary drops belong to woe,\\nWhich you, mistaking, offer up to joy.\\nMy husband lives, that Tybalt would have slain;\\nAnd Tybalt's dead, that would have slain my husband:\\nAll this is comfort; wherefore weep I then?\\nSome word there was, worser than Tybalt's death,\\nThat murder'd me: I would forget it fain;\\nBut, O, it presses to my memory,\\nLike damned guilty deeds to sinners' minds:\\n'Tybalt is dead, and Romeo--banished;'\\nThat 'banished,' that one word 'banished,'\\nHath slain ten thousand Tybalts. Tybalt's death\\nWas woe enough, if it had ended there:\\nOr, if sour woe delights in fellowship\\nAnd needly will be rank'd with other griefs,\\nWhy follow'd not, when she said 'Tybalt's dead,'\\nThy father, or thy mother, nay, or both,\\nWhich modern lamentations might have moved?\\nBut with a rear-ward following Tybalt's death,\\n'Romeo is banished,' to speak that word,\\nIs father, mother, Tybalt, Romeo, Juliet,\\nAll slain, all dead. 'Romeo is banished!'\\nThere is no end, no limit, measure, bound,\\nIn that word's death; no words can that woe sound.\\nWhere is my father, and my mother, nurse?\"], ['Juliet', \"Wash they his wounds with tears: mine shall be spent,\\nWhen theirs are dry, for Romeo's banishment.\\nTake up those cords: poor ropes, you are beguiled,\\nBoth you and I; for Romeo is exiled:\\nHe made you for a highway to my bed;\\nBut I, a maid, die maiden-widowed.\\nCome, cords, come, nurse; I'll to my wedding-bed;\\nAnd death, not Romeo, take my maidenhead!\"], ['Juliet', 'O, find him! give this ring to my true knight,\\nAnd bid him come to take his last farewell.'], ['Romeo', \"Father, what news? what is the prince's doom?\\nWhat sorrow craves acquaintance at my hand,\\nThat I yet know not?\"], ['Romeo', \"What less than dooms-day is the prince's doom?\"], ['Romeo', \"Ha, banishment! be merciful, say 'death;'\\nFor exile hath more terror in his look,\\nMuch more than death: do not say 'banishment.'\"], ['Romeo', \"There is no world without Verona walls,\\nBut purgatory, torture, hell itself.\\nHence-banished is banish'd from the world,\\nAnd world's exile is death: then banished,\\nIs death mis-term'd: calling death banishment,\\nThou cutt'st my head off with a golden axe,\\nAnd smilest upon the stroke that murders me.\"], ['Romeo', \"'Tis torture, and not mercy: heaven is here,\\nWhere Juliet lives; and every cat and dog\\nAnd little mouse, every unworthy thing,\\nLive here in heaven and may look on her;\\nBut Romeo may not: more validity,\\nMore honourable state, more courtship lives\\nIn carrion-flies than Romeo: they my seize\\nOn the white wonder of dear Juliet's hand\\nAnd steal immortal blessing from her lips,\\nWho even in pure and vestal modesty,\\nStill blush, as thinking their own kisses sin;\\nBut Romeo may not; he is banished:\\nFlies may do this, but I from this must fly:\\nThey are free men, but I am banished.\\nAnd say'st thou yet that exile is not death?\\nHadst thou no poison mix'd, no sharp-ground knife,\\nNo sudden mean of death, though ne'er so mean,\\nBut 'banished' to kill me?--'banished'?\\nO friar, the damned use that word in hell;\\nHowlings attend it: how hast thou the heart,\\nBeing a divine, a ghostly confessor,\\nA sin-absolver, and my friend profess'd,\\nTo mangle me with that word 'banished'?\"], ['Romeo', 'O, thou wilt speak again of banishment.'], ['Romeo', \"Yet 'banished'? Hang up philosophy!\\nUnless philosophy can make a Juliet,\\nDisplant a town, reverse a prince's doom,\\nIt helps not, it prevails not: talk no more.\"], ['Romeo', 'How should they, when that wise men have no eyes?'], ['Romeo', 'Thou canst not speak of that thou dost not feel:\\nWert thou as young as I, Juliet thy love,\\nAn hour but married, Tybalt murdered,\\nDoting like me and like me banished,\\nThen mightst thou speak, then mightst thou tear thy hair,\\nAnd fall upon the ground, as I do now,\\nTaking the measure of an unmade grave.'], ['Romeo', 'Not I; unless the breath of heartsick groans,\\nMist-like, infold me from the search of eyes.'], ['Romeo', 'Nurse!'], ['Romeo', \"Spakest thou of Juliet? how is it with her?\\nDoth she not think me an old murderer,\\nNow I have stain'd the childhood of our joy\\nWith blood removed but little from her own?\\nWhere is she? and how doth she? and what says\\nMy conceal'd lady to our cancell'd love?\"], ['Romeo', \"As if that name,\\nShot from the deadly level of a gun,\\nDid murder her; as that name's cursed hand\\nMurder'd her kinsman. O, tell me, friar, tell me,\\nIn what vile part of this anatomy\\nDoth my name lodge? tell me, that I may sack\\nThe hateful mansion.\"], ['Romeo', 'Do so, and bid my sweet prepare to chide.'], ['Romeo', 'How well my comfort is revived by this!'], ['Romeo', 'But that a joy past joy calls out on me,\\nIt were a grief, so brief to part with thee: Farewell.'], ['Juliet', 'Wilt thou be gone? it is not yet near day:\\nIt was the nightingale, and not the lark,\\nThat pierced the fearful hollow of thine ear;\\nNightly she sings on yon pomegranate-tree:\\nBelieve me, love, it was the nightingale.'], ['Romeo', \"It was the lark, the herald of the morn,\\nNo nightingale: look, love, what envious streaks\\nDo lace the severing clouds in yonder east:\\nNight's candles are burnt out, and jocund day\\nStands tiptoe on the misty mountain tops.\\nI must be gone and live, or stay and die.\"], ['Juliet', \"Yon light is not day-light, I know it, I:\\nIt is some meteor that the sun exhales,\\nTo be to thee this night a torch-bearer,\\nAnd light thee on thy way to Mantua:\\nTherefore stay yet; thou need'st not to be gone.\"], ['Romeo', \"Let me be ta'en, let me be put to death;\\nI am content, so thou wilt have it so.\\nI'll say yon grey is not the morning's eye,\\n'Tis but the pale reflex of Cynthia's brow;\\nNor that is not the lark, whose notes do beat\\nThe vaulty heaven so high above our heads:\\nI have more care to stay than will to go:\\nCome, death, and welcome! Juliet wills it so.\\nHow is't, my soul? let's talk; it is not day.\"], ['Juliet', \"It is, it is: hie hence, be gone, away!\\nIt is the lark that sings so out of tune,\\nStraining harsh discords and unpleasing sharps.\\nSome say the lark makes sweet division;\\nThis doth not so, for she divideth us:\\nSome say the lark and loathed toad change eyes,\\nO, now I would they had changed voices too!\\nSince arm from arm that voice doth us affray,\\nHunting thee hence with hunt's-up to the day,\\nO, now be gone; more light and light it grows.\"], ['Romeo', 'More light and light; more dark and dark our woes!'], ['Juliet', 'Nurse?'], ['Juliet', 'Then, window, let day in, and let life out.'], ['Romeo', \"Farewell, farewell! one kiss, and I'll descend.\"], ['Juliet', 'Art thou gone so? love, lord, ay, husband, friend!\\nI must hear from thee every day in the hour,\\nFor in a minute there are many days:\\nO, by this count I shall be much in years\\nEre I again behold my Romeo!'], ['Romeo', 'Farewell!\\nI will omit no opportunity\\nThat may convey my greetings, love, to thee.'], ['Juliet', \"O think'st thou we shall ever meet again?\"], ['Romeo', 'I doubt it not; and all these woes shall serve\\nFor sweet discourses in our time to come.'], ['Juliet', \"O God, I have an ill-divining soul!\\nMethinks I see thee, now thou art below,\\nAs one dead in the bottom of a tomb:\\nEither my eyesight fails, or thou look'st pale.\"], ['Romeo', 'And trust me, love, in my eye so do you:\\nDry sorrow drinks our blood. Adieu, adieu!'], ['Juliet', \"O fortune, fortune! all men call thee fickle:\\nIf thou art fickle, what dost thou with him.\\nThat is renown'd for faith? Be fickle, fortune;\\nFor then, I hope, thou wilt not keep him long,\\nBut send him back.\"], ['Juliet', \"Who is't that calls? is it my lady mother?\\nIs she not down so late, or up so early?\\nWhat unaccustom'd cause procures her hither?\"], ['Juliet', 'Madam, I am not well.'], ['Juliet', 'Yet let me weep for such a feeling loss.'], ['Juliet', 'Feeling so the loss,\\nCannot choose but ever weep the friend.'], ['Juliet', 'What villain madam?'], ['Juliet', '[Aside] Villain and he be many miles asunder.--\\nGod Pardon him! I do, with all my heart;\\nAnd yet no man like he doth grieve my heart.'], ['Juliet', \"Ay, madam, from the reach of these my hands:\\nWould none but I might venge my cousin's death!\"], ['Juliet', \"Indeed, I never shall be satisfied\\nWith Romeo, till I behold him--dead--\\nIs my poor heart for a kinsman vex'd.\\nMadam, if you could find out but a man\\nTo bear a poison, I would temper it;\\nThat Romeo should, upon receipt thereof,\\nSoon sleep in quiet. O, how my heart abhors\\nTo hear him named, and cannot come to him.\\nTo wreak the love I bore my cousin\\nUpon his body that slaughter'd him!\"], ['Juliet', 'And joy comes well in such a needy time:\\nWhat are they, I beseech your ladyship?'], ['Juliet', 'Madam, in happy time, what day is that?'], ['Juliet', \"Now, by Saint Peter's Church and Peter too,\\nHe shall not make me there a joyful bride.\\nI wonder at this haste; that I must wed\\nEre he, that should be husband, comes to woo.\\nI pray you, tell my lord and father, madam,\\nI will not marry yet; and, when I do, I swear,\\nIt shall be Romeo, whom you know I hate,\\nRather than Paris. These are news indeed!\"], ['Juliet', 'Not proud, you have; but thankful, that you have:\\nProud can I never be of what I hate;\\nBut thankful even for hate, that is meant love.'], ['Juliet', 'Good father, I beseech you on my knees,\\nHear me with patience but to speak a word.'], ['Juliet', 'Is there no pity sitting in the clouds,\\nThat sees into the bottom of my grief?\\nO, sweet my mother, cast me not away!\\nDelay this marriage for a month, a week;\\nOr, if you do not, make the bridal bed\\nIn that dim monument where Tybalt lies.'], ['Juliet', \"O God!--O nurse, how shall this be prevented?\\nMy husband is on earth, my faith in heaven;\\nHow shall that faith return again to earth,\\nUnless that husband send it me from heaven\\nBy leaving earth? comfort me, counsel me.\\nAlack, alack, that heaven should practise stratagems\\nUpon so soft a subject as myself!\\nWhat say'st thou? hast thou not a word of joy?\\nSome comfort, nurse.\"], ['Juliet', 'Speakest thou from thy heart?'], ['Juliet', 'Amen!'], ['Juliet', \"Well, thou hast comforted me marvellous much.\\nGo in: and tell my lady I am gone,\\nHaving displeased my father, to Laurence' cell,\\nTo make confession and to be absolved.\"], ['Juliet', \"Ancient damnation! O most wicked fiend!\\nIs it more sin to wish me thus forsworn,\\nOr to dispraise my lord with that same tongue\\nWhich she hath praised him with above compare\\nSo many thousand times? Go, counsellor;\\nThou and my bosom henceforth shall be twain.\\nI'll to the friar, to know his remedy:\\nIf all else fail, myself have power to die.\"], ['Juliet', 'That may be, sir, when I may be a wife.'], ['Juliet', 'What must be shall be.'], ['Juliet', 'To answer that, I should confess to you.'], ['Juliet', 'I will confess to you that I love him.'], ['Juliet', 'If I do so, it will be of more price,\\nBeing spoke behind your back, than to your face.'], ['Juliet', 'The tears have got small victory by that;\\nFor it was bad enough before their spite.'], ['Juliet', 'That is no slander, sir, which is a truth;\\nAnd what I spake, I spake it to my face.'], ['Juliet', 'It may be so, for it is not mine own.\\nAre you at leisure, holy father, now;\\nOr shall I come to you at evening mass?'], ['Juliet', 'O shut the door! and when thou hast done so,\\nCome weep with me; past hope, past cure, past help!'], ['Juliet', \"Tell me not, friar, that thou hear'st of this,\\nUnless thou tell me how I may prevent it:\\nIf, in thy wisdom, thou canst give no help,\\nDo thou but call my resolution wise,\\nAnd with this knife I'll help it presently.\\nGod join'd my heart and Romeo's, thou our hands;\\nAnd ere this hand, by thee to Romeo seal'd,\\nShall be the label to another deed,\\nOr my true heart with treacherous revolt\\nTurn to another, this shall slay them both:\\nTherefore, out of thy long-experienced time,\\nGive me some present counsel, or, behold,\\n'Twixt my extremes and me this bloody knife\\nShall play the umpire, arbitrating that\\nWhich the commission of thy years and art\\nCould to no issue of true honour bring.\\nBe not so long to speak; I long to die,\\nIf what thou speak'st speak not of remedy.\"], ['Juliet', \"O, bid me leap, rather than marry Paris,\\nFrom off the battlements of yonder tower;\\nOr walk in thievish ways; or bid me lurk\\nWhere serpents are; chain me with roaring bears;\\nOr shut me nightly in a charnel-house,\\nO'er-cover'd quite with dead men's rattling bones,\\nWith reeky shanks and yellow chapless skulls;\\nOr bid me go into a new-made grave\\nAnd hide me with a dead man in his shroud;\\nThings that, to hear them told, have made me tremble;\\nAnd I will do it without fear or doubt,\\nTo live an unstain'd wife to my sweet love.\"], ['Juliet', 'Give me, give me! O, tell not me of fear!'], ['Juliet', 'Love give me strength! and strength shall help afford.\\nFarewell, dear father!'], ['Juliet', \"Where I have learn'd me to repent the sin\\nOf disobedient opposition\\nTo you and your behests, and am enjoin'd\\nBy holy Laurence to fall prostrate here,\\nAnd beg your pardon: pardon, I beseech you!\\nHenceforward I am ever ruled by you.\"], ['Juliet', \"I met the youthful lord at Laurence' cell;\\nAnd gave him what becomed love I might,\\nNot step o'er the bounds of modesty.\"], ['Juliet', 'Nurse, will you go with me into my closet,\\nTo help me sort such needful ornaments\\nAs you think fit to furnish me to-morrow?'], ['Juliet', \"Ay, those attires are best: but, gentle nurse,\\nI pray thee, leave me to myself to-night,\\nFor I have need of many orisons\\nTo move the heavens to smile upon my state,\\nWhich, well thou know'st, is cross, and full of sin.\"], ['Juliet', \"No, madam; we have cull'd such necessaries\\nAs are behoveful for our state to-morrow:\\nSo please you, let me now be left alone,\\nAnd let the nurse this night sit up with you;\\nFor, I am sure, you have your hands full all,\\nIn this so sudden business.\"], ['Juliet', \"Farewell! God knows when we shall meet again.\\nI have a faint cold fear thrills through my veins,\\nThat almost freezes up the heat of life:\\nI'll call them back again to comfort me:\\nNurse! What should she do here?\\nMy dismal scene I needs must act alone.\\nCome, vial.\\nWhat if this mixture do not work at all?\\nShall I be married then to-morrow morning?\\nNo, no: this shall forbid it: lie thou there.\\n[Laying down her dagger]\\nWhat if it be a poison, which the friar\\nSubtly hath minister'd to have me dead,\\nLest in this marriage he should be dishonour'd,\\nBecause he married me before to Romeo?\\nI fear it is: and yet, methinks, it should not,\\nFor he hath still been tried a holy man.\\nHow if, when I am laid into the tomb,\\nI wake before the time that Romeo\\nCome to redeem me? there's a fearful point!\\nShall I not, then, be stifled in the vault,\\nTo whose foul mouth no healthsome air breathes in,\\nAnd there die strangled ere my Romeo comes?\\nOr, if I live, is it not very like,\\nThe horrible conceit of death and night,\\nTogether with the terror of the place,--\\nAs in a vault, an ancient receptacle,\\nWhere, for these many hundred years, the bones\\nOf all my buried ancestors are packed:\\nWhere bloody Tybalt, yet but green in earth,\\nLies festering in his shroud; where, as they say,\\nAt some hours in the night spirits resort;--\\nAlack, alack, is it not like that I,\\nSo early waking, what with loathsome smells,\\nAnd shrieks like mandrakes' torn out of the earth,\\nThat living mortals, hearing them, run mad:--\\nO, if I wake, shall I not be distraught,\\nEnvironed with all these hideous fears?\\nAnd madly play with my forefather's joints?\\nAnd pluck the mangled Tybalt from his shroud?\\nAnd, in this rage, with some great kinsman's bone,\\nAs with a club, dash out my desperate brains?\\nO, look! methinks I see my cousin's ghost\\nSeeking out Romeo, that did spit his body\\nUpon a rapier's point: stay, Tybalt, stay!\\nRomeo, I come! this do I drink to thee.\"], ['Romeo', \"If I may trust the flattering truth of sleep,\\nMy dreams presage some joyful news at hand:\\nMy bosom's lord sits lightly in his throne;\\nAnd all this day an unaccustom'd spirit\\nLifts me above the ground with cheerful thoughts.\\nI dreamt my lady came and found me dead--\\nStrange dream, that gives a dead man leave\\nto think!--\\nAnd breathed such life with kisses in my lips,\\nThat I revived, and was an emperor.\\nAh me! how sweet is love itself possess'd,\\nWhen but love's shadows are so rich in joy!\\n[Enter BALTHASAR, booted]\\nNews from Verona!--How now, Balthasar!\\nDost thou not bring me letters from the friar?\\nHow doth my lady? Is my father well?\\nHow fares my Juliet? that I ask again;\\nFor nothing can be ill, if she be well.\"], ['Romeo', \"Is it even so? then I defy you, stars!\\nThou know'st my lodging: get me ink and paper,\\nAnd hire post-horses; I will hence to-night.\"], ['Romeo', 'Tush, thou art deceived:\\nLeave me, and do the thing I bid thee do.\\nHast thou no letters to me from the friar?'], ['Romeo', \"No matter: get thee gone,\\nAnd hire those horses; I'll be with thee straight.\\n[Exit BALTHASAR]\\nWell, Juliet, I will lie with thee to-night.\\nLet's see for means: O mischief, thou art swift\\nTo enter in the thoughts of desperate men!\\nI do remember an apothecary,--\\nAnd hereabouts he dwells,--which late I noted\\nIn tatter'd weeds, with overwhelming brows,\\nCulling of simples; meagre were his looks,\\nSharp misery had worn him to the bones:\\nAnd in his needy shop a tortoise hung,\\nAn alligator stuff'd, and other skins\\nOf ill-shaped fishes; and about his shelves\\nA beggarly account of empty boxes,\\nGreen earthen pots, bladders and musty seeds,\\nRemnants of packthread and old cakes of roses,\\nWere thinly scatter'd, to make up a show.\\nNoting this penury, to myself I said\\n'An if a man did need a poison now,\\nWhose sale is present death in Mantua,\\nHere lives a caitiff wretch would sell it him.'\\nO, this same thought did but forerun my need;\\nAnd this same needy man must sell it me.\\nAs I remember, this should be the house.\\nBeing holiday, the beggar's shop is shut.\\nWhat, ho! apothecary!\"], ['Romeo', \"Come hither, man. I see that thou art poor:\\nHold, there is forty ducats: let me have\\nA dram of poison, such soon-speeding gear\\nAs will disperse itself through all the veins\\nThat the life-weary taker may fall dead\\nAnd that the trunk may be discharged of breath\\nAs violently as hasty powder fired\\nDoth hurry from the fatal cannon's womb.\"], ['Romeo', \"Art thou so bare and full of wretchedness,\\nAnd fear'st to die? famine is in thy cheeks,\\nNeed and oppression starveth in thine eyes,\\nContempt and beggary hangs upon thy back;\\nThe world is not thy friend nor the world's law;\\nThe world affords no law to make thee rich;\\nThen be not poor, but break it, and take this.\"], ['Romeo', 'I pay thy poverty, and not thy will.'], ['Romeo', \"There is thy gold, worse poison to men's souls,\\nDoing more murders in this loathsome world,\\nThan these poor compounds that thou mayst not sell.\\nI sell thee poison; thou hast sold me none.\\nFarewell: buy food, and get thyself in flesh.\\nCome, cordial and not poison, go with me\\nTo Juliet's grave; for there must I use thee.\"], ['Romeo', \"Give me that mattock and the wrenching iron.\\nHold, take this letter; early in the morning\\nSee thou deliver it to my lord and father.\\nGive me the light: upon thy life, I charge thee,\\nWhate'er thou hear'st or seest, stand all aloof,\\nAnd do not interrupt me in my course.\\nWhy I descend into this bed of death,\\nIs partly to behold my lady's face;\\nBut chiefly to take thence from her dead finger\\nA precious ring, a ring that I must use\\nIn dear employment: therefore hence, be gone:\\nBut if thou, jealous, dost return to pry\\nIn what I further shall intend to do,\\nBy heaven, I will tear thee joint by joint\\nAnd strew this hungry churchyard with thy limbs:\\nThe time and my intents are savage-wild,\\nMore fierce and more inexorable far\\nThan empty tigers or the roaring sea.\"], ['Romeo', 'So shalt thou show me friendship. Take thou that:\\nLive, and be prosperous: and farewell, good fellow.'], ['Romeo', \"Thou detestable maw, thou womb of death,\\nGorged with the dearest morsel of the earth,\\nThus I enforce thy rotten jaws to open,\\nAnd, in despite, I'll cram thee with more food!\"], ['Romeo', \"I must indeed; and therefore came I hither.\\nGood gentle youth, tempt not a desperate man;\\nFly hence, and leave me: think upon these gone;\\nLet them affright thee. I beseech thee, youth,\\nPut not another sin upon my head,\\nBy urging me to fury: O, be gone!\\nBy heaven, I love thee better than myself;\\nFor I come hither arm'd against myself:\\nStay not, be gone; live, and hereafter say,\\nA madman's mercy bade thee run away.\"], ['Romeo', 'Wilt thou provoke me? then have at thee, boy!'], ['Romeo', \"In faith, I will. Let me peruse this face.\\nMercutio's kinsman, noble County Paris!\\nWhat said my man, when my betossed soul\\nDid not attend him as we rode? I think\\nHe told me Paris should have married Juliet:\\nSaid he not so? or did I dream it so?\\nOr am I mad, hearing him talk of Juliet,\\nTo think it was so? O, give me thy hand,\\nOne writ with me in sour misfortune's book!\\nI'll bury thee in a triumphant grave;\\nA grave? O no! a lantern, slaughter'd youth,\\nFor here lies Juliet, and her beauty makes\\nThis vault a feasting presence full of light.\\nDeath, lie thou there, by a dead man interr'd.\\n[Laying PARIS in the tomb]\\nHow oft when men are at the point of death\\nHave they been merry! which their keepers call\\nA lightning before death: O, how may I\\nCall this a lightning? O my love! my wife!\\nDeath, that hath suck'd the honey of thy breath,\\nHath had no power yet upon thy beauty:\\nThou art not conquer'd; beauty's ensign yet\\nIs crimson in thy lips and in thy cheeks,\\nAnd death's pale flag is not advanced there.\\nTybalt, liest thou there in thy bloody sheet?\\nO, what more favour can I do to thee,\\nThan with that hand that cut thy youth in twain\\nTo sunder his that was thine enemy?\\nForgive me, cousin! Ah, dear Juliet,\\nWhy art thou yet so fair? shall I believe\\nThat unsubstantial death is amorous,\\nAnd that the lean abhorred monster keeps\\nThee here in dark to be his paramour?\\nFor fear of that, I still will stay with thee;\\nAnd never from this palace of dim night\\nDepart again: here, here will I remain\\nWith worms that are thy chamber-maids; O, here\\nWill I set up my everlasting rest,\\nAnd shake the yoke of inauspicious stars\\nFrom this world-wearied flesh. Eyes, look your last!\\nArms, take your last embrace! and, lips, O you\\nThe doors of breath, seal with a righteous kiss\\nA dateless bargain to engrossing death!\\nCome, bitter conduct, come, unsavoury guide!\\nThou desperate pilot, now at once run on\\nThe dashing rocks thy sea-sick weary bark!\\nHere's to my love!\\n[Drinks]\\nO true apothecary!\\nThy drugs are quick. Thus with a kiss I die.\\n[Dies]\\n[Enter, at the other end of the churchyard, FRIAR]\\nLAURENCE, with a lantern, crow, and spade]\"], ['Juliet', 'O comfortable friar! where is my lord?\\nI do remember well where I should be,\\nAnd there I am. Where is my Romeo?'], ['Juliet', \"Go, get thee hence, for I will not away.\\n[Exit FRIAR LAURENCE]\\nWhat's here? a cup, closed in my true love's hand?\\nPoison, I see, hath been his timeless end:\\nO churl! drunk all, and left no friendly drop\\nTo help me after? I will kiss thy lips;\\nHaply some poison yet doth hang on them,\\nTo make die with a restorative.\\n[Kisses him]\\nThy lips are warm.\"], ['Juliet', \"Yea, noise? then I'll be brief. O happy dagger!\\n[Snatching ROMEO's dagger]\\nThis is thy sheath;\\n[Stabs herself]\\nthere rust, and let me die.\"])\n"
          ]
        }
      ],
      "execution_count": 1,
      "metadata": {
        "nteract": {
          "transient": {
            "deleting": false
          }
        },
        "tags": [],
        "id": "KlPQ0FgSILgZ",
        "execution": {
          "iopub.status.busy": "2022-07-11T21:02:49.644Z",
          "iopub.execute_input": "2022-07-11T21:02:49.649Z",
          "iopub.status.idle": "2022-07-11T21:02:49.657Z",
          "shell.execute_reply": "2022-07-11T21:02:49.576Z"
        },
        "colab": {
          "base_uri": "https://localhost:8080/"
        },
        "outputId": "8a803894-1d17-4564-d242-4ece1d3e8557"
      }
    },
    {
      "cell_type": "markdown",
      "source": [
        "**b)**  **[10 pts]**  Write a function that reads the tuple of dialogues you created in the previous question and returns the total number of paragraphs for each character as a dictionary.\n",
        "\n",
        "The returned information should look like (the numbers given below may not be correct):  \n",
        "`{'Benvolio': 60, 'Tybalt': 10, 'Romeo': 160, 'Juliet': 110}`"
      ],
      "metadata": {
        "nteract": {
          "transient": {
            "deleting": false
          }
        },
        "id": "pt9UevBLILgc"
      }
    },
    {
      "cell_type": "code",
      "source": [
        "#INSERT YOUR ANSWER HERE.\n",
        "def countChar():\n",
        "  dialogueCount = {}\n",
        "  dialogueList = readCsv()\n",
        "  for entry in dialogueList:\n",
        "      character = entry[0]\n",
        "      dialogueCount[character] = dialogueCount.get(character, 0) + 1\n",
        "  return dialogueCount\n",
        "\n",
        "dialogueCount = countChar()\n",
        "print(dialogueCount)"
      ],
      "outputs": [
        {
          "output_type": "stream",
          "name": "stdout",
          "text": [
            "{'Benvolio': 64, 'Tybalt': 17, 'Romeo': 163, 'Juliet': 118}\n"
          ]
        }
      ],
      "execution_count": 2,
      "metadata": {
        "nteract": {
          "transient": {
            "deleting": false
          }
        },
        "tags": [],
        "id": "QXoPJLR2ILgc",
        "execution": {
          "iopub.status.busy": "2022-07-11T21:02:49.665Z",
          "iopub.execute_input": "2022-07-11T21:02:49.673Z",
          "iopub.status.idle": "2022-07-11T21:02:49.680Z",
          "shell.execute_reply": "2022-07-11T21:02:49.595Z"
        },
        "colab": {
          "base_uri": "https://localhost:8080/"
        },
        "outputId": "554f5d3f-a933-4afe-cada-676212b6faa5"
      }
    },
    {
      "cell_type": "markdown",
      "source": [
        "**c) [20 pts]**  Write a function that reads the tuple of dialogues you created earlier, in Q1.a, and returns a dictionary, where the keys are the paragraphs, and the values are the respective lengths.  Then print out only the paragraphs with the highest three values."
      ],
      "metadata": {
        "nteract": {
          "transient": {
            "deleting": false
          }
        },
        "id": "gk9BUDEJILgd"
      }
    },
    {
      "cell_type": "code",
      "source": [
        "#INSERT YOUR ANSWER HERE.\n",
        "def paragraphLength():\n",
        "  paragraphCount = {}\n",
        "  dialogueList = readCsv()\n",
        "  for entry in dialogueList:\n",
        "      paragraph = entry[1]\n",
        "      paragraphCount[paragraph] = len(paragraph)\n",
        "  return paragraphCount\n",
        "\n",
        "paragraphCount = paragraphLength()\n",
        "highestThree = sorted(paragraphCount, key=paragraphCount.get, reverse=True)[:3]\n",
        "for paragraph in highestThree:\n",
        "  print(paragraph, paragraphCount[paragraph])\n"
      ],
      "outputs": [
        {
          "output_type": "stream",
          "name": "stdout",
          "text": [
            "In faith, I will. Let me peruse this face.\n",
            "Mercutio's kinsman, noble County Paris!\n",
            "What said my man, when my betossed soul\n",
            "Did not attend him as we rode? I think\n",
            "He told me Paris should have married Juliet:\n",
            "Said he not so? or did I dream it so?\n",
            "Or am I mad, hearing him talk of Juliet,\n",
            "To think it was so? O, give me thy hand,\n",
            "One writ with me in sour misfortune's book!\n",
            "I'll bury thee in a triumphant grave;\n",
            "A grave? O no! a lantern, slaughter'd youth,\n",
            "For here lies Juliet, and her beauty makes\n",
            "This vault a feasting presence full of light.\n",
            "Death, lie thou there, by a dead man interr'd.\n",
            "[Laying PARIS in the tomb]\n",
            "How oft when men are at the point of death\n",
            "Have they been merry! which their keepers call\n",
            "A lightning before death: O, how may I\n",
            "Call this a lightning? O my love! my wife!\n",
            "Death, that hath suck'd the honey of thy breath,\n",
            "Hath had no power yet upon thy beauty:\n",
            "Thou art not conquer'd; beauty's ensign yet\n",
            "Is crimson in thy lips and in thy cheeks,\n",
            "And death's pale flag is not advanced there.\n",
            "Tybalt, liest thou there in thy bloody sheet?\n",
            "O, what more favour can I do to thee,\n",
            "Than with that hand that cut thy youth in twain\n",
            "To sunder his that was thine enemy?\n",
            "Forgive me, cousin! Ah, dear Juliet,\n",
            "Why art thou yet so fair? shall I believe\n",
            "That unsubstantial death is amorous,\n",
            "And that the lean abhorred monster keeps\n",
            "Thee here in dark to be his paramour?\n",
            "For fear of that, I still will stay with thee;\n",
            "And never from this palace of dim night\n",
            "Depart again: here, here will I remain\n",
            "With worms that are thy chamber-maids; O, here\n",
            "Will I set up my everlasting rest,\n",
            "And shake the yoke of inauspicious stars\n",
            "From this world-wearied flesh. Eyes, look your last!\n",
            "Arms, take your last embrace! and, lips, O you\n",
            "The doors of breath, seal with a righteous kiss\n",
            "A dateless bargain to engrossing death!\n",
            "Come, bitter conduct, come, unsavoury guide!\n",
            "Thou desperate pilot, now at once run on\n",
            "The dashing rocks thy sea-sick weary bark!\n",
            "Here's to my love!\n",
            "[Drinks]\n",
            "O true apothecary!\n",
            "Thy drugs are quick. Thus with a kiss I die.\n",
            "[Dies]\n",
            "[Enter, at the other end of the churchyard, FRIAR]\n",
            "LAURENCE, with a lantern, crow, and spade] 2129\n",
            "Farewell! God knows when we shall meet again.\n",
            "I have a faint cold fear thrills through my veins,\n",
            "That almost freezes up the heat of life:\n",
            "I'll call them back again to comfort me:\n",
            "Nurse! What should she do here?\n",
            "My dismal scene I needs must act alone.\n",
            "Come, vial.\n",
            "What if this mixture do not work at all?\n",
            "Shall I be married then to-morrow morning?\n",
            "No, no: this shall forbid it: lie thou there.\n",
            "[Laying down her dagger]\n",
            "What if it be a poison, which the friar\n",
            "Subtly hath minister'd to have me dead,\n",
            "Lest in this marriage he should be dishonour'd,\n",
            "Because he married me before to Romeo?\n",
            "I fear it is: and yet, methinks, it should not,\n",
            "For he hath still been tried a holy man.\n",
            "How if, when I am laid into the tomb,\n",
            "I wake before the time that Romeo\n",
            "Come to redeem me? there's a fearful point!\n",
            "Shall I not, then, be stifled in the vault,\n",
            "To whose foul mouth no healthsome air breathes in,\n",
            "And there die strangled ere my Romeo comes?\n",
            "Or, if I live, is it not very like,\n",
            "The horrible conceit of death and night,\n",
            "Together with the terror of the place,--\n",
            "As in a vault, an ancient receptacle,\n",
            "Where, for these many hundred years, the bones\n",
            "Of all my buried ancestors are packed:\n",
            "Where bloody Tybalt, yet but green in earth,\n",
            "Lies festering in his shroud; where, as they say,\n",
            "At some hours in the night spirits resort;--\n",
            "Alack, alack, is it not like that I,\n",
            "So early waking, what with loathsome smells,\n",
            "And shrieks like mandrakes' torn out of the earth,\n",
            "That living mortals, hearing them, run mad:--\n",
            "O, if I wake, shall I not be distraught,\n",
            "Environed with all these hideous fears?\n",
            "And madly play with my forefather's joints?\n",
            "And pluck the mangled Tybalt from his shroud?\n",
            "And, in this rage, with some great kinsman's bone,\n",
            "As with a club, dash out my desperate brains?\n",
            "O, look! methinks I see my cousin's ghost\n",
            "Seeking out Romeo, that did spit his body\n",
            "Upon a rapier's point: stay, Tybalt, stay!\n",
            "Romeo, I come! this do I drink to thee. 1924\n",
            "Gallop apace, you fiery-footed steeds,\n",
            "Towards Phoebus' lodging: such a wagoner\n",
            "As Phaethon would whip you to the west,\n",
            "And bring in cloudy night immediately.\n",
            "Spread thy close curtain, love-performing night,\n",
            "That runaway's eyes may wink and Romeo\n",
            "Leap to these arms, untalk'd of and unseen.\n",
            "Lovers can see to do their amorous rites\n",
            "By their own beauties; or, if love be blind,\n",
            "It best agrees with night. Come, civil night,\n",
            "Thou sober-suited matron, all in black,\n",
            "And learn me how to lose a winning match,\n",
            "Play'd for a pair of stainless maidenhoods:\n",
            "Hood my unmann'd blood, bating in my cheeks,\n",
            "With thy black mantle; till strange love, grown bold,\n",
            "Think true love acted simple modesty.\n",
            "Come, night; come, Romeo; come, thou day in night;\n",
            "For thou wilt lie upon the wings of night\n",
            "Whiter than new snow on a raven's back.\n",
            "Come, gentle night, come, loving, black-brow'd night,\n",
            "Give me my Romeo; and, when he shall die,\n",
            "Take him and cut him out in little stars,\n",
            "And he will make the face of heaven so fine\n",
            "That all the world will be in love with night\n",
            "And pay no worship to the garish sun.\n",
            "O, I have bought the mansion of a love,\n",
            "But not possess'd it, and, though I am sold,\n",
            "Not yet enjoy'd: so tedious is this day\n",
            "As is the night before some festival\n",
            "To an impatient child that hath new robes\n",
            "And may not wear them. O, here comes my nurse,\n",
            "And she brings news; and every tongue that speaks\n",
            "But Romeo's name speaks heavenly eloquence.\n",
            "[Enter Nurse, with cords]\n",
            "Now, nurse, what news? What hast thou there? the cords\n",
            "That Romeo bid thee fetch? 1537\n"
          ]
        }
      ],
      "execution_count": 3,
      "metadata": {
        "nteract": {
          "transient": {
            "deleting": false
          }
        },
        "tags": [],
        "id": "_xvtmnhlILge",
        "execution": {
          "iopub.status.busy": "2022-07-11T21:02:49.690Z",
          "iopub.execute_input": "2022-07-11T21:02:49.698Z",
          "iopub.status.idle": "2022-07-11T21:02:49.706Z",
          "shell.execute_reply": "2022-07-11T21:02:49.603Z"
        },
        "colab": {
          "base_uri": "https://localhost:8080/"
        },
        "outputId": "f62da6d5-b194-4ee8-a6ac-a27401708ffd"
      }
    },
    {
      "cell_type": "markdown",
      "source": [
        "**d) [20 pts]**  Write a function that reads the tuple of dialogues, you created in Q1.a, and returns a dictionary, where the keys are the words, and the values are the respective frequencies.  Then print out only the top 15 most occurred words after:\n",
        "- Removing the punctuation characters ```!\"#$%&\\'()*+,-./:;<=>?@[\\\\]^_`{|}~```\n",
        "- Converting all uppercase characters to lowercase characters\n",
        "- Removing those words with the highest 150 values or the top 150 most occurred words"
      ],
      "metadata": {
        "nteract": {
          "transient": {
            "deleting": false
          }
        },
        "id": "okowaDdyILge"
      }
    },
    {
      "cell_type": "code",
      "source": [
        "#INSERT YOUR ANSWER HERE.\n",
        "def wordFreq():\n",
        "  wordCount = {}\n",
        "  dialogueList = readCsv()\n",
        "  for entry in dialogueList:\n",
        "    paragraph = entry[1]\n",
        "    words = paragraph.split()\n",
        "    # words is a list, and we want to update wordCount for each word in that list\n",
        "    # dialogueCount[character] = dialogueCount.get(character, 0) + 1\n",
        "    for word in words:\n",
        "      #word = ''.join([letter for letter in word if letter not in \"!\\\"#$%&\\'()*+,-./:;<=>?@[\\\\]^_`{|}~\"])\n",
        "\n",
        "      # remove punctuation\n",
        "      filteredWord = \"\"\n",
        "      for letter in word:\n",
        "        if not letter in \"!\\\"#$%&\\'()*+,-./:;<=>?@[\\\\]^_`{|}~\":\n",
        "          filteredWord += letter\n",
        "      \n",
        "      #make it all lowercase\n",
        "      filteredWord = filteredWord.lower()\n",
        "\n",
        "      wordCount[filteredWord] = wordCount.get(filteredWord, 0) + 1\n",
        "  return wordCount\n",
        "\n",
        "wordCount = wordFreq()\n",
        "print(wordCount)\n",
        "#print(sorted(wordCount, key=wordCount.get, reverse=True))\n",
        "wCMinus150 = sorted(wordCount, key=wordCount.get, reverse=True)[150:]\n",
        "topFifteen = wCMinus150[:15]\n",
        "print(topFifteen)\n",
        "for word in topFifteen:\n",
        "  print(word, wordCount[word])"
      ],
      "outputs": [
        {
          "output_type": "stream",
          "name": "stdout",
          "text": [
            "{'part': 12, 'fools': 2, 'put': 6, 'up': 14, 'your': 23, 'swords': 2, 'you': 57, 'know': 14, 'not': 122, 'what': 84, 'do': 50, 'art': 27, 'thou': 149, 'drawn': 2, 'among': 2, 'these': 16, 'heartless': 1, 'hinds': 1, 'turn': 8, 'thee': 80, 'benvolio': 3, 'look': 11, 'upon': 22, 'thy': 80, 'death': 32, 'i': 295, 'but': 81, 'keep': 4, 'the': 256, 'peace': 9, 'sword': 2, 'or': 40, 'manage': 2, 'it': 99, 'to': 228, 'men': 7, 'with': 112, 'me': 144, 'and': 282, 'talk': 7, 'of': 161, 'hate': 10, 'word': 15, 'as': 51, 'hell': 5, 'all': 34, 'montagues': 1, 'have': 59, 'at': 33, 'coward': 1, 'they': 24, 'fight': 1, 'enter': 8, 'several': 1, 'both': 10, 'houses': 1, 'who': 19, 'join': 1, 'fray': 2, 'then': 28, 'citizens': 2, 'clubs': 1, 'here': 34, 'were': 16, 'servants': 1, 'adversary': 1, 'yours': 3, 'close': 4, 'fighting': 1, 'ere': 9, 'did': 21, 'approach': 1, 'drew': 1, 'them': 16, 'in': 138, 'instant': 1, 'came': 5, 'fiery': 1, 'tybalt': 28, 'his': 51, 'prepared': 1, 'which': 24, 'he': 43, 'breathed': 2, 'defiance': 1, 'my': 185, 'ears': 3, 'swung': 1, 'about': 2, 'head': 6, 'cut': 3, 'winds': 1, 'nothing': 5, 'hurt': 4, 'withal': 3, 'hissd': 1, 'him': 43, 'scorn': 5, 'while': 3, 'we': 17, 'interchanging': 1, 'thrusts': 1, 'blows': 3, 'more': 40, 'fought': 1, 'on': 27, 'till': 11, 'prince': 4, 'parted': 1, 'either': 8, 'madam': 9, 'an': 29, 'hour': 8, 'before': 9, 'worshippd': 1, 'sun': 7, 'peerd': 1, 'forth': 1, 'golden': 2, 'window': 4, 'east': 3, 'a': 171, 'troubled': 1, 'mind': 3, 'drave': 1, 'walk': 2, 'abroad': 2, 'where': 26, 'underneath': 2, 'grove': 1, 'sycamore': 1, 'that': 186, 'westward': 1, 'rooteth': 1, 'from': 34, 'citys': 1, 'side': 1, 'so': 69, 'early': 6, 'walking': 1, 'see': 13, 'son': 1, 'towards': 2, 'made': 8, 'was': 24, 'ware': 2, 'stole': 1, 'into': 6, 'covert': 1, 'wood': 2, 'measuring': 1, 'affections': 2, 'by': 50, 'own': 9, 'most': 5, 'are': 25, 'busied': 1, 'when': 28, 'theyre': 1, 'alone': 3, 'pursued': 1, 'humour': 1, 'pursuing': 1, 'gladly': 2, 'shunnd': 1, 'fled': 2, 'noble': 3, 'uncle': 4, 'cause': 2, 'importuned': 1, 'any': 8, 'means': 4, 'comes': 11, 'please': 2, 'step': 2, 'aside': 4, 'ill': 34, 'grievance': 1, 'be': 103, 'much': 12, 'denied': 1, 'goodmorrow': 1, 'cousin': 9, 'is': 155, 'day': 12, 'young': 4, 'new': 5, 'struck': 2, 'nine': 4, 'ay': 12, 'sad': 3, 'hours': 4, 'seem': 1, 'long': 5, 'father': 15, 'went': 1, 'hence': 11, 'fast': 1, 'sadness': 4, 'lengthens': 1, 'romeos': 8, 'having': 4, 'makes': 5, 'short': 2, 'love': 82, 'out': 21, 'her': 41, 'favour': 2, 'am': 32, 'alas': 2, 'gentle': 8, 'view': 2, 'should': 24, 'tyrannous': 1, 'rough': 3, 'proof': 3, 'whose': 8, 'muffled': 1, 'still': 8, 'without': 6, 'eyes': 19, 'pathways': 1, 'will': 52, 'shall': 49, 'dine': 1, 'o': 73, 'yet': 28, 'tell': 22, 'for': 83, 'heard': 2, 'heres': 4, 'why': 15, 'brawling': 1, 'loving': 4, 'thing': 6, 'first': 3, 'create': 1, 'heavy': 7, 'lightness': 1, 'serious': 1, 'vanity': 1, 'misshapen': 1, 'chaos': 1, 'wellseeming': 1, 'forms': 1, 'feather': 1, 'lead': 3, 'bright': 4, 'smoke': 2, 'cold': 3, 'fire': 3, 'sick': 4, 'health': 1, 'stillwaking': 1, 'sleep': 5, 'this': 90, 'feel': 3, 'no': 48, 'dost': 13, 'laugh': 1, 'coz': 3, 'rather': 3, 'weep': 5, 'good': 34, 'heart': 15, 'hearts': 3, 'oppression': 2, 'such': 24, 'loves': 10, 'transgression': 1, 'griefs': 2, 'mine': 19, 'lie': 5, 'breast': 5, 'wilt': 15, 'propagate': 1, 'prest': 1, 'thine': 8, 'hast': 13, 'shown': 2, 'doth': 18, 'add': 1, 'grief': 6, 'too': 29, 'raised': 1, 'fume': 1, 'sighs': 1, 'being': 11, 'purged': 2, 'sparkling': 1, 'lovers': 5, 'vexd': 2, 'sea': 4, 'nourishd': 1, 'tears': 5, 'else': 10, 'madness': 1, 'discreet': 1, 'choking': 1, 'gall': 2, 'preserving': 1, 'sweet': 25, 'farewell': 16, 'soft': 3, 'go': 17, 'along': 2, 'if': 46, 'leave': 7, 'wrong': 2, 'tut': 3, 'lost': 2, 'myself': 9, 'romeo': 58, 'hes': 1, 'some': 23, 'other': 12, 'groan': 2, 'sadly': 1, 'bid': 9, 'man': 25, 'make': 15, 'ah': 5, 'urged': 3, 'one': 18, 'woman': 1, 'aimd': 1, 'near': 3, 'supposed': 1, 'loved': 1, 'right': 2, 'markman': 1, 'shes': 1, 'fair': 22, 'mark': 2, 'soonest': 1, 'hit': 4, 'well': 22, 'miss': 1, 'shell': 1, 'cupids': 1, 'arrow': 1, 'she': 46, 'hath': 26, 'dians': 1, 'wit': 2, 'strong': 1, 'chastity': 1, 'armd': 2, 'weak': 1, 'childish': 1, 'bow': 2, 'lives': 5, 'unharmd': 1, 'stay': 14, 'siege': 1, 'terms': 1, 'nor': 10, 'bide': 1, 'encounter': 2, 'assailing': 1, 'ope': 1, 'lap': 1, 'saintseducing': 1, 'gold': 2, 'rich': 8, 'beauty': 10, 'only': 3, 'poor': 9, 'dies': 3, 'store': 1, 'sworn': 2, 'live': 9, 'chaste': 1, 'sparing': 1, 'huge': 1, 'waste': 1, 'starved': 1, 'severity': 1, 'cuts': 1, 'off': 4, 'posterity': 1, 'wise': 3, 'wisely': 1, 'merit': 1, 'bliss': 1, 'making': 1, 'despair': 2, 'forsworn': 2, 'vow': 3, 'dead': 18, 'now': 26, 'ruled': 2, 'forget': 7, 'think': 12, 'teach': 3, 'how': 29, 'giving': 1, 'liberty': 3, 'unto': 4, 'examine': 1, 'beauties': 3, 'tis': 12, 'way': 4, 'call': 11, 'hers': 4, 'exquisite': 1, 'question': 1, 'happy': 3, 'masks': 1, 'kiss': 8, 'ladies': 2, 'brows': 2, 'black': 4, 'us': 8, 'hide': 3, 'strucken': 1, 'blind': 3, 'cannot': 10, 'precious': 2, 'treasure': 1, 'eyesight': 2, 'show': 7, 'mistress': 3, 'passing': 2, 'serve': 2, 'note': 1, 'may': 22, 'read': 2, 'passd': 1, 'canst': 5, 'pay': 3, 'doctrine': 1, 'die': 14, 'debt': 2, 'burns': 1, 'anothers': 3, 'burning': 1, 'pain': 1, 'lessend': 1, 'anguish': 1, 'giddy': 1, 'holp': 1, 'backward': 1, 'turning': 1, 'desperate': 5, 'cures': 1, 'languish': 1, 'take': 16, 'infection': 1, 'eye': 10, 'rank': 1, 'poison': 12, 'old': 5, 'plaintainleaf': 1, 'excellent': 1, 'pray': 9, 'broken': 1, 'shin': 1, 'mad': 5, 'bound': 5, 'than': 31, 'madman': 1, 'shut': 5, 'prison': 2, 'kept': 1, 'food': 3, 'whippd': 1, 'tormented': 1, 'andgodden': 1, 'fellow': 4, 'fortune': 5, 'misery': 2, 'letters': 4, 'language': 1, 'can': 16, 'reads': 1, 'signior': 3, 'martino': 1, 'wife': 6, 'daughters': 2, 'county': 2, 'anselme': 1, 'beauteous': 2, 'sisters': 1, 'lady': 12, 'widow': 1, 'vitravio': 1, 'placentio': 1, 'lovely': 1, 'nieces': 1, 'mercutio': 12, 'brother': 1, 'valentine': 1, 'capulet': 5, 'niece': 1, 'rosaline': 4, 'livia': 1, 'valentio': 1, 'lucio': 1, 'lively': 1, 'helena': 1, 'assembly': 1, 'whither': 2, 'come': 40, 'house': 3, 'indeed': 5, 'askd': 1, 'same': 4, 'ancient': 3, 'feast': 2, 'capulets': 3, 'sups': 1, 'whom': 4, 'lovest': 1, 'admired': 1, 'verona': 3, 'thither': 1, 'unattainted': 1, 'compare': 2, 'face': 11, 'swan': 1, 'crow': 2, 'devout': 1, 'religion': 1, 'maintains': 1, 'falsehood': 1, 'fires': 1, 'often': 1, 'drownd': 1, 'could': 5, 'never': 8, 'transparent': 1, 'heretics': 1, 'burnt': 2, 'liars': 1, 'fairer': 1, 'allseeing': 1, 'neer': 5, 'saw': 4, 'match': 3, 'since': 3, 'world': 10, 'begun': 1, 'none': 5, 'herself': 3, 'poised': 1, 'crystal': 1, 'scales': 1, 'let': 22, 'there': 30, 'weighd': 1, 'ladys': 2, 'against': 3, 'maid': 4, 'shining': 1, 'scant': 1, 'shows': 4, 'best': 6, 'sight': 4, 'rejoice': 1, 'splendor': 1, 'calls': 5, 'stint': 1, 'nurse': 29, 'say': 18, 'honour': 4, 'dream': 6, 'like': 20, 'looking': 1, 'liking': 1, 'move': 5, 'deep': 2, 'endart': 1, 'consent': 2, 'gives': 3, 'strength': 3, 'fly': 4, 'speech': 1, 'spoke': 6, 'our': 17, 'excuse': 5, 'apology': 1, 'date': 2, 'prolixity': 1, 'cupid': 2, 'hoodwinkd': 1, 'scarf': 1, 'bearing': 1, 'tartars': 1, 'painted': 1, 'lath': 1, 'scaring': 1, 'crowkeeper': 1, 'withoutbook': 1, 'prologue': 1, 'faintly': 1, 'after': 2, 'prompter': 1, 'entrance': 1, 'measure': 7, 'gone': 17, 'give': 17, 'torch': 2, 'ambling': 1, 'bear': 4, 'light': 16, 'believe': 4, 'dancing': 1, 'shoes': 1, 'nimble': 1, 'soles': 1, 'soul': 7, 'stakes': 1, 'ground': 3, 'sore': 1, 'enpierced': 1, 'shaft': 1, 'soar': 1, 'feathers': 1, 'pitch': 1, 'above': 6, 'dull': 2, 'woe': 8, 'under': 1, 'burden': 1, 'sink': 1, 'tender': 3, 'rude': 2, 'boisterous': 1, 'pricks': 1, 'thorn': 1, 'knock': 1, 'sooner': 1, 'every': 5, 'betake': 1, 'legs': 1, 'wantons': 2, 'tickle': 1, 'senseless': 1, 'rushes': 2, 'their': 16, 'heels': 1, 'proverbd': 1, 'grandsire': 1, 'phrase': 1, 'candleholder': 1, 'game': 1, 'done': 5, 'nay': 6, 'thats': 3, 'mean': 3, 'going': 2, 'mask': 2, 'dreamd': 1, 'tonight': 7, 'bed': 5, 'asleep': 1, 'things': 2, 'true': 14, 'talkst': 1, 'wind': 1, 'ourselves': 1, 'supper': 2, 'late': 5, 'fear': 7, 'misgives': 1, 'consequence': 1, 'hanging': 1, 'stars': 6, 'bitterly': 1, 'begin': 1, 'fearful': 3, 'nights': 3, 'revels': 1, 'expire': 1, 'term': 2, 'despised': 2, 'life': 9, 'closed': 2, 'vile': 4, 'forfeit': 1, 'untimely': 2, 'steerage': 1, 'course': 2, 'direct': 1, 'sail': 1, 'lusty': 1, 'gentlemen': 3, 'strike': 2, 'drum': 1, 'servingman': 1, 'enrich': 1, 'hand': 19, 'yonder': 6, 'knight': 2, 'torches': 1, 'burn': 1, 'seems': 1, 'hangs': 2, 'cheek': 5, 'night': 37, 'jewel': 1, 'ethiopes': 1, 'ear': 2, 'use': 5, 'earth': 12, 'dear': 17, 'snowy': 1, 'dove': 1, 'trooping': 1, 'crows': 1, 'oer': 3, 'fellows': 1, 'watch': 1, 'place': 5, 'stand': 8, 'touching': 1, 'blessed': 5, 'forswear': 1, 'voice': 3, 'montague': 7, 'fetch': 2, 'rapier': 2, 'boy': 4, 'dares': 3, 'slave': 1, 'hither': 8, 'coverd': 1, 'antic': 1, 'fleer': 1, 'solemnity': 2, 'stock': 1, 'kin': 1, 'hold': 6, 'sin': 10, 'foe': 2, 'villain': 11, 'spite': 2, 'fits': 1, 'guest': 1, 'endure': 1, 'shame': 5, 'patience': 2, 'perforce': 1, 'wilful': 1, 'choler': 1, 'meeting': 1, 'flesh': 4, 'tremble': 2, 'different': 1, 'greeting': 2, 'withdraw': 3, 'intrusion': 1, 'seeming': 1, 'convert': 1, 'bitter': 2, 'juliet': 17, 'profane': 1, 'unworthiest': 1, 'holy': 9, 'shrine': 1, 'fine': 2, 'lips': 13, 'two': 5, 'blushing': 1, 'pilgrims': 2, 'ready': 1, 'smooth': 2, 'touch': 3, 'pilgrim': 2, 'mannerly': 1, 'devotion': 1, 'saints': 3, 'hands': 8, 'palm': 2, 'palmers': 2, 'must': 17, 'prayer': 1, 'saint': 5, 'grant': 2, 'lest': 3, 'faith': 6, 'though': 5, 'prayers': 2, 'sake': 1, 'effect': 1, 'thus': 6, 'took': 1, 'trespass': 1, 'sweetly': 1, 'again': 18, 'book': 3, 'mother': 8, 'account': 2, 'foes': 1, 'away': 9, 'begone': 1, 'sport': 1, 'unrest': 1, 'yond': 1, 'gentleman': 5, 'whats': 5, 'door': 2, 'follows': 1, 'would': 29, 'dance': 1, 'ask': 3, 'name': 19, 'married': 6, 'grave': 6, 'wedding': 1, 'sprung': 1, 'seen': 1, 'unknown': 1, 'known': 1, 'prodigious': 1, 'birth': 1, 'loathed': 2, 'enemy': 5, 'rhyme': 1, 'learnd': 2, 'even': 5, 'danced': 1, 'forward': 1, 'back': 17, 'find': 6, 'centre': 1, 'ran': 1, 'leapd': 1, 'orchard': 2, 'wall': 2, 'hear': 8, 'anger': 1, 'hid': 2, 'himself': 4, 'trees': 1, 'consorted': 1, 'humorous': 1, 'befits': 1, 'dark': 5, 'vain': 1, 'seek': 1, 'found': 4, 'jests': 1, 'scars': 1, 'felt': 1, 'wound': 1, 'appears': 1, 'through': 4, 'breaks': 1, 'arise': 1, 'kill': 4, 'envious': 5, 'moon': 4, 'already': 1, 'pale': 5, 'far': 4, 'vestal': 2, 'livery': 1, 'green': 3, 'wear': 2, 'cast': 2, 'knew': 1, 'speaks': 5, 'says': 6, 'discourses': 2, 'answer': 6, 'bold': 3, 'fairest': 1, 'heaven': 14, 'business': 3, 'entreat': 1, 'twinkle': 1, 'spheres': 1, 'return': 4, 'brightness': 1, 'those': 7, 'daylight': 2, 'lamp': 1, 'airy': 2, 'region': 1, 'stream': 1, 'birds': 1, 'sing': 1, 'leans': 1, 'glove': 1, 'might': 4, 'speak': 16, 'angel': 1, 'glorious': 1, 'winged': 1, 'messenger': 1, 'whiteupturned': 1, 'wondering': 1, 'mortals': 2, 'fall': 4, 'gaze': 2, 'bestrides': 1, 'lazypacing': 1, 'clouds': 4, 'sails': 1, 'bosom': 2, 'air': 3, 'wherefore': 4, 'deny': 2, 'refuse': 1, 'longer': 2, 'thyself': 2, 'foot': 2, 'arm': 5, 'belonging': 1, 'rose': 1, 'smell': 1, 'calld': 1, 'retain': 1, 'perfection': 1, 'owes': 1, 'title': 1, 'doff': 1, 'baptized': 1, 'henceforth': 2, 'bescreend': 1, 'stumblest': 1, 'counsel': 4, 'hateful': 2, 'because': 2, 'had': 7, 'written': 1, 'tear': 4, 'drunk': 2, 'hundred': 2, 'words': 7, 'tongues': 2, 'utterance': 1, 'sound': 4, 'neither': 1, 'dislike': 1, 'camest': 1, 'walls': 3, 'high': 5, 'hard': 1, 'climb': 1, 'considering': 1, 'kinsmen': 2, 'wings': 3, 'oerperch': 1, 'stony': 1, 'limits': 1, 'attempt': 1, 'therefore': 11, 'murder': 2, 'alack': 5, 'lies': 8, 'peril': 1, 'twenty': 2, 'enmity': 1, 'cloak': 1, 'better': 4, 'ended': 2, 'prorogued': 1, 'wanting': 1, 'direction': 1, 'foundst': 1, 'prompt': 1, 'inquire': 1, 'lent': 2, 'pilot': 2, 'wert': 2, 'vast': 1, 'shore': 1, 'washd': 1, 'farthest': 1, 'adventure': 1, 'merchandise': 1, 'knowst': 4, 'maiden': 1, 'blush': 2, 'bepaint': 1, 'fain': 4, 'dwell': 3, 'form': 1, 'compliment': 1, 'swearst': 1, 'mayst': 3, 'prove': 4, 'false': 1, 'perjuries': 1, 'jove': 1, 'laughs': 1, 'pronounce': 1, 'faithfully': 1, 'thinkst': 2, 'quickly': 1, 'won': 1, 'frown': 1, 'perverse': 1, 'woo': 2, 'truth': 4, 'fond': 1, 'havior': 1, 'trust': 3, 'cunning': 1, 'strange': 4, 'been': 6, 'confess': 3, 'overheardst': 1, 'passion': 1, 'pardon': 5, 'impute': 1, 'yielding': 1, 'discovered': 1, 'swear': 7, 'tips': 1, 'silver': 1, 'fruittree': 1, 'tops': 2, 'inconstant': 1, 'monthly': 1, 'changes': 1, 'circled': 1, 'orb': 1, 'likewise': 2, 'variable': 1, 'gracious': 1, 'self': 1, 'god': 8, 'idolatry': 1, 'although': 1, 'joy': 12, 'contract': 1, 'rash': 1, 'unadvised': 1, 'sudden': 5, 'lightning': 4, 'cease': 2, 'lightens': 1, 'bud': 1, 'summers': 1, 'ripening': 1, 'breath': 10, 'flower': 2, 'next': 1, 'meet': 5, 'repose': 1, 'rest': 4, 'within': 6, 'unsatisfied': 1, 'satisfaction': 1, 'exchange': 3, 'faithful': 1, 'gave': 2, 'didst': 4, 'request': 1, 'wouldst': 3, 'purpose': 2, 'frank': 1, 'wish': 3, 'bounty': 1, 'boundless': 1, 'infinite': 1, 'noise': 2, 'adieu': 3, 'anon': 1, 'little': 6, 'afeard': 1, 'flatteringsweet': 1, 'substantial': 1, 'three': 2, 'bent': 1, 'honourable': 3, 'marriage': 5, 'send': 7, 'tomorrow': 6, 'procure': 1, 'time': 7, 'perform': 1, 'rite': 1, 'fortunes': 2, 'lay': 1, 'follow': 3, 'lord': 11, 'throughout': 1, 'anonbut': 1, 'meanst': 1, 'beseech': 5, 'suit': 1, 'thrive': 1, 'thousand': 4, 'times': 4, 'worse': 3, 'want': 1, 'goes': 1, 'toward': 2, 'schoolboys': 1, 'books': 1, 'school': 1, 'looks': 2, 'hist': 2, 'falconers': 1, 'lure': 1, 'tasselgentle': 1, 'bondage': 1, 'hoarse': 2, 'aloud': 2, 'cave': 2, 'echo': 1, 'tongue': 7, 'repetition': 1, 'silversweet': 1, 'softest': 1, 'music': 2, 'attending': 1, 'oclock': 1, 'fail': 2, 'years': 4, 'forgot': 2, 'remember': 4, 'remembering': 1, 'company': 2, 'forgetting': 1, 'home': 1, 'almost': 2, 'morning': 3, 'further': 2, 'bird': 2, 'lets': 4, 'hop': 1, 'prisoner': 1, 'twisted': 1, 'gyves': 1, 'silk': 1, 'thread': 1, 'plucks': 1, 'lovingjealous': 1, 'cherishing': 1, 'parting': 1, 'sorrow': 4, 'morrow': 3, 'ghostly': 4, 'fathers': 3, 'cell': 4, 'help': 8, 'crave': 1, 'hap': 1, 'last': 4, 'sweeter': 1, 'names': 2, 'feasting': 2, 'wounded': 2, 'remedies': 1, 'physic': 1, 'hatred': 1, 'lo': 1, 'intercession': 1, 'steads': 1, 'plainly': 1, 'set': 3, 'daughter': 1, 'combined': 1, 'save': 1, 'combine': 1, 'met': 3, 'pass': 1, 'marry': 3, 'today': 1, 'chidst': 1, 'oft': 2, 'badst': 1, 'bury': 2, 'chide': 3, 'grace': 2, 'allow': 1, 'haste': 2, 'kinsman': 6, 'sent': 1, 'letter': 2, 'master': 1, 'dared': 1, 'counterfeit': 1, 'great': 2, 'case': 1, 'strain': 1, 'courtesy': 1, 'meaning': 1, 'courtsy': 1, 'courteous': 1, 'exposition': 1, 'pink': 1, 'pump': 1, 'flowered': 1, 'singlesoled': 1, 'jest': 1, 'solely': 1, 'singular': 1, 'singleness': 1, 'switch': 2, 'spurs': 2, 'cry': 1, 'wast': 2, 'goose': 5, 'bite': 1, 'served': 1, 'stretch': 1, 'broad': 2, 'added': 1, 'proves': 1, 'wide': 1, 'stop': 2, 'tale': 2, 'large': 1, 'goodly': 1, 'gear': 2, 'shirt': 1, 'smock': 1, 'gentlewoman': 1, 'mar': 1, 'older': 1, 'sought': 1, 'youngest': 1, 'fault': 1, 'indite': 1, 'minute': 3, 'month': 2, 'commend': 3, 'protest': 2, 'devise': 2, 'shrift': 1, 'afternoon': 1, 'friar': 11, 'laurence': 6, 'shrived': 1, 'pains': 2, 'behind': 2, 'abbey': 1, 'bring': 4, 'cords': 5, 'tackled': 1, 'stair': 1, 'topgallant': 1, 'convoy': 1, 'secret': 1, 'trusty': 1, 'quit': 1, 'sayst': 3, 'warrant': 1, 'mans': 1, 'steel': 3, 'r': 1, 'clock': 1, 'half': 2, 'promised': 1, 'perchance': 1, 'lame': 1, 'heralds': 1, 'thoughts': 3, 'ten': 2, 'faster': 1, 'glide': 1, 'suns': 1, 'beams': 1, 'driving': 1, 'shadows': 2, 'over': 1, 'louring': 1, 'hills': 1, 'nimblepiniond': 1, 'doves': 1, 'draw': 4, 'windswift': 1, 'highmost': 1, 'hill': 1, 'days': 5, 'journey': 1, 'twelve': 1, 'warm': 2, 'youthful': 2, 'blood': 6, 'swift': 2, 'motion': 2, 'ball': 1, 'bandy': 1, 'folks': 1, 'many': 6, 'feign': 1, 'unwieldy': 1, 'slow': 1, 'peter': 2, 'honey': 2, 'news': 12, 'nurseo': 1, 'lookst': 2, 'merrily': 1, 'shamest': 1, 'playing': 1, 'sour': 3, 'hadst': 3, 'bones': 4, 'delay': 2, 'bad': 3, 'circumstance': 1, 'satisfied': 3, 'ist': 3, 'sorry': 1, 'oddly': 1, 'repliest': 1, 'honest': 2, 'coil': 1, 'hie': 2, 'amen': 3, 'countervail': 1, 'lovedevouring': 1, 'dare': 1, 'enough': 4, 'confessor': 2, 'thanks': 1, 'heapd': 1, 'skill': 1, 'blazon': 1, 'sweeten': 1, 'neighbour': 1, 'musics': 1, 'unfold': 1, 'imagined': 1, 'happiness': 1, 'receive': 1, 'conceit': 2, 'matter': 3, 'brags': 1, 'substance': 2, 'ornament': 1, 'beggars': 2, 'count': 2, 'worth': 1, 'grown': 2, 'excess': 1, 'sum': 2, 'wealth': 1, 'retire': 1, 'hot': 3, 'scape': 1, 'brawl': 2, 'stirring': 1, 'apt': 2, 'quarrel': 2, 'buy': 2, 'feesimple': 1, 'quarter': 1, 'den': 1, 'sir': 4, 'occasion': 1, 'consortst': 1, 'public': 1, 'haunt': 1, 'private': 1, 'reason': 3, 'coldly': 1, 'grievances': 1, 'depart': 2, 'afford': 2, 'thisthou': 1, 'appertaining': 1, 'rage': 2, 'injuries': 1, 'injured': 1, 'shalt': 3, 'capuletwhich': 1, 'dearly': 1, 'ownbe': 1, 'beat': 2, 'down': 4, 'weapons': 1, 'forbear': 1, 'outrage': 1, 'expressly': 1, 'forbidden': 1, 'bandying': 1, 'streets': 1, 'courage': 1, 'thought': 2, 'princes': 4, 'ally': 1, 'very': 2, 'friend': 5, 'got': 2, 'mortal': 1, 'behalf': 1, 'reputation': 1, 'staind': 2, 'tybalts': 8, 'slandertybalt': 1, 'effeminate': 1, 'temper': 2, 'softend': 1, 'valours': 1, 'brave': 2, 'mercutios': 4, 'gallant': 1, 'spirit': 3, 'aspired': 1, 'fate': 1, 'depend': 1, 'begins': 1, 'others': 1, 'end': 5, 'furious': 1, 'alive': 1, 'triumph': 1, 'slain': 11, 'respective': 1, 'lenity': 1, 'fireeyed': 1, 'fury': 2, 'conduct': 2, 'reenter': 1, 'gavest': 1, 'heads': 2, 'staying': 1, 'wretched': 1, 'consort': 1, 'determine': 2, 'amazed': 1, 'doom': 5, 'taken': 1, 'fool': 1, 'discover': 1, 'unlucky': 1, 'fatal': 3, 'slew': 1, 'slay': 2, 'bade': 2, 'bethink': 1, 'nice': 1, 'displeasure': 1, 'uttered': 1, 'calm': 1, 'knees': 2, 'humbly': 1, 'bowd': 1, 'truce': 1, 'unruly': 1, 'spleen': 1, 'deaf': 1, 'tilts': 1, 'piercing': 1, 'turns': 1, 'deadly': 2, 'point': 5, 'martial': 1, 'beats': 2, 'sends': 1, 'dexterity': 1, 'retorts': 1, 'cries': 1, 'friends': 2, 'swifter': 1, 'agile': 1, 'points': 1, 'twixt': 2, 'thrust': 1, 'stout': 2, 'newly': 1, 'entertaind': 1, 'revenge': 1, 't': 1, 'fell': 1, 'gallop': 1, 'apace': 1, 'fieryfooted': 1, 'steeds': 1, 'phoebus': 1, 'lodging': 2, 'wagoner': 1, 'phaethon': 1, 'whip': 1, 'west': 1, 'cloudy': 1, 'immediately': 1, 'spread': 1, 'curtain': 1, 'loveperforming': 1, 'runaways': 1, 'wink': 1, 'leap': 2, 'arms': 2, 'untalkd': 1, 'unseen': 1, 'amorous': 2, 'rites': 1, 'agrees': 1, 'civil': 1, 'sobersuited': 1, 'matron': 1, 'learn': 1, 'lose': 1, 'winning': 1, 'playd': 1, 'pair': 1, 'stainless': 1, 'maidenhoods': 1, 'hood': 1, 'unmannd': 1, 'bating': 1, 'cheeks': 3, 'mantle': 1, 'acted': 1, 'simple': 1, 'modesty': 3, 'whiter': 1, 'snow': 1, 'ravens': 1, 'blackbrowd': 1, 'worship': 1, 'garish': 1, 'bought': 1, 'mansion': 2, 'possessd': 2, 'sold': 2, 'enjoyd': 1, 'tedious': 1, 'festival': 1, 'impatient': 1, 'child': 1, 'robes': 1, 'brings': 1, 'heavenly': 1, 'eloquence': 1, 'wring': 1, 'devil': 1, 'torment': 1, 'torture': 3, 'roard': 1, 'dismal': 2, 'bare': 2, 'vowel': 1, 'deathdarting': 1, 'cockatrice': 1, 'brief': 3, 'sounds': 1, 'weal': 1, 'break': 3, 'bankrupt': 1, 'once': 2, 'resign': 1, 'press': 1, 'bier': 1, 'storm': 1, 'contrary': 1, 'slaughterd': 3, 'dearloved': 1, 'dearer': 1, 'dreadful': 1, 'trumpet': 1, 'general': 1, 'living': 2, 'shed': 1, 'serpent': 1, 'flowering': 1, 'ever': 5, 'dragon': 1, 'beautiful': 1, 'tyrant': 1, 'fiend': 3, 'angelical': 1, 'dovefeatherd': 1, 'raven': 1, 'wolvishravening': 1, 'lamb': 1, 'divinest': 1, 'just': 1, 'opposite': 1, 'justly': 1, 'seemst': 1, 'damned': 3, 'nature': 1, 'bower': 1, 'moral': 1, 'paradise': 1, 'containing': 1, 'fairly': 1, 'deceit': 1, 'gorgeous': 1, 'palace': 2, 'blisterd': 1, 'born': 1, 'brow': 2, 'ashamed': 1, 'sit': 2, 'throne': 2, 'crownd': 1, 'sole': 1, 'monarch': 1, 'universal': 1, 'beast': 1, 'husband': 8, 'threehours': 1, 'mangled': 2, 'killd': 1, 'foolish': 1, 'native': 1, 'spring': 1, 'tributary': 1, 'drops': 1, 'belong': 1, 'mistaking': 1, 'offer': 1, 'comfort': 5, 'worser': 1, 'murderd': 2, 'presses': 1, 'memory': 1, 'guilty': 1, 'deeds': 1, 'sinners': 1, 'minds': 1, 'romeobanished': 1, 'banished': 11, 'delights': 1, 'fellowship': 1, 'needly': 1, 'rankd': 1, 'followd': 1, 'said': 4, 'modern': 1, 'lamentations': 1, 'moved': 1, 'rearward': 1, 'following': 1, 'limit': 1, 'wash': 1, 'wounds': 1, 'spent': 1, 'theirs': 1, 'dry': 2, 'banishment': 5, 'ropes': 1, 'beguiled': 1, 'exiled': 1, 'highway': 1, 'maidenwidowed': 1, 'weddingbed': 1, 'maidenhead': 1, 'ring': 3, 'craves': 1, 'acquaintance': 1, 'less': 1, 'doomsday': 1, 'ha': 1, 'merciful': 1, 'exile': 3, 'terror': 2, 'purgatory': 1, 'itself': 3, 'hencebanished': 1, 'banishd': 1, 'worlds': 2, 'mistermd': 1, 'calling': 1, 'cuttst': 1, 'axe': 1, 'smilest': 1, 'stroke': 1, 'murders': 2, 'mercy': 2, 'cat': 1, 'dog': 1, 'mouse': 1, 'unworthy': 1, 'validity': 1, 'state': 3, 'courtship': 1, 'carrionflies': 1, 'seize': 1, 'white': 1, 'wonder': 2, 'juliets': 2, 'steal': 1, 'immortal': 1, 'blessing': 1, 'pure': 1, 'thinking': 1, 'kisses': 3, 'flies': 1, 'free': 1, 'mixd': 1, 'sharpground': 1, 'knife': 3, 'mebanished': 1, 'howlings': 1, 'attend': 2, 'divine': 1, 'sinabsolver': 1, 'professd': 1, 'mangle': 1, 'hang': 2, 'philosophy': 2, 'unless': 4, 'displant': 1, 'town': 1, 'reverse': 1, 'helps': 1, 'prevails': 1, 'murdered': 1, 'doting': 1, 'mightst': 2, 'hair': 1, 'taking': 1, 'unmade': 1, 'heartsick': 1, 'groans': 1, 'mistlike': 1, 'infold': 1, 'search': 1, 'spakest': 1, 'murderer': 1, 'childhood': 1, 'removed': 1, 'conceald': 1, 'cancelld': 1, 'shot': 1, 'level': 1, 'gun': 1, 'cursed': 1, 'anatomy': 1, 'lodge': 1, 'sack': 1, 'prepare': 1, 'revived': 2, 'past': 4, 'nightingale': 3, 'lark': 6, 'pierced': 1, 'hollow': 1, 'nightly': 2, 'sings': 2, 'yon': 3, 'pomegranatetree': 1, 'herald': 1, 'morn': 1, 'streaks': 1, 'lace': 1, 'severing': 1, 'candles': 1, 'jocund': 1, 'stands': 1, 'tiptoe': 1, 'misty': 1, 'mountain': 1, 'meteor': 1, 'exhales': 1, 'torchbearer': 1, 'mantua': 2, 'needst': 1, 'taen': 1, 'content': 1, 'grey': 1, 'mornings': 1, 'reflex': 1, 'cynthias': 1, 'notes': 1, 'vaulty': 1, 'care': 1, 'welcome': 1, 'wills': 1, 'tune': 1, 'straining': 1, 'harsh': 1, 'discords': 1, 'unpleasing': 1, 'sharps': 1, 'division': 1, 'divideth': 1, 'toad': 1, 'change': 1, 'changed': 1, 'voices': 1, 'affray': 1, 'hunting': 1, 'huntsup': 1, 'grows': 1, 'woes': 2, 'descend': 2, 'behold': 4, 'omit': 1, 'opportunity': 1, 'convey': 1, 'greetings': 1, 'doubt': 2, 'illdivining': 1, 'methinks': 3, 'below': 1, 'bottom': 2, 'tomb': 3, 'fails': 1, 'drinks': 2, 'fickle': 3, 'renownd': 1, 'hope': 2, 'unaccustomd': 2, 'procures': 1, 'feeling': 2, 'loss': 2, 'choose': 1, 'miles': 1, 'asunder': 1, 'grieve': 1, 'reach': 1, 'venge': 1, 'cousins': 2, 'himdead': 1, 'receipt': 1, 'thereof': 1, 'soon': 1, 'quiet': 1, 'abhors': 1, 'named': 1, 'wreak': 1, 'bore': 1, 'body': 2, 'needy': 3, 'ladyship': 1, 'peters': 1, 'church': 1, 'joyful': 2, 'bride': 1, 'wed': 1, 'paris': 5, 'proud': 2, 'thankful': 2, 'meant': 1, 'pity': 1, 'sitting': 1, 'sees': 1, 'week': 1, 'bridal': 1, 'dim': 2, 'monument': 1, 'godo': 1, 'prevented': 1, 'leaving': 1, 'practise': 1, 'stratagems': 1, 'subject': 1, 'speakest': 1, 'comforted': 1, 'marvellous': 1, 'displeased': 1, 'confession': 1, 'absolved': 1, 'damnation': 1, 'wicked': 1, 'dispraise': 1, 'praised': 1, 'counsellor': 1, 'twain': 2, 'remedy': 2, 'power': 2, 'price': 1, 'small': 1, 'victory': 1, 'slander': 1, 'spake': 2, 'leisure': 1, 'evening': 1, 'mass': 1, 'cure': 1, 'hearst': 2, 'prevent': 1, 'wisdom': 1, 'resolution': 1, 'presently': 1, 'joind': 1, 'seald': 1, 'label': 1, 'another': 3, 'deed': 1, 'treacherous': 1, 'revolt': 1, 'longexperienced': 1, 'present': 2, 'extremes': 1, 'bloody': 3, 'play': 2, 'umpire': 1, 'arbitrating': 1, 'commission': 1, 'issue': 1, 'speakst': 1, 'battlements': 1, 'tower': 1, 'thievish': 1, 'ways': 1, 'lurk': 1, 'serpents': 1, 'chain': 1, 'roaring': 2, 'bears': 1, 'charnelhouse': 1, 'oercoverd': 1, 'quite': 1, 'mens': 2, 'rattling': 1, 'reeky': 1, 'shanks': 1, 'yellow': 1, 'chapless': 1, 'skulls': 1, 'newmade': 1, 'shroud': 3, 'told': 2, 'unstaind': 1, 'repent': 1, 'disobedient': 1, 'opposition': 1, 'behests': 1, 'enjoind': 1, 'prostrate': 1, 'beg': 1, 'henceforward': 1, 'becomed': 1, 'bounds': 1, 'closet': 1, 'sort': 1, 'needful': 1, 'ornaments': 1, 'fit': 1, 'furnish': 1, 'attires': 1, 'need': 4, 'orisons': 1, 'heavens': 1, 'smile': 1, 'cross': 1, 'full': 4, 'culld': 1, 'necessaries': 1, 'behoveful': 1, 'left': 2, 'sure': 1, 'knows': 1, 'faint': 1, 'thrills': 1, 'veins': 2, 'freezes': 1, 'heat': 1, 'scene': 1, 'needs': 1, 'act': 1, 'vial': 1, 'mixture': 1, 'work': 1, 'forbid': 1, 'laying': 2, 'dagger': 3, 'subtly': 1, 'ministerd': 1, 'dishonourd': 1, 'tried': 1, 'laid': 1, 'wake': 2, 'redeem': 1, 'theres': 1, 'stifled': 1, 'vault': 3, 'foul': 1, 'mouth': 1, 'healthsome': 1, 'breathes': 1, 'strangled': 1, 'horrible': 1, 'together': 1, 'receptacle': 1, 'buried': 1, 'ancestors': 1, 'packed': 1, 'festering': 1, 'spirits': 1, 'resort': 1, 'waking': 1, 'loathsome': 2, 'smells': 1, 'shrieks': 1, 'mandrakes': 1, 'torn': 1, 'hearing': 2, 'run': 3, 'distraught': 1, 'environed': 1, 'hideous': 1, 'fears': 1, 'madly': 1, 'forefathers': 1, 'joints': 1, 'pluck': 1, 'kinsmans': 1, 'bone': 1, 'club': 1, 'dash': 1, 'brains': 1, 'ghost': 1, 'seeking': 1, 'spit': 1, 'rapiers': 1, 'drink': 1, 'flattering': 1, 'dreams': 1, 'presage': 1, 'bosoms': 1, 'sits': 1, 'lightly': 1, 'lifts': 1, 'cheerful': 1, 'dreamt': 1, 'emperor': 1, 'balthasar': 3, 'booted': 1, 'veronahow': 1, 'fares': 1, 'defy': 1, 'get': 4, 'ink': 1, 'paper': 1, 'hire': 2, 'posthorses': 1, 'tush': 1, 'deceived': 1, 'horses': 1, 'straight': 1, 'exit': 2, 'mischief': 1, 'apothecary': 3, 'hereabouts': 1, 'dwellswhich': 1, 'noted': 1, 'tatterd': 1, 'weeds': 1, 'overwhelming': 1, 'culling': 1, 'simples': 1, 'meagre': 1, 'sharp': 1, 'worn': 1, 'shop': 2, 'tortoise': 1, 'hung': 1, 'alligator': 1, 'stuffd': 1, 'skins': 1, 'illshaped': 1, 'fishes': 1, 'shelves': 1, 'beggarly': 1, 'empty': 2, 'boxes': 1, 'earthen': 1, 'pots': 1, 'bladders': 1, 'musty': 1, 'seeds': 1, 'remnants': 1, 'packthread': 1, 'cakes': 1, 'roses': 1, 'thinly': 1, 'scatterd': 1, 'noting': 1, 'penury': 1, 'sale': 1, 'caitiff': 1, 'wretch': 1, 'sell': 4, 'forerun': 1, 'holiday': 1, 'ho': 1, 'forty': 1, 'ducats': 1, 'dram': 1, 'soonspeeding': 1, 'disperse': 1, 'lifeweary': 1, 'taker': 1, 'trunk': 1, 'discharged': 1, 'violently': 1, 'hasty': 1, 'powder': 1, 'fired': 1, 'hurry': 1, 'cannons': 1, 'womb': 2, 'wretchedness': 1, 'fearst': 1, 'famine': 1, 'starveth': 1, 'contempt': 1, 'beggary': 1, 'law': 2, 'affords': 1, 'poverty': 1, 'souls': 1, 'doing': 1, 'compounds': 1, 'cordial': 1, 'mattock': 1, 'wrenching': 1, 'iron': 1, 'deliver': 1, 'charge': 1, 'whateer': 1, 'seest': 1, 'aloof': 1, 'interrupt': 1, 'partly': 1, 'chiefly': 1, 'thence': 1, 'finger': 1, 'employment': 1, 'jealous': 1, 'pry': 1, 'intend': 1, 'joint': 2, 'strew': 1, 'hungry': 1, 'churchyard': 2, 'limbs': 1, 'intents': 1, 'savagewild': 1, 'fierce': 1, 'inexorable': 1, 'tigers': 1, 'friendship': 1, 'prosperous': 1, 'detestable': 1, 'maw': 1, 'gorged': 1, 'dearest': 1, 'morsel': 1, 'enforce': 1, 'rotten': 1, 'jaws': 1, 'open': 1, 'despite': 1, 'cram': 1, 'youth': 4, 'tempt': 1, 'affright': 1, 'urging': 1, 'hereafter': 1, 'madmans': 1, 'provoke': 1, 'peruse': 1, 'betossed': 1, 'rode': 1, 'writ': 1, 'misfortunes': 1, 'triumphant': 1, 'lantern': 2, 'presence': 1, 'interrd': 1, 'merry': 1, 'keepers': 1, 'suckd': 1, 'conquerd': 1, 'beautys': 1, 'ensign': 1, 'crimson': 1, 'deaths': 1, 'flag': 1, 'advanced': 1, 'liest': 1, 'sheet': 1, 'sunder': 1, 'forgive': 1, 'unsubstantial': 1, 'lean': 1, 'abhorred': 1, 'monster': 1, 'keeps': 1, 'paramour': 1, 'remain': 1, 'worms': 1, 'chambermaids': 1, 'everlasting': 1, 'shake': 1, 'yoke': 1, 'inauspicious': 1, 'worldwearied': 1, 'embrace': 1, 'doors': 1, 'seal': 1, 'righteous': 1, 'dateless': 1, 'bargain': 1, 'engrossing': 1, 'unsavoury': 1, 'guide': 1, 'dashing': 1, 'rocks': 1, 'seasick': 1, 'weary': 1, 'bark': 1, 'drugs': 1, 'quick': 1, 'spade': 1, 'comfortable': 1, 'cup': 1, 'timeless': 1, 'churl': 1, 'friendly': 1, 'drop': 1, 'haply': 1, 'restorative': 1, 'yea': 1, 'snatching': 1, 'sheath': 1, 'stabs': 1, 'rust': 1}\n",
            "['face', 'villain', 'therefore', 'lord', 'friar', 'slain', 'banished', 'hate', 'both', 'loves', 'else', 'nor', 'beauty', 'cannot', 'eye']\n",
            "face 11\n",
            "villain 11\n",
            "therefore 11\n",
            "lord 11\n",
            "friar 11\n",
            "slain 11\n",
            "banished 11\n",
            "hate 10\n",
            "both 10\n",
            "loves 10\n",
            "else 10\n",
            "nor 10\n",
            "beauty 10\n",
            "cannot 10\n",
            "eye 10\n"
          ]
        }
      ],
      "execution_count": 4,
      "metadata": {
        "nteract": {
          "transient": {
            "deleting": false
          }
        },
        "tags": [],
        "id": "PGnnMUafILgf",
        "execution": {
          "iopub.status.busy": "2022-07-11T21:02:49.716Z",
          "iopub.execute_input": "2022-07-11T21:02:49.722Z",
          "iopub.status.idle": "2022-07-11T21:02:49.728Z",
          "shell.execute_reply": "2022-07-11T21:02:49.612Z"
        },
        "colab": {
          "base_uri": "https://localhost:8080/"
        },
        "outputId": "28edc5be-37d3-4fa0-bc5d-855ba3e1b48f"
      }
    },
    {
      "cell_type": "markdown",
      "source": [
        "****"
      ],
      "metadata": {
        "id": "nxnZrPayILgf"
      }
    },
    {
      "cell_type": "markdown",
      "source": [
        "### **Question 2  [40 pts]**:"
      ],
      "metadata": {
        "id": "XUMMVJSTILgg"
      }
    },
    {
      "cell_type": "markdown",
      "source": [
        "\n",
        "Define three classes, `iLine`, `iCurved`, `iStraight`, where `iLine` is the parent of `iCurved` and `iStraight`.  This [figure](https://app.box.com/s/pbgon23di73ip4vedn37egpg2taoqmku) might help visualize the hierarchy of these classes.\n",
        "\n",
        "**a) [20 pts]** The `iLine` should have the following methods:<br>\n",
        "  * A method called `whoAmI` prints out `Curved Line` if the object has three coefficients: $a, b$ and $c$ or `Straight Line` if the object has only two coefficients: $m$ and $c$.<br>\n",
        "  * A method called `lineEquation` prints the equation of the line:<br>\n",
        "    * The `iCurved` equation is: $ax^2+bx+c=0$\n",
        "    * The `iStraight` equation is $mx+c=0$\n",
        "  * A method called `plotLine()` plots the shape of the line.<br>\n",
        "    \n",
        "\n",
        "**b) [20 pts]**  When creating the `iCurved` objects, the program should generate three random integers as the coefficients of the line. Similarly, the program should randomly generate two random integers denoting the coefficients of the `iStraight` objects. The coefficients can be any value between -10 and 10, inclusively.\n",
        "\n",
        "**c) **[BONUS]  [10 pts]**** Each `iCurved` and `iStraight` class should have a method called `plotLine` to plot the respective shapes using the [Matplotlib Pyplot](https://matplotlib.org/3.5.0/api/_as_gen/matplotlib.pyplot.html) function, and only the `iCurved` class has another method called `findRoots` that computes the roots of the curve using the [Numpy Roots](https://numpy.org/doc/stable/reference/generated/numpy.roots.html) function.\n",
        "\n",
        "The program should automatically create 3 Straight and 3 Curved objects and print out their properties.\n",
        "\n",
        "For example, the program would return [this output](https://app.box.com/s/micam884awbz0wm1w4famt5waora95r1) upon execution."
      ],
      "metadata": {
        "id": "Fu2rJ7KQILgg"
      }
    },
    {
      "cell_type": "code",
      "source": [
        "#INSERT YOUR ANSWER HERE.\n",
        "from random import randint\n",
        "import numpy\n",
        "class iLine:\n",
        "  def __init__(self, no_of_coef):\n",
        "    self.no_of_coef = no_of_coef\n",
        "\n",
        "  def whoAmI(self):\n",
        "    if self.no_of_coef == 3:\n",
        "      print(\"Curved line\")\n",
        "    elif self.no_of_coef == 2:\n",
        "      print(\"Straight line\")\n",
        "  \n",
        "  def lineEquation(self):\n",
        "    pass\n",
        "  \n",
        "  def plotLine(self):\n",
        "    pass\n",
        "\n",
        "class iCurved(iLine):\n",
        "  def __init__(self):\n",
        "    super().__init__(3)\n",
        "    self.a = randint(-10, 10)\n",
        "    self.b = randint(-10, 10)\n",
        "    self.c = randint(-10, 10)\n",
        "  \n",
        "  def lineEquation(self):\n",
        "    print(self.a, \"x^2 + \", self.b, \"x + \", self.c, \" = 0\", sep=\"\")\n",
        "  \n",
        "  def findRoots(self):\n",
        "    roots = numpy.roots([self.a, self.b, self.c])\n",
        "    print(roots)\n",
        "    return roots\n",
        "  \n",
        "class iStraight(iLine):\n",
        "  def __init__(self):\n",
        "    super().__init__(2)\n",
        "    self.m = randint(-10, 10)\n",
        "    self.c = randint(-10, 10)\n",
        "\n",
        "  def lineEquation(self):\n",
        "    print(self.m, \"x + \", self.c, \" = 0\", sep=\"\")\n",
        "\n",
        "#l1 = iLine(3)\n",
        "\n",
        "s1 = iStraight()\n",
        "s2 = iStraight()\n",
        "s3 = iStraight()\n",
        "s1.lineEquation()\n",
        "s1.whoAmI()\n",
        "s2.lineEquation()\n",
        "s3.lineEquation()\n",
        "c1 = iCurved()\n",
        "c2 = iCurved()\n",
        "c3 = iCurved()\n",
        "print(\"\\n\")\n",
        "c1.lineEquation()\n",
        "c1.whoAmI()\n",
        "c1.findRoots()\n",
        "print(\"\\n\")\n",
        "c2.lineEquation()\n",
        "c3.lineEquation()\n"
      ],
      "outputs": [
        {
          "output_type": "stream",
          "name": "stdout",
          "text": [
            "1x + 4 = 0\n",
            "Straight line\n",
            "10x + 0 = 0\n",
            "2x + -1 = 0\n",
            "\n",
            "\n",
            "-10x^2 + -1x + 3 = 0\n",
            "Curved line\n",
            "[-0.6  0.5]\n",
            "\n",
            "\n",
            "-10x^2 + 2x + 8 = 0\n",
            "5x^2 + 9x + -7 = 0\n"
          ]
        }
      ],
      "execution_count": 5,
      "metadata": {
        "id": "0XndIAdyILgh",
        "execution": {
          "iopub.status.busy": "2022-07-11T21:02:49.741Z",
          "iopub.execute_input": "2022-07-11T21:02:49.750Z",
          "iopub.status.idle": "2022-07-11T21:02:49.759Z",
          "shell.execute_reply": "2022-07-11T21:02:49.620Z"
        },
        "colab": {
          "base_uri": "https://localhost:8080/"
        },
        "outputId": "2287117e-c366-47e8-ad05-2115e56265dc"
      }
    },
    {
      "cell_type": "markdown",
      "source": [
        "#### This is the end of assignment 2"
      ],
      "metadata": {
        "nteract": {
          "transient": {
            "deleting": false
          }
        },
        "id": "pn5YfD7uILgi"
      }
    },
    {
      "cell_type": "code",
      "source": [
        "%%shell\n",
        "jupyter nbconvert -- to html /content/CIND830_Summer22_Assignment2.ipynb"
      ],
      "metadata": {
        "id": "9HgOhQzh8OhC"
      },
      "execution_count": null,
      "outputs": []
    }
  ],
  "metadata": {
    "colab": {
      "collapsed_sections": [],
      "name": "CIND830_Summer22_Assignment2.ipynb",
      "provenance": []
    },
    "kernelspec": {
      "display_name": "Python 3 (ipykernel)",
      "language": "python",
      "name": "python3"
    },
    "language_info": {
      "name": "python",
      "version": "3.8.5",
      "mimetype": "text/x-python",
      "codemirror_mode": {
        "name": "ipython",
        "version": 3
      },
      "pygments_lexer": "ipython3",
      "nbconvert_exporter": "python",
      "file_extension": ".py"
    },
    "nteract": {
      "version": "0.28.0"
    },
    "varInspector": {
      "cols": {
        "lenName": 16,
        "lenType": 16,
        "lenVar": 40
      },
      "kernels_config": {
        "python": {
          "delete_cmd_postfix": "",
          "delete_cmd_prefix": "del ",
          "library": "var_list.py",
          "varRefreshCmd": "print(var_dic_list())"
        },
        "r": {
          "delete_cmd_postfix": ") ",
          "delete_cmd_prefix": "rm(",
          "library": "var_list.r",
          "varRefreshCmd": "cat(var_dic_list()) "
        }
      },
      "types_to_exclude": [
        "module",
        "function",
        "builtin_function_or_method",
        "instance",
        "_Feature"
      ],
      "window_display": false
    }
  },
  "nbformat": 4,
  "nbformat_minor": 0
}