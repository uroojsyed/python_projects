{
  "cells": [
    {
      "cell_type": "markdown",
      "source": [
        "## CIND830 - Python Programming for Data Science  \n",
        "### Assignment 3 (10% of the final grade) \n",
        "### Due on August 08, 2022 11:59 PM \n",
        "### Section DHB | Student Number: 500778806"
      ],
      "metadata": {
        "id": "kJ6ssXaGJfGN"
      }
    },
    {
      "cell_type": "markdown",
      "source": [
        "*****\n",
        "This is a Jupyter Notebook document that extends a simple formatting syntax for authoring HTML and PDF. Review [this](https://jupyter-notebook.readthedocs.io/en/stable/notebook.html) website for more details on using Jupyter Notebooks.\n",
        "\n",
        "Use the JupyterHub server on the Google Cloud Platform, provided by your designated instructor, for this assignment. Ensure using **Python 3.7** release or higher then complete the assignment by inserting your Python code wherever seeing the string `#INSERT YOUR ANSWER HERE.`\n",
        "\n",
        "When you click the `File` button, from the top navigation bar, then select `Export Notebook to HTML`, an HTML document will be generated that includes both the assignment content and the output of any embedded Python code chunks.\n",
        "\n",
        "Use [these](https://www.ryerson.ca/courses/students/tutorials/assignments/) guidelines to submit **both** the IPYNB and the exported file (HTML). Failing to submit both files will be subject to mark deduction.\n",
        "\n",
        "Please be advised that you cannot get more than 100% in this assignment, and the **BONUS** question (if there is any) will only be graded if all other questions have been submitted."
      ],
      "metadata": {
        "id": "UWjXw7DsJfGP"
      }
    },
    {
      "cell_type": "markdown",
      "source": [
        "### **Question 1  [30 pts]**:\n",
        "The following two algorithms sort a list of integers in ascending order.\n",
        "```\n",
        "def Algorithm_1(lyst):\n",
        "    i = 0\n",
        "    while i < len(lyst) - 1:         \n",
        "        minIndex = i                \n",
        "        j = i + 1\n",
        "        while j < len(lyst):         \n",
        "            if lyst[minIndex] > lyst[j]:\n",
        "                minIndex = j\n",
        "            j += 1\n",
        "        if minIndex != i:            \n",
        "            lyst[minIndex], lyst[i] = lyst[i], lyst[minIndex]\n",
        "        i += 1\n",
        "    return(lyst)\n",
        "```\n",
        "\n",
        "```\n",
        "def Algorithm_2(lyst):\n",
        "    n = len(lyst)\n",
        "    while n > 1: \n",
        "        i = 1 \n",
        "        while i < n:\n",
        "            if lyst[i] < lyst[i - 1]: \n",
        "                lyst[i], lyst[i - 1] = lyst[i-1], lyst[i]\n",
        "            i += 1\n",
        "        n -= 1\n",
        "    return(lyst)\n",
        "```\n",
        "\n"
      ],
      "metadata": {
        "id": "1D2_0DqQwlkg"
      }
    },
    {
      "cell_type": "markdown",
      "source": [
        "**a)**  **[15 pts]** Modify each algorithm to display the total number of swap operatioins. For example, if the user called `Algorithm_1` with a list of `[5, 6, 8, 3, 2, 1, 9, 4]` the number of swaps would be `6`, however the output would be `16` when calling `Algorithm_2` with the same list."
      ],
      "metadata": {
        "id": "lZ4EnFmSzP_r"
      }
    },
    {
      "cell_type": "code",
      "source": [
        "#INSERT YOUR ANSWER HERE.\n",
        "\n",
        "def Algorithm_1(lyst):\n",
        "    count = 0\n",
        "    i = 0\n",
        "    while i < len(lyst) - 1:         \n",
        "        minIndex = i\n",
        "        j = i + 1\n",
        "        while j < len(lyst):       \n",
        "            if lyst[minIndex] > lyst[j]:\n",
        "                minIndex = j\n",
        "            j += 1\n",
        "        if minIndex != i:            \n",
        "            lyst[minIndex], lyst[i] = lyst[i], lyst[minIndex]\n",
        "            count += 1 \n",
        "        i += 1\n",
        "    print(\"Number of swaps:\", count)\n",
        "    return lyst\n",
        "\n",
        "answer = Algorithm_1([5, 6, 8, 3, 2, 1, 9, 4])\n",
        "print(answer)"
      ],
      "outputs": [
        {
          "output_type": "stream",
          "name": "stdout",
          "text": [
            "Number of swaps: 6\n",
            "[1, 2, 3, 4, 5, 6, 8, 9]\n"
          ]
        }
      ],
      "execution_count": null,
      "metadata": {
        "id": "GuhHlv60wk0w",
        "execution": {
          "shell.execute_reply": "2022-06-02T20:43:49.974Z",
          "iopub.status.busy": "2022-06-02T20:43:50.062Z",
          "iopub.execute_input": "2022-06-02T20:43:50.069Z",
          "iopub.status.idle": "2022-06-02T20:43:50.077Z"
        },
        "colab": {
          "base_uri": "https://localhost:8080/"
        },
        "outputId": "740f3c73-1cd1-47de-fbfa-d2f748048323"
      }
    },
    {
      "cell_type": "code",
      "source": [
        "def Algorithm_2(lyst):\n",
        "    count = 0\n",
        "    n = len(lyst)\n",
        "    while n > 1: \n",
        "        i = 1\n",
        "        while i < n:\n",
        "            if lyst[i] < lyst[i - 1]: \n",
        "                lyst[i], lyst[i - 1] = lyst[i-1], lyst[i]\n",
        "                count += 1\n",
        "            i += 1\n",
        "        n -= 1\n",
        "    print(\"Number of swaps:\", count)\n",
        "    return lyst\n",
        "\n",
        "lyst = Algorithm_2([5, 6, 8, 3, 2, 1, 9, 4])\n",
        "print(lyst)"
      ],
      "metadata": {
        "colab": {
          "base_uri": "https://localhost:8080/"
        },
        "id": "7WK_4Ib-L0IW",
        "outputId": "5078193a-6f31-4a84-bece-48a782c4707e"
      },
      "execution_count": null,
      "outputs": [
        {
          "output_type": "stream",
          "name": "stdout",
          "text": [
            "Number of swaps: 16\n",
            "[1, 2, 3, 4, 5, 6, 8, 9]\n"
          ]
        }
      ]
    },
    {
      "cell_type": "markdown",
      "source": [
        "**b)**  **[15 pts]** Would you conclude that `Algorithm_1` is more efficient than `Algorithm_2`?  Justify your answer."
      ],
      "metadata": {
        "id": "wAPDFAzA63Vs"
      }
    },
    {
      "cell_type": "code",
      "source": [
        "#INSERT YOUR ANSWER HERE.\n",
        "# Algorithm_1 is a selection sort and Algorithm_2 is bubble sort. Even though Algorithm_2 has a higher number of swaps, it might be more efficient\n",
        "# because it compares two at a time whereas Algorithm_1 compares one at a time."
      ],
      "outputs": [],
      "execution_count": null,
      "metadata": {
        "id": "LxINBa-8993I",
        "execution": {
          "shell.execute_reply": "2022-06-02T20:43:49.983Z",
          "iopub.status.busy": "2022-06-02T20:43:50.089Z",
          "iopub.execute_input": "2022-06-02T20:43:50.099Z",
          "iopub.status.idle": "2022-06-02T20:43:50.107Z"
        }
      }
    },
    {
      "cell_type": "markdown",
      "source": [
        "*****"
      ],
      "metadata": {
        "id": "hHNHnkO4AOBh"
      }
    },
    {
      "cell_type": "markdown",
      "source": [
        "### **Question 2  [40 pts]**:\n",
        "\n",
        "Assume the following class implements the STACK abstract data type (ADT) using the array ADT.\n",
        "\n",
        "```\n",
        "class aStack(iArray):\n",
        "    def __init__(self, capacity = 5):\n",
        "        self._items = iArray(capacity)\n",
        "        self._top = -1\n",
        "        self._size = 0 \n",
        "    def push(self, newItem):\n",
        "        self._top += 1\n",
        "        self._size += 1\n",
        "        self._items[self._top] = newItem\n",
        "    def pop(self):\n",
        "        oldItem = self._items[self._top]\n",
        "        self._items[self._top] = None\n",
        "        self._top -= 1\n",
        "        self._size -= 1\n",
        "        return oldItem\n",
        "    def peek(self):\n",
        "        return self._items[self._top]\n",
        "    def __len__(self):\n",
        "        return self._size\n",
        "    def __str__(self):\n",
        "        result = ' '\n",
        "        for i in range(len(self)):\n",
        "            result += str(self._items[i]) + ' '\n",
        "        return result\n",
        "```\n"
      ],
      "metadata": {
        "id": "Z5lAKTm6SWNs"
      }
    },
    {
      "cell_type": "markdown",
      "source": [
        "**a) [10 pts]** Emulate the stack behavior using the Python list data structure rather than the Arrary ADT."
      ],
      "metadata": {
        "id": "nkZH7oR39oPj"
      }
    },
    {
      "cell_type": "code",
      "source": [
        "#INSERT YOUR ANSWER HERE.\n",
        "\n",
        "class aStack():\n",
        "    def __init__(self, capacity = 5):\n",
        "        self._items = [None for i in range(capacity)] # [0]*capacity\n",
        "        # self._items = []\n",
        "        # for i in range(capacity):\n",
        "        #   self._items.push(0)\n",
        "        self._top = -1\n",
        "        self._size = 0\n",
        "    def push(self, newItem):\n",
        "        self._top += 1\n",
        "        self._size += 1\n",
        "        self._items[self._top] = newItem\n",
        "    def pop(self):\n",
        "        oldItem = self._items[self._top]\n",
        "        self._items[self._top] = None\n",
        "        self._top -= 1\n",
        "        self._size -= 1\n",
        "        return oldItem\n",
        "    def peek(self):\n",
        "        return self._items[self._top]\n",
        "    def __len__(self):\n",
        "        return self._size\n",
        "    def __str__(self):\n",
        "        result = ' '\n",
        "        for i in range(len(self)):\n",
        "            result += str(self._items[i]) + ' '\n",
        "        return result\n",
        "\n",
        "# Test\n",
        "myStack = aStack(10)\n",
        "myStack.push(1)\n",
        "myStack.push(3)\n",
        "myStack.push(5)\n",
        "myStack.push(-6)\n",
        "myStack.push(-25)\n",
        "myStack.push(2.5)\n",
        "print(str(myStack))\n",
        "print(myStack.peek(), len(myStack))\n",
        "myStack.pop()\n",
        "myStack.pop()\n",
        "print(str(myStack))\n",
        "print(myStack.peek(), len(myStack))"
      ],
      "outputs": [
        {
          "output_type": "stream",
          "name": "stdout",
          "text": [
            " 1 3 5 -6 -25 2.5 \n",
            "2.5 6\n",
            " 1 3 5 -6 \n",
            "-6 4\n"
          ]
        }
      ],
      "execution_count": 118,
      "metadata": {
        "collapsed": true,
        "jupyter": {
          "source_hidden": false,
          "outputs_hidden": false
        },
        "nteract": {
          "transient": {
            "deleting": false
          }
        },
        "id": "e7s_fWLNyi3h",
        "execution": {
          "shell.execute_reply": "2022-06-02T20:43:49.992Z",
          "iopub.status.busy": "2022-06-02T20:43:50.119Z",
          "iopub.execute_input": "2022-06-02T20:43:50.127Z",
          "iopub.status.idle": "2022-06-02T20:43:50.137Z"
        },
        "colab": {
          "base_uri": "https://localhost:8080/"
        },
        "outputId": "2c95531f-2ce9-4bdc-f825-bde915d483d0"
      }
    },
    {
      "cell_type": "markdown",
      "source": [
        "**b) [15 pts]** Redefine the Stack class methods to push and pop two items rather than one item at a time.\n",
        "\n",
        "For example, if the stack includes numbers from one to ten:\n",
        "`[1, 2, 3, 4, 5, 6, 7, 8, 9, 10]`, then invoking the `pop()` method twice will remove the last four elements and modify the stack elements to be:\n",
        "`[1, 2, 3, 4, 5, 6]`\n",
        "\n"
      ],
      "metadata": {
        "id": "94TqcosX3lii"
      }
    },
    {
      "cell_type": "code",
      "source": [
        "#INSERT YOUR ANSWER HERE.\n",
        "\n",
        "class a2Stack():\n",
        "    def __init__(self, capacity = 5):\n",
        "        self._items = [None for i in range(capacity)]\n",
        "        self._top = -1\n",
        "        self._size = 0\n",
        "    def push(self, newItem1, newItem2):\n",
        "        self._top += 1\n",
        "        self._size += 1\n",
        "        self._items[self._top] = newItem1\n",
        "        self._top += 1\n",
        "        self._size += 1\n",
        "        self._items[self._top] = newItem2\n",
        "    def pop(self):\n",
        "        # oldItem1 = self._items[self._top]\n",
        "        # self._items[self._top] = None\n",
        "        # self._top -= 1\n",
        "        # self._size -= 1\n",
        "        # oldItem2 = self._items[self._top]\n",
        "        # self._items[self._top] = None\n",
        "        # self._top -= 1\n",
        "        # self._size -= 1\n",
        "        # return (oldItem1, oldItem2)\n",
        "        oldItem1 = self._items[self._top]\n",
        "        oldItem2 = self._items[self._top - 1]\n",
        "        self._items[self._top] = None\n",
        "        self._items[self._top - 1] = None\n",
        "        self._top -= 2\n",
        "        self._size -= 2\n",
        "        return (oldItem1, oldItem2)\n",
        "    def peek(self):\n",
        "        return self._items[self._top]\n",
        "    def __len__(self):\n",
        "        return self._size\n",
        "    def __str__(self):\n",
        "        result = ' '\n",
        "        for i in range(len(self)):\n",
        "            result += str(self._items[i]) + ' '\n",
        "        return result\n",
        "\n",
        "# Test\n",
        "myStack = a2Stack(10)\n",
        "for i in range(5):\n",
        "  myStack.push(2*i, 2*i+1)\n",
        "print(str(myStack))\n",
        "myStack.pop()\n",
        "myStack.pop()\n",
        "print(str(myStack))\n",
        "myStack.push(7,11)\n",
        "print(str(myStack))"
      ],
      "outputs": [
        {
          "output_type": "stream",
          "name": "stdout",
          "text": [
            " 0 1 2 3 4 5 6 7 8 9 \n",
            " 0 1 2 3 4 5 \n",
            " 0 1 2 3 4 5 7 11 \n"
          ]
        }
      ],
      "execution_count": 119,
      "metadata": {
        "jupyter": {
          "outputs_hidden": false
        },
        "pycharm": {
          "name": "#%%\n"
        },
        "id": "VM1VhboJSWNs",
        "execution": {
          "iopub.status.busy": "2022-06-02T20:43:50.150Z",
          "iopub.execute_input": "2022-06-02T20:43:50.157Z",
          "iopub.status.idle": "2022-06-02T20:43:50.163Z",
          "shell.execute_reply": "2022-06-02T20:43:50.000Z"
        },
        "colab": {
          "base_uri": "https://localhost:8080/"
        },
        "outputId": "03787f5e-56d1-470e-c907-fdb13476c08d"
      }
    },
    {
      "cell_type": "markdown",
      "source": [
        "**c) [15 pts]** Define and implement a function that reverses the items of a given stack using only the methods defined in the Stack class.\n",
        "\n",
        "For example, if the stack includes the elements from one to ten: `[1, 2, 3, 4, 5, 6, 7, 8, 9, 10]`, then calling the new function will modify the stack elements to be from ten to one: `[10, 9, 8, 7, 6, 5, 4, 3, 2, 1]`"
      ],
      "metadata": {
        "id": "jy3QeiXu3679"
      }
    },
    {
      "cell_type": "code",
      "source": [
        "#INSERT YOUR ANSWER HERE.\n",
        "def flipStackInPlace(stack):\n",
        "  cap = len(stack)\n",
        "  poppedOff = []\n",
        "  while (len(stack) != 0):\n",
        "    element = stack.pop()\n",
        "    poppedOff.append(element)\n",
        "  for i in range(len(poppedOff)):\n",
        "    stack.push(poppedOff[i])\n",
        "\n",
        "myStack = aStack(10)\n",
        "for i in range(10):\n",
        "  myStack.push(i+1)\n",
        "print(myStack)\n",
        "flipStackInPlace(myStack)\n",
        "print(myStack)"
      ],
      "outputs": [
        {
          "output_type": "stream",
          "name": "stdout",
          "text": [
            " 1 2 3 4 5 6 7 8 9 10 \n",
            " 10 9 8 7 6 5 4 3 2 1 \n"
          ]
        }
      ],
      "execution_count": 117,
      "metadata": {
        "id": "vvJsYxdmqYHt",
        "execution": {
          "iopub.status.busy": "2022-06-02T20:43:50.173Z",
          "iopub.execute_input": "2022-06-02T20:43:50.180Z",
          "iopub.status.idle": "2022-06-02T20:43:50.188Z",
          "shell.execute_reply": "2022-06-02T20:43:50.009Z"
        },
        "colab": {
          "base_uri": "https://localhost:8080/"
        },
        "outputId": "fd2e770f-76e7-4c67-f40f-f5849d8a102b"
      }
    },
    {
      "cell_type": "markdown",
      "source": [
        "*****"
      ],
      "metadata": {
        "id": "2IV0N3fJAQfU"
      }
    },
    {
      "cell_type": "markdown",
      "source": [
        "### **Question 3  [30 pts]**: "
      ],
      "metadata": {
        "id": "k07397EN8dyu"
      }
    },
    {
      "cell_type": "markdown",
      "source": [
        "**a)** **[15 pts]**  Write an algorithm that creates a Ragged Grid with four rows. The first row has 3 positions, the second row has 4 positions, the third row includes 6 positions, and the fourth row contains 1. You can modify the iArray ADT defined below or use any standard library to implement your algorithm.\n",
        "\n",
        "```\n",
        "class iArray():\n",
        "    def __init__(self, capacity, fillValue = None):\n",
        "        self._items = list()\n",
        "        for count in range(capacity): \n",
        "            self._items.append(fillValue)\n",
        "    def __len__(self):\n",
        "        return len(self._items)  \n",
        "    def __str__(self):\n",
        "        return str(self._items)\n",
        "    def __iter__(self):\n",
        "        return iter(self._items)\n",
        "    def __getitem__(self, index):\n",
        "        return self._items[index]\n",
        "    def __setitem__(self, index, newItem):\n",
        "        self._items[index] = newItem\n",
        "```\n"
      ],
      "metadata": {
        "id": "rRiTZiUCyJw8"
      }
    },
    {
      "cell_type": "code",
      "source": [
        "#INSERT YOUR ANSWER HERE.\n",
        "ragged_grid = [ [0,0,0],\n",
        "                [0,0,0,0],\n",
        "                [0,0,0,0,0,0],\n",
        "                [0] ]\n",
        "class RaggedGrid():\n",
        "    def __init__(self, fillValue = None):\n",
        "        self._items = [[], [], [], []]\n",
        "        for count in range(3):\n",
        "            self._items[0].append(fillValue)\n",
        "        for count in range(4):\n",
        "            self._items[1].append(fillValue)\n",
        "        for count in range(6):\n",
        "            self._items[2].append(fillValue)\n",
        "        for count in range(1):\n",
        "            self._items[3].append(fillValue)\n",
        "\n",
        "rg2 = RaggedGrid(7)\n",
        "print(rg2._items)"
      ],
      "outputs": [
        {
          "output_type": "stream",
          "name": "stdout",
          "text": [
            "[[7, 7, 7], [7, 7, 7, 7], [7, 7, 7, 7, 7, 7], [7]]\n"
          ]
        }
      ],
      "execution_count": 113,
      "metadata": {
        "id": "WijJ5QqlySxQ",
        "execution": {
          "shell.execute_reply": "2022-06-02T20:43:50.020Z",
          "iopub.status.busy": "2022-06-02T20:43:50.200Z",
          "iopub.execute_input": "2022-06-02T20:43:50.207Z",
          "iopub.status.idle": "2022-06-02T20:43:50.215Z"
        },
        "colab": {
          "base_uri": "https://localhost:8080/"
        },
        "outputId": "6e45f6aa-4bae-43b4-e943-ce8642095ff4"
      }
    },
    {
      "cell_type": "markdown",
      "source": [
        "\n",
        "**b)** **[15 pts]** Write an algorithm to create and display a two-dimensional array or a regular Grid of three rows and four columns. The Grid's elements are selected randomly from an inclusive interval of `[-100, 100]`. You can install and use any standard or third-party library to report your answer to this question."
      ],
      "metadata": {
        "id": "e244Y9zXy2Jo"
      }
    },
    {
      "cell_type": "code",
      "source": [
        "#INSERT YOUR ANSWER HERE.\n",
        "import random\n",
        "grid = []\n",
        "for i in range(30):\n",
        "  row = []\n",
        "  for j in range(40):\n",
        "    randnum = random.randint(-100,100)\n",
        "    row.append(randnum)\n",
        "  grid.append(row)\n",
        "\n",
        "for i in range(30):\n",
        "  print(grid[i])\n",
        "print(grid[4][9])"
      ],
      "outputs": [
        {
          "output_type": "stream",
          "name": "stdout",
          "text": [
            "[40, -20, 74, 76, 42, -36, 0, 6, 5, -31, -93, 71, -56, -72, -41, -57, -27, 73, 9, 95, 61, 44, 88, 52, 27, 72, -76, 40, 75, 93, -15, -34, -54, 78, -18, 66, 90, 98, -18, -62]\n",
            "[49, -89, -53, -29, 10, 9, -14, -83, -57, -94, -60, -17, 8, -1, -89, 62, 9, 67, -16, 21, -31, 65, -60, 91, 21, 90, -46, -14, -43, 22, -59, 31, -92, -20, -44, -64, 90, 64, -88, 50]\n",
            "[-75, 0, -27, -24, -40, -87, 71, -95, 20, 95, -40, -34, -47, -2, 7, 96, 95, 22, 50, -74, 79, -93, -32, -97, 4, 51, -90, 11, -97, -95, -44, 54, -99, -93, 94, -95, -41, 2, 28, -37]\n",
            "[20, -76, 71, 96, -17, 75, 52, -50, -33, 41, -78, -23, -38, -94, -36, 71, 59, -13, -58, 38, 25, -31, 3, -15, 36, -36, 26, -59, 30, 32, 6, 19, 54, 37, 25, -9, -62, 2, 81, -70]\n",
            "[16, 7, 84, 38, -43, 3, 28, 72, -84, -93, -54, -84, 28, -50, 0, 54, -66, 93, 51, -11, 27, 92, 87, 21, 31, -20, -45, -58, -89, -42, 33, 18, 87, 19, -6, 23, 51, 82, 54, 18]\n",
            "[80, 18, -40, 3, 24, -53, 95, 8, 82, -33, -43, -90, 53, 43, 8, -55, 97, -95, 85, 82, 79, 85, 93, -58, 8, -41, -35, -35, -54, 75, 16, 96, 4, 92, 40, -74, -83, 39, 12, -92]\n",
            "[94, 24, 63, 30, 4, 30, -2, 64, 73, 28, 36, -17, 78, 98, 85, 21, 73, 53, -90, -61, -40, -14, 21, 83, 35, -34, 46, -29, -15, 65, -58, -25, 24, 13, 2, -27, -94, 2, 71, -82]\n",
            "[-67, -92, -12, 61, 53, 34, -94, 15, -67, 22, -44, 10, 81, 100, 21, 63, -9, 20, -43, -18, 35, 100, -9, 44, -43, 73, -13, -56, 80, -76, 79, 76, -58, -82, 36, -27, -58, -94, 68, -29]\n",
            "[22, -16, -97, 37, -1, 89, -32, -98, -78, -2, 94, 21, -36, 59, -18, 5, 63, -84, -88, -76, 37, 5, -82, -5, 89, -13, -68, -35, 47, -95, -75, 16, -72, -97, 48, 84, 5, -55, -71, -40]\n",
            "[19, -50, 22, 47, 92, 22, -93, 38, -87, -6, -27, -8, -44, -33, -42, 24, 63, 84, 63, 19, 34, 75, -11, -96, -86, -30, 81, -37, 45, 36, -2, 43, -43, -9, -61, 44, -2, -17, 3, 27]\n",
            "[35, 64, -99, -8, 17, 37, 73, 45, -61, 1, 43, -64, 31, -82, 52, -74, 42, -59, -69, 11, 25, -81, 56, 97, -48, -60, -43, 16, -43, -63, 78, 22, 38, -75, 58, 36, -84, 86, -69, 17]\n",
            "[92, -58, -92, -3, -17, -67, -81, -94, 45, -38, -23, 29, -75, -37, -27, -18, 37, 7, 36, -36, -53, -32, -8, 91, 91, -72, 95, 44, 89, 80, -76, 94, 56, 58, 24, -94, -21, 2, 13, -59]\n",
            "[78, 26, -17, 89, -73, -2, 13, -19, 23, 71, 60, -71, 25, 100, -22, 4, -41, 78, 74, -76, -30, 36, 18, 51, 89, -100, -4, 62, 80, 45, 18, -12, 55, 2, 56, 85, 14, 89, 9, -92]\n",
            "[13, 55, -13, -97, -54, 40, 66, -27, 24, -89, -36, -36, -44, 63, -37, -2, -82, 69, 47, -30, -25, -29, 82, -17, -71, -55, 53, 81, 60, -64, 73, -18, 97, -46, -52, 48, 40, -89, 68, -74]\n",
            "[25, 41, 84, -82, -96, -84, 14, -68, -99, 75, -42, -2, 31, 45, 12, -26, -84, 46, -79, -86, 66, 58, -37, -92, 82, 56, -62, 15, -49, -95, 42, -71, -78, 80, -31, -5, 13, 5, -85, 83]\n",
            "[81, 76, 69, -18, 61, 70, 96, -97, -57, 86, 28, -94, 33, 5, -14, -44, -61, -87, 80, 73, -52, 21, 3, -15, 38, 11, -43, 45, 60, -67, -83, 27, -76, -48, 43, 9, 7, 93, 86, 51]\n",
            "[15, 56, -89, -22, -47, 34, -8, -22, 26, -27, 37, 53, -92, 83, -53, -80, -28, 1, -21, -70, -98, -52, 24, 43, 40, -51, 18, -83, 43, 52, -55, -43, -20, 64, 47, 69, 42, -18, -36, -2]\n",
            "[-11, 95, 9, 26, 65, 19, -31, -39, 48, -81, -26, -22, 16, 19, -60, 13, 20, 5, 10, -56, -8, 70, 19, -66, 77, -82, -28, 0, -8, -27, 47, -75, 63, 20, 8, -15, -26, 31, -63, 50]\n",
            "[-52, -37, 73, 12, -75, 91, -14, -24, 15, -17, -69, -48, -37, -78, -1, 92, 33, 88, 94, 71, -83, -66, -44, -70, 31, -47, -33, -64, -18, 83, 100, -33, 94, -91, 61, -27, -65, -94, -98, -78]\n",
            "[35, 84, -13, 12, -39, -45, 95, 78, 0, -36, 84, -1, 43, 47, 5, -19, 14, -6, 40, 81, -18, -90, 13, 60, 51, 82, -84, -28, -72, -67, 72, 53, 52, 99, 33, 5, 97, 0, -8, 76]\n",
            "[65, -4, -72, 65, 99, 60, -82, -34, -48, -71, -20, -1, -6, 68, -91, -31, 34, -89, -59, -78, 72, -60, -53, 21, 18, -89, 80, 26, 54, 10, -30, -45, -48, 69, 14, -73, 68, -47, 94, 47]\n",
            "[-13, -97, -46, -22, 42, -49, -80, 19, -72, -23, 93, -16, 28, -100, -91, -62, 42, -69, 78, 8, 87, -13, -14, 99, 100, 66, -7, -90, 78, 46, -82, 19, 78, 38, 63, -7, -93, -3, -77, 82]\n",
            "[-16, -88, -21, -32, -5, -8, -90, -37, -45, -44, -6, -74, -52, -62, 0, -59, -77, -90, -70, 64, 77, -7, -95, -39, -95, -59, -95, -55, 49, -42, -9, 23, 92, 84, -8, -60, -86, 72, 66, -26]\n",
            "[71, -90, -20, 69, 93, -89, -7, 18, 39, -55, -57, -10, -42, -63, 96, 24, 26, -75, 31, 32, -32, -15, -96, 67, -76, 48, 94, -55, -72, -29, -58, -23, -6, 39, 66, -10, 1, -7, 0, 52]\n",
            "[-2, 29, 91, 66, 52, 7, 5, -27, -79, 34, 53, 89, 69, 21, -50, -54, -3, 61, -90, 33, -63, -85, 3, 29, -91, 97, -63, 33, 22, 29, 85, 14, -60, 20, -95, -80, 98, -1, -17, -21]\n",
            "[58, 69, -18, -47, 13, 52, 85, 35, 29, 48, 50, -57, -40, -43, 10, -8, -76, 61, 59, -78, 62, -2, 72, -88, -46, -51, 55, 83, -78, -8, -11, -38, 53, 34, 2, -74, -22, 7, -94, 63]\n",
            "[27, 73, -85, -55, 40, -65, -90, 29, -18, -58, 69, 15, -6, -56, 88, -70, -15, -37, -60, -72, 19, 61, -100, 56, 5, 67, 19, -75, 24, -82, 94, 41, 87, -78, 0, 82, -42, -26, 8, -54]\n",
            "[76, -92, 46, -89, -22, 13, 27, 6, -7, -79, -69, -85, 98, -68, -58, 18, -87, 100, 12, 16, -93, 73, -99, -58, -14, -10, 76, 94, -90, -60, -17, -62, -67, 21, -25, 43, -59, -48, 99, 58]\n",
            "[-54, -62, -68, 14, 16, -58, -43, -94, 7, -6, -29, -17, -95, -34, -79, 70, 40, -63, -59, -85, -30, -2, -98, -71, -26, -71, 7, 82, -39, 56, 31, -71, -94, -95, 82, -77, 89, -100, 77, 99]\n",
            "[-80, 65, 38, 59, 82, -26, -38, 70, 95, -63, 54, 68, 36, -84, -18, -34, 96, -34, -53, 35, 35, -60, 45, 68, 52, 39, 45, -55, -2, -47, 27, -78, -22, -7, -89, 66, 8, 0, 33, 60]\n",
            "-93\n"
          ]
        }
      ],
      "execution_count": 112,
      "metadata": {
        "id": "fk4bxh5hw-ap",
        "execution": {
          "shell.execute_reply": "2022-06-02T20:43:50.030Z",
          "iopub.status.busy": "2022-06-02T20:43:50.227Z",
          "iopub.execute_input": "2022-06-02T20:43:50.236Z",
          "iopub.status.idle": "2022-06-02T20:43:50.246Z"
        },
        "colab": {
          "base_uri": "https://localhost:8080/"
        },
        "outputId": "81987519-ef5d-4428-e81d-a43939407a50"
      }
    },
    {
      "cell_type": "markdown",
      "source": [
        "**c) BONUS [10 pts]** \n",
        "Define and implement a [Double-ended queue](https://en.wikipedia.org/wiki/Queue_(abstract_data_type)) (Deque) ADT. The Deque is a sequence of items where addtions and deletions of items can be done at both ends of the sequence.  The Deque can be implemnted using the iArray ADT with the following methods: \n",
        "``` \n",
        "constructor, append_left, append_right, pop_left, pop_right, peek_left, peek_right, __len__, and __str__.\n",
        "```\n",
        "\n",
        "```\n",
        "class Deque(iArray):\n",
        "  def __init__(self, capacity = 10):\n",
        "    #INSERT YOUR ANSWER HERE.\n",
        "  \n",
        "  def append_left(self, newItem):\n",
        "    #INSERT YOUR ANSWER HERE.\n",
        "  \n",
        "  def append_right(self, newItem):  \n",
        "    #INSERT YOUR ANSWER HERE.\n",
        "  \n",
        "  def pop_left(self):\n",
        "    #INSERT YOUR ANSWER HERE.\n",
        "  \n",
        "  def pop_right(self):\n",
        "    #INSERT YOUR ANSWER HERE.\n",
        "  \n",
        "  def peek_left(self):\n",
        "    #INSERT YOUR ANSWER HERE.\n",
        "  \n",
        "  def peek_right(self):\n",
        "    #INSERT YOUR ANSWER HERE.\n",
        "  \n",
        "  def __len__(self):\n",
        "    #INSERT YOUR ANSWER HERE.\n",
        "  \n",
        "  def __str__(self):\n",
        "    #INSERT YOUR ANSWER HERE.\n",
        "```"
      ],
      "metadata": {
        "id": "JOHDZruJzNcd"
      }
    },
    {
      "cell_type": "code",
      "source": [
        "#INSERT YOUR ANSWER HERE.\n",
        "\n",
        "class Deque():\n",
        "  def __init__(self, capacity = 10):\n",
        "        self._items = [None for i in range(capacity)]\n",
        "        self._top = capacity//2\n",
        "        self._bot = capacity//2 + 1\n",
        "        self._size = 0\n",
        "\n",
        "  def append_left(self, newItem):\n",
        "        self._bot -= 1\n",
        "        self._size += 1\n",
        "        self._items[self._bot] = newItem\n",
        "\n",
        "  def append_right(self, newItem):  \n",
        "        self._top += 1\n",
        "        self._size += 1\n",
        "        self._items[self._top] = newItem\n",
        "\n",
        "  def pop_left(self):\n",
        "        oldItem = self._items[self._bot]\n",
        "        self._items[self._top] = None\n",
        "        self._bot += 1\n",
        "        self._size -= 1\n",
        "        return oldItem\n",
        "\n",
        "  def pop_right(self):\n",
        "        oldItem = self._items[self._top]\n",
        "        self._items[self._top] = None\n",
        "        self._top -= 1\n",
        "        self._size -= 1\n",
        "        return oldItem\n",
        "\n",
        "  def peek_left(self):\n",
        "        return self._items[self._bot]\n",
        "\n",
        "  def peek_right(self):\n",
        "        return self._items[self._top]\n",
        "\n",
        "  def __len__(self):\n",
        "        return self._size\n",
        "\n",
        "  def __str__(self):\n",
        "        result = ' '\n",
        "        for i in range(self._bot, self._top+1):\n",
        "            result += str(self._items[i]) + ' '\n",
        "        return result\n",
        "\n",
        "# Test\n",
        "myDeque = Deque(20)\n",
        "for i in range(5):\n",
        "  myDeque.append_left(-(i+5))\n",
        "for i in range(7):\n",
        "  myDeque.append_right(i*i)\n",
        "print(myDeque)\n",
        "print(myDeque.peek_left(), myDeque.peek_right())\n",
        "myDeque.pop_left()\n",
        "myDeque.pop_right()\n",
        "myDeque.pop_right()\n",
        "print(myDeque)\n",
        "print(len(myDeque))"
      ],
      "outputs": [
        {
          "output_type": "stream",
          "name": "stdout",
          "text": [
            " -9 -8 -7 -6 -5 0 1 4 9 16 25 36 \n",
            "-9 36\n",
            " -8 -7 -6 -5 0 1 4 9 16 \n",
            "9\n"
          ]
        }
      ],
      "execution_count": 120,
      "metadata": {
        "id": "4wqA5wHD07xS",
        "execution": {
          "shell.execute_reply": "2022-06-02T20:43:50.039Z",
          "iopub.status.busy": "2022-06-02T20:43:50.256Z",
          "iopub.execute_input": "2022-06-02T20:43:50.263Z",
          "iopub.status.idle": "2022-06-02T20:43:50.272Z"
        },
        "colab": {
          "base_uri": "https://localhost:8080/"
        },
        "outputId": "cc600c56-1549-44b6-d6fd-85f9abd832f2"
      }
    },
    {
      "cell_type": "markdown",
      "source": [
        "*****"
      ],
      "metadata": {
        "id": "0kQIsm9gAS21"
      }
    },
    {
      "cell_type": "markdown",
      "source": [
        "#### This is the end of assignment 3"
      ],
      "metadata": {
        "id": "7vRukEN2JfGX"
      }
    },
    {
      "cell_type": "code",
      "source": [
        "%%shell\n",
        "jupyter nbconvert -- to html /content/CIND830_S22_Assignment3.ipynb"
      ],
      "metadata": {
        "colab": {
          "base_uri": "https://localhost:8080/"
        },
        "id": "8mr0DcgbX8uX",
        "outputId": "8508406c-b9aa-4da5-99f4-7cb29bff4122"
      },
      "execution_count": 3,
      "outputs": [
        {
          "output_type": "stream",
          "name": "stdout",
          "text": [
            "[NbConvertApp] WARNING | pattern 'to' matched no files\n",
            "[NbConvertApp] WARNING | pattern 'html' matched no files\n",
            "[NbConvertApp] Converting notebook /content/CIND830_S22_Assignment3.ipynb to html\n",
            "[NbConvertApp] Writing 343720 bytes to /content/CIND830_S22_Assignment3.html\n"
          ]
        },
        {
          "output_type": "execute_result",
          "data": {
            "text/plain": [
              ""
            ]
          },
          "metadata": {},
          "execution_count": 3
        }
      ]
    }
  ],
  "metadata": {
    "colab": {
      "name": "CIND830_S22_Assignment3.ipynb",
      "provenance": [],
      "collapsed_sections": []
    },
    "kernelspec": {
      "display_name": "Python 3",
      "language": "python",
      "name": "python3"
    },
    "language_info": {
      "name": "python",
      "version": "3.8.5",
      "mimetype": "text/x-python",
      "codemirror_mode": {
        "name": "ipython",
        "version": 3
      },
      "pygments_lexer": "ipython3",
      "nbconvert_exporter": "python",
      "file_extension": ".py"
    },
    "nteract": {
      "version": "0.28.0"
    },
    "varInspector": {
      "cols": {
        "lenName": 16,
        "lenType": 16,
        "lenVar": 40
      },
      "kernels_config": {
        "python": {
          "delete_cmd_postfix": "",
          "delete_cmd_prefix": "del ",
          "library": "var_list.py",
          "varRefreshCmd": "print(var_dic_list())"
        },
        "r": {
          "delete_cmd_postfix": ") ",
          "delete_cmd_prefix": "rm(",
          "library": "var_list.r",
          "varRefreshCmd": "cat(var_dic_list()) "
        }
      },
      "types_to_exclude": [
        "module",
        "function",
        "builtin_function_or_method",
        "instance",
        "_Feature"
      ],
      "window_display": false
    }
  },
  "nbformat": 4,
  "nbformat_minor": 0
}