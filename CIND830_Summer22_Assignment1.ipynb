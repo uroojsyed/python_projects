{
  "cells": [
    {
      "cell_type": "markdown",
      "source": [
        "## CIND830 - Python Programming for Data Science  \n",
        "### Assignment 1 (10% of the final grade) \n",
        "### Due on July 11, 2022 11:59 PM \n",
        "### Section DHB | Student Number: 500778806"
      ],
      "metadata": {
        "id": "kJ6ssXaGJfGN"
      }
    },
    {
      "cell_type": "markdown",
      "source": [
        "*****\n",
        "This is a Jupyter Notebook document that extends a simple formatting syntax for authoring HTML and PDF. Review [this](https://jupyter-notebook.readthedocs.io/en/stable/notebook.html) website for more details on using Jupyter Notebooks.\n",
        "\n",
        "Consider using a Jupyter Notebook platform to complete this assignment. Ensure using **Python 3.7 release or higher** then complete the assignment by inserting your Python code wherever seeing the string `#INSERT YOUR ANSWER HERE.`\n",
        "\n",
        "When you click the `File` button, from the top navigation bar, then select `Export Notebook to HTML`, an HTML document will be generated that includes both the assignment content and the output of any embedded Python code chunks.\n",
        "\n",
        "Use [these](https://www.ryerson.ca/courses/students/tutorials/assignments/) guidelines to submit **both** the IPYNB and the exported file (HTML). Failing to submit both files will be subject to mark deduction.\n",
        "\n",
        "Please be advised that you cannot get more than 100% in this assignment, and the **BONUS** question (if there is any) will only be graded if all other questions have been submitted."
      ],
      "metadata": {
        "id": "UWjXw7DsJfGP"
      }
    },
    {
      "cell_type": "markdown",
      "source": [
        "*****\n"
      ],
      "metadata": {
        "id": "jPrZqSxgSWNr"
      }
    },
    {
      "cell_type": "markdown",
      "source": [
        "### **Question 1  [25 pts]**:\n",
        "\n",
        "According to the Toronto Real Estate Trends and the Housing Market Report for June 2022 (published in https://www.zolo.ca/toronto-real-estate/trends) in June 2022, the average house price in GTA decreased to $1,187,564 in June 2022 with a month-to-month change rate of -4.7 percent. As of June 2022, Toronto housing data shows median days on market for a home is 14 days.\n",
        "\n",
        "```\n",
        "regionName = \"Greater Toronto Area\"\n",
        "juneAvePrice = 1187564\n",
        "changeRate = -0.047\n",
        "daysInMarket = 14\n",
        "decreasing = True\n",
        "```"
      ],
      "metadata": {
        "id": "3uPMJmhY2U3z"
      }
    },
    {
      "cell_type": "markdown",
      "source": [
        "**a) [5 pts]**  Use the built-in `print()` function to display the literal and type of the five variables listed above."
      ],
      "metadata": {
        "id": "k1XAudGA7spo"
      }
    },
    {
      "cell_type": "code",
      "source": [
        "# INSERT YOUR ANSWER HERE\n",
        "regionName = \"Greater Toronto Area\"\n",
        "juneAvePrice = 1187564\n",
        "changeRate = -0.047\n",
        "daysInMarket = 14\n",
        "decreasing = True\n",
        "print(type(regionName))\n",
        "print(type(juneAvePrice))\n",
        "print(type(changeRate))\n",
        "print(type(daysInMarket))\n",
        "print(type(decreasing))"
      ],
      "outputs": [
        {
          "output_type": "stream",
          "name": "stdout",
          "text": [
            "<class 'str'>\n",
            "<class 'int'>\n",
            "<class 'float'>\n",
            "<class 'int'>\n",
            "<class 'bool'>\n"
          ]
        }
      ],
      "execution_count": null,
      "metadata": {
        "id": "UjKW5a4a8Vcc",
        "execution": {
          "iopub.status.busy": "2022-06-22T21:28:33.707Z",
          "iopub.execute_input": "2022-06-22T21:28:33.716Z",
          "iopub.status.idle": "2022-06-22T21:28:33.726Z",
          "shell.execute_reply": "2022-06-22T21:28:33.596Z"
        },
        "colab": {
          "base_uri": "https://localhost:8080/"
        },
        "outputId": "da0e598f-6ced-447b-9f90-032fd6259322"
      }
    },
    {
      "cell_type": "markdown",
      "source": [
        "**b) [5 pts]**  Suppose that the decrease rate stays the same in July 2022. Compute and display the new expected Average Selling Price for this month, and round up the result to the nearest whole number."
      ],
      "metadata": {
        "id": "OvyRQKZH7suk"
      }
    },
    {
      "cell_type": "code",
      "source": [
        "# INSERT YOUR ANSWER HERE\n",
        "julyAvePrice = juneAvePrice - (juneAvePrice*0.047)\n",
        "print(julyAvePrice)\n"
      ],
      "outputs": [
        {
          "output_type": "stream",
          "name": "stdout",
          "text": [
            "1131748.492\n"
          ]
        }
      ],
      "execution_count": null,
      "metadata": {
        "id": "peRH_TLP7sM-",
        "execution": {
          "iopub.status.busy": "2022-06-22T21:28:33.739Z",
          "iopub.execute_input": "2022-06-22T21:28:33.748Z",
          "iopub.status.idle": "2022-06-22T21:28:33.758Z",
          "shell.execute_reply": "2022-06-22T21:28:33.606Z"
        },
        "colab": {
          "base_uri": "https://localhost:8080/"
        },
        "outputId": "4c817a5e-b2a2-45c3-b545-a41993638ce5"
      }
    },
    {
      "cell_type": "markdown",
      "source": [
        "**c) [5 pts]**  Compute and display the difference between the Average Selling Price in June 2022 and that in July 2022."
      ],
      "metadata": {
        "id": "GRm1zgnDERyQ"
      }
    },
    {
      "cell_type": "code",
      "source": [
        "# INSERT YOUR ANSWER HERE\n",
        "diffAvePrice = juneAvePrice - julyAvePrice\n",
        "print(diffAvePrice)"
      ],
      "outputs": [
        {
          "output_type": "stream",
          "name": "stdout",
          "text": [
            "55815.507999999914\n"
          ]
        }
      ],
      "execution_count": null,
      "metadata": {
        "id": "fGa7XLeHEU59",
        "execution": {
          "iopub.status.busy": "2022-06-22T21:28:33.769Z",
          "iopub.execute_input": "2022-06-22T21:28:33.776Z",
          "iopub.status.idle": "2022-06-22T21:28:33.785Z",
          "shell.execute_reply": "2022-06-22T21:28:33.615Z"
        },
        "colab": {
          "base_uri": "https://localhost:8080/"
        },
        "outputId": "e7b938ec-ce99-49ff-cb61-2a30978c7aaa"
      }
    },
    {
      "cell_type": "markdown",
      "source": [
        "**d) [5 pts]**  Convert the variable `junAvePrice` to a floating-point number\n",
        "then display the new literal and type."
      ],
      "metadata": {
        "id": "WAXwXsKgEam4"
      }
    },
    {
      "cell_type": "code",
      "source": [
        "# INSERT YOUR ANSWER HERE\n",
        "juneAvePrice = float(juneAvePrice)\n",
        "print(type(juneAvePrice))"
      ],
      "outputs": [
        {
          "output_type": "stream",
          "name": "stdout",
          "text": [
            "<class 'float'>\n"
          ]
        }
      ],
      "execution_count": null,
      "metadata": {
        "id": "f3X8BPs7EbhV",
        "execution": {
          "iopub.status.busy": "2022-06-22T21:28:33.796Z",
          "iopub.execute_input": "2022-06-22T21:28:33.802Z",
          "iopub.status.idle": "2022-06-22T21:28:33.810Z",
          "shell.execute_reply": "2022-06-22T21:28:33.623Z"
        },
        "colab": {
          "base_uri": "https://localhost:8080/"
        },
        "outputId": "6ac08bba-cebf-4371-d827-e57ec737b575"
      }
    },
    {
      "cell_type": "markdown",
      "source": [
        "**e) [5 pts]**  Given that `var1` is the `julyAvePrice` variable rounded up to the nearest whole number,\n",
        "and `var2` is the `changeRate` variable rounded to two decimal places.\n",
        "\n",
        "Print the following statement:\n",
        "The average selling price might be `var1` in July 2022, which is a `var2` month-to-month change rate."
      ],
      "metadata": {
        "id": "UMBHATcKEe0Q"
      }
    },
    {
      "cell_type": "markdown",
      "source": [],
      "metadata": {
        "id": "lrvXc2JIqE4m"
      }
    },
    {
      "cell_type": "code",
      "source": [
        "# INSERT YOUR ANSWER HERE\n",
        "var1 = round(julyAvePrice, 2)\n",
        "var2 = round(changeRate, 2)\n",
        "print(\"The average selling price might be \" + str(var1) + \" in July 2022, which is a \" + str(var2) + \" month-to-month change rate.\")"
      ],
      "outputs": [
        {
          "output_type": "stream",
          "name": "stdout",
          "text": [
            "The average selling price might be 1131748.49 in July 2022, which is a -0.05 month-to-month change rate.\n"
          ]
        }
      ],
      "execution_count": null,
      "metadata": {
        "id": "dD8W3UeREiO_",
        "execution": {
          "shell.execute_reply": "2022-06-22T21:28:33.635Z",
          "iopub.status.busy": "2022-06-22T21:28:33.820Z",
          "iopub.execute_input": "2022-06-22T21:28:33.829Z",
          "iopub.status.idle": "2022-06-22T21:28:33.839Z"
        },
        "colab": {
          "base_uri": "https://localhost:8080/"
        },
        "outputId": "e4e31ff6-cfce-471d-b756-3390d9060b01"
      }
    },
    {
      "cell_type": "markdown",
      "source": [
        "*****\n"
      ],
      "metadata": {
        "id": "BZD6AgLUvyE0"
      }
    },
    {
      "cell_type": "markdown",
      "source": [
        "### Question 2  **[35 pts]**:\n",
        "\n",
        "**a) [15 pts]**  Write a Python program that accepts a list of marks then prints the letter grade and description according to the [Grading System](https://continuing.ryerson.ca/contentManagement.do?method=load&code=CM000034) of the Chang School of Continuing Education.\n",
        "\n",
        "For example, if the user enters `90, 120, -12, 71.5, 62.5`, the output would be as follows:\n",
        "\n",
        "| Mark | Letter Grade | Performance Description |\n",
        "|:-:|:-:|:-:|\n",
        "| 90 | A+ | Excellent |\n",
        "| 120 | Not Possible | Not Possible |\n",
        "| -12 | Not Possible | Not Possible |\n",
        "| 71.5 | B- | Good |\n",
        "| 62.5 | C | Satisfactory |"
      ],
      "metadata": {
        "id": "vh58EXD8vzfs"
      }
    },
    {
      "cell_type": "code",
      "source": [
        "# INSERT YOUR ANSWER HERE\n",
        "number = float(input(\"Enter the numeric grade: \"))\n",
        "if number >= 90 or number <= 100:\n",
        "  letter = 'A+',\n",
        "  performance = \"Excellent\"\n",
        "elif number >= 85 or number <= 89:\n",
        "  letter = 'A'\n",
        "  performance = \"Excellent\"\n",
        "elif number >= 80 or number <= 84:\n",
        "  letter = 'A-'\n",
        "  performance = \"Excellent\"\n",
        "elif number >= 77 or number <= 79:\n",
        "  letter = 'B+'\n",
        "  performance = \"Good\"\n",
        "elif number >= 73 or number <= 76:\n",
        "  letter = 'B'\n",
        "  performance = \"Good\"\n",
        "elif number >= 70 or number <= 72:\n",
        "  letter = 'B-'\n",
        "  performance = \"Good\"\n",
        "elif number >= 67 or number <= 69:\n",
        "  letter = 'C+'\n",
        "  performance = \"Satisfactory\"\n",
        "elif number >= 63 or number <= 66:\n",
        "  letter = 'C'\n",
        "  performance = \"Satisfactory\"\n",
        "elif number >= 60 or number <= 62:\n",
        "  letter = 'C-'\n",
        "  performance = \"Satisfactory\"\n",
        "elif number >= 57 or number <= 59:\n",
        "  letter = 'D+'\n",
        "  performance = \"Marginal\"\n",
        "elif number >= 53 or number <= 56:\n",
        "  letter = 'D'\n",
        "  performance = \"Marginal\"\n",
        "elif number >= 50 or number <= 52:\n",
        "  letter = 'D-'\n",
        "  performance = \"Marginal\"\n",
        "else:\n",
        "  letter = 'F'\n",
        "  performance = \"Not Possible\"\n",
        "print(\"The letter grade is\", letter, \"and the performance description is\", performance)"
      ],
      "outputs": [
        {
          "output_type": "stream",
          "name": "stdout",
          "text": [
            "Enter the numeric grade: 90\n",
            "The letter grade is ('A+',) and the performance description is Excellent\n"
          ]
        }
      ],
      "execution_count": null,
      "metadata": {
        "id": "p0kGfpOuv4C3",
        "execution": {
          "shell.execute_reply": "2022-06-22T21:28:33.645Z",
          "iopub.status.busy": "2022-06-22T21:28:33.851Z",
          "iopub.execute_input": "2022-06-22T21:28:33.857Z",
          "iopub.status.idle": "2022-06-22T21:28:33.864Z"
        },
        "colab": {
          "base_uri": "https://localhost:8080/"
        },
        "outputId": "395cf8e2-d7ed-4f25-8a45-4d8d9f16519e"
      }
    },
    {
      "cell_type": "markdown",
      "source": [
        "**b)**  **[10 pts]** Write a code to compute and print the sum of squares of only the `Excellent` marks.\n",
        "\n",
        "For example, if the user enters `90.5, 120, -12, 71.3, 82.2, 62.5`, then the output should be: <br>\n",
        "`The Excellent marks are:  90.5, 82.2`<br>\n",
        "`The sum of squares is  14947.09`"
      ],
      "metadata": {
        "id": "ifJDm_q6v7sx"
      }
    },
    {
      "cell_type": "code",
      "source": [
        "# INSERT YOUR ANSWER HERE\n",
        "# Creating an empty list\n",
        "numbersList = []\n",
        "# Elements as input\n",
        "numbersList = [float(number) for number in input(\"Enter the numeric grades : \").split(',')]\n",
        "excellentNumbers = [number for number in numbersList if number >= 80]\n",
        "# Sum of squares\n",
        "theSum = 0\n",
        "theSum = sum([number**2 for number in excellentNumbers])\n",
        "print(\"The excellent numbers are\", excellentNumbers)\n",
        "print(\"The sum of squares is\", theSum)\n",
        "\n"
      ],
      "outputs": [
        {
          "output_type": "stream",
          "name": "stdout",
          "text": [
            "Enter the numeric grades : 90.5, 120, -12, 71.3, 82.2, 62.5\n",
            "The excellent numbers are [90.5, 120.0, 82.2]\n",
            "The sum of squares is 29347.09\n"
          ]
        }
      ],
      "execution_count": null,
      "metadata": {
        "id": "-myLIFuPv97v",
        "execution": {
          "shell.execute_reply": "2022-06-22T21:28:33.655Z",
          "iopub.status.busy": "2022-06-22T21:28:33.874Z",
          "iopub.execute_input": "2022-06-22T21:28:33.882Z",
          "iopub.status.idle": "2022-06-22T21:28:33.892Z"
        },
        "colab": {
          "base_uri": "https://localhost:8080/"
        },
        "outputId": "10439226-34d5-40e4-acaf-51bce37d94ba"
      }
    },
    {
      "cell_type": "markdown",
      "source": [
        "**c)**  **[10 pts]** Write a code to compute and print the `Median`, `Average` and `Variance` of the marks between 0 and 100, inclusively, after rounding each mark to the nearest integer.\n",
        "\n",
        "For example, if the user enters `59.8, 60, 29.5, 30, 50, 200`, then the output should be: <br>\n",
        "`The valid marks are:  60, 60, 30, 30, 50 `<br>\n",
        "`Median is 50 ; Average is 46 ; Variance is 230`\n",
        "\n",
        "Hint: Use the [statistics](https://docs.python.org/3.8/library/statistics.html) module as it provides functions to calculate mathematical statistics of numeric data."
      ],
      "metadata": {
        "id": "aobW_LU8wF8f"
      }
    },
    {
      "cell_type": "code",
      "source": [
        "# INSERT YOUR ANSWER HERE\n",
        "import statistics\n",
        "# Creating an empty list\n",
        "numbersList = []\n",
        "# Elements as input\n",
        "numbersList = [float(number) for number in input(\"Enter the numeric grades : \").split(',')]\n",
        "entryNumbers = [number for number in numbersList if number <= 100]\n",
        "# Calculations\n",
        "medianNumbers = statistics.median(entryNumbers)\n",
        "avgNumbers = statistics.mean(entryNumbers)\n",
        "varNumbers = statistics.variance(entryNumbers)\n",
        "roundedEntryNumbers = [round(number) for number in entryNumbers]\n",
        "print(\"The valid marks are:\", roundedEntryNumbers)\n",
        "print(\"the Median is\", round(medianNumbers), \"; Average is\", round(avgNumbers), \"; Variance is\", round(varNumbers))\n"
      ],
      "outputs": [
        {
          "output_type": "stream",
          "name": "stdout",
          "text": [
            "Enter the numeric grades : 59.8, 60, 29.5, 30, 50, 200\n",
            "The valid marks are: [60, 60, 30, 30, 50]\n",
            "the Median is 50 ; Average is 46 ; Variance is 233\n"
          ]
        }
      ],
      "execution_count": null,
      "metadata": {
        "id": "X4ZepoB3wIWJ",
        "execution": {
          "iopub.status.busy": "2022-06-22T21:28:33.901Z",
          "iopub.execute_input": "2022-06-22T21:28:33.907Z",
          "iopub.status.idle": "2022-06-22T21:28:33.913Z",
          "shell.execute_reply": "2022-06-22T21:28:33.667Z"
        },
        "colab": {
          "base_uri": "https://localhost:8080/"
        },
        "outputId": "9bdb4034-e6fe-485e-eeb7-40817ddd2f06"
      }
    },
    {
      "cell_type": "markdown",
      "source": [
        "****"
      ],
      "metadata": {
        "id": "EU4Bf0ZsTDBH"
      }
    },
    {
      "cell_type": "markdown",
      "source": [
        "### Question 3  **[40 pts]**:\n",
        "Write a program that accepts the lengths of three sides of a triangle as inputs then prints the type and compute the properties of the triangle according to the listed conditions and mathematical formulae.\n",
        "\n",
        "**a)**  **[20 pts]** Ensure that all side lengths are positive and the sum of any two side lengths is greater than the third side length."
      ],
      "metadata": {
        "id": "YEIiURX5TGOT"
      }
    },
    {
      "cell_type": "code",
      "source": [
        "# INSERT YOUR ANSWER HERE\n",
        "# Ensure triangle validity\n",
        "a = int(input(\"Enter the length of the first side:\"))\n",
        "b = int(input(\"Enter the length of the second side:\"))\n",
        "c = int(input(\"Enter the length of the third side:\"))\n",
        "def triangle(a,b,c):      \n",
        " if(a + b > c) and ( b + c > a) and (a + c > b):     \n",
        "   print(\"Yes\")\n",
        " else:\n",
        "   print(\"No\")\n",
        "triangle(a,b,c)"
      ],
      "outputs": [
        {
          "output_type": "stream",
          "name": "stdout",
          "text": [
            "Enter the length of the first side:15\n",
            "Enter the length of the second side:14\n",
            "Enter the length of the third side:11\n",
            "Yes\n"
          ]
        }
      ],
      "execution_count": null,
      "metadata": {
        "id": "5o1mh7kyTghP",
        "execution": {
          "shell.execute_reply": "2022-06-22T21:28:33.676Z",
          "iopub.status.busy": "2022-06-22T21:28:33.922Z",
          "iopub.execute_input": "2022-06-22T21:28:33.930Z",
          "iopub.status.idle": "2022-06-22T21:28:33.940Z"
        },
        "colab": {
          "base_uri": "https://localhost:8080/"
        },
        "outputId": "aa584d23-3ab8-413e-f5d8-d0cc5eebeea8"
      }
    },
    {
      "cell_type": "markdown",
      "source": [
        "**b)**  **[20 pts]** Display the type of the triangle according to the following restrictions:\n",
        "\n",
        "Equilateral Triangle: If the triangle has three congruent sides.\n",
        "\n",
        "Isosceles Triangle: If the triangle has two equal sides.\n",
        " \n",
        "Scalene Triangle: If the triangle has no congruent sides, and each side have a different length.\n",
        " \n",
        "Right Triangle: If the square of one side equals the sum of the squares of the other\n",
        "two sides."
      ],
      "metadata": {
        "id": "tkT23fCfTjiN"
      }
    },
    {
      "cell_type": "code",
      "source": [
        "# INSERT YOUR ANSWER HERE\n",
        "# This is the first method. It will loop until the program accepts the side lengths\n",
        "while True: \n",
        "  a = int(input(\"Enter the length of the first side:\"))\n",
        "  b = int(input(\"Enter the length of the second side:\"))\n",
        "  c = int(input(\"Enter the length of the third side:\"))     \n",
        "  if (a + b > c) and ( b + c > a) and (a + c > b):\n",
        "    print(\"This is a triangle.\")     \n",
        "    break\n",
        "    print(\"This is not a triangle\")\n",
        "# Conditions for type of triangle\n",
        "if (a == b) and (a == c):\n",
        "  print(\"This is an equilateral triangle. It has three congruent sides.\")\n",
        "elif (a == b) or (a == c):\n",
        "  print(\"This is an isosceles triangle. It has two equal sides.\")\n",
        "elif (a != b) and (a != c) and (b != c):\n",
        "  print(\"This is a scalene triangle. It has no congruent sides and each side has a different length.\")\n",
        "elif (a**2 + b**2 == c**2) or (c**2 + b**2 == a**2) or (a**a + c**2 == b**2):\n",
        "  print(\"This is a right triangle. It has the square of one side equals the sum of the squares of the other two sides.\")\n",
        "else:\n",
        "  print('Error')"
      ],
      "outputs": [
        {
          "output_type": "stream",
          "name": "stdout",
          "text": [
            "Enter the length of the first side:15\n",
            "Enter the length of the second side:14\n",
            "Enter the length of the third side:11\n",
            "This is a triangle.\n",
            "This is a scalene triangle. It has no congruent sides and each side has a different length.\n"
          ]
        }
      ],
      "execution_count": null,
      "metadata": {
        "id": "SwivY0pFTnA3",
        "execution": {
          "shell.execute_reply": "2022-06-22T21:28:33.685Z",
          "iopub.status.busy": "2022-06-22T21:28:33.951Z",
          "iopub.execute_input": "2022-06-22T21:28:33.958Z",
          "iopub.status.idle": "2022-06-22T21:28:33.964Z"
        },
        "colab": {
          "base_uri": "https://localhost:8080/"
        },
        "outputId": "130af11d-2125-4180-dbad-2b4902ec6d22"
      }
    },
    {
      "cell_type": "code",
      "source": [
        "# This is an alternate method. It correctly identifies whether it is a triangle and the type but will pass through the first condition even if it is not a triangle\n",
        "a = int(input(\"Enter the length of the first side:\"))\n",
        "b = int(input(\"Enter the length of the second side:\"))\n",
        "c = int(input(\"Enter the length of the third side:\"))\n",
        "def triangle(a,b,c):      \n",
        " if(a + b > c) and ( b + c > a) and (a + c > b):     \n",
        "   print(\"This is a triangle\")\n",
        " else:\n",
        "   print(\"This is not a triangle\")\n",
        "triangle(a,b,c)\n",
        "# Conditions for type of triangle\n",
        "if (a == b) and (a == c):\n",
        "  print(\"This is an equilateral triangle. It has three congruent sides.\")\n",
        "elif (a == b) or (a == c):\n",
        "  print(\"This is an isosceles triangle. It has two equal sides.\")\n",
        "elif (a != b) and (a != c) and (b != c):\n",
        "  print(\"This is a scalene triangle. It has no congruent sides and each side has a different length.\")\n",
        "elif (a**2 + b**2 == c**2) or (c**2 + b**2 == a**2) or (a**a + c**2 == b**2):\n",
        "  print(\"This is a right triangle. It has the square of one side equals the sum of the squares of the other two sides.\")\n",
        "else:\n",
        "  print('Error')"
      ],
      "metadata": {
        "colab": {
          "base_uri": "https://localhost:8080/"
        },
        "id": "C1BIN7HFcAlE",
        "outputId": "f9e46dc6-cb8c-42b5-c948-bfdab5fca823"
      },
      "execution_count": null,
      "outputs": [
        {
          "output_type": "stream",
          "name": "stdout",
          "text": [
            "Enter the length of the first side:15\n",
            "Enter the length of the second side:14\n",
            "Enter the length of the third side:11\n",
            "This is a triangle\n",
            "This is a scalene triangle. It has no congruent sides and each side has a different length.\n"
          ]
        }
      ]
    },
    {
      "cell_type": "markdown",
      "source": [
        "#### This is the end of assignment 1"
      ],
      "metadata": {
        "id": "MS4zegKigy6u"
      }
    },
    {
      "cell_type": "code",
      "source": [
        "%%shell\n",
        "jupyter nbconvert -- to html /content/CIND830_Summer22_Assignment1.ipynb"
      ],
      "metadata": {
        "id": "BqLr7xNKKmjL",
        "colab": {
          "base_uri": "https://localhost:8080/"
        },
        "outputId": "dbff6ae1-ce15-47d2-bba6-b93fc94d4e0e"
      },
      "execution_count": null,
      "outputs": [
        {
          "output_type": "stream",
          "name": "stdout",
          "text": [
            "[NbConvertApp] WARNING | pattern 'to' matched no files\n",
            "[NbConvertApp] WARNING | pattern 'html' matched no files\n",
            "[NbConvertApp] Converting notebook /content/CIND830_Summer22_Assignment1.ipynb to html\n",
            "[NbConvertApp] Writing 318120 bytes to /content/CIND830_Summer22_Assignment1.html\n"
          ]
        },
        {
          "output_type": "execute_result",
          "data": {
            "text/plain": [
              ""
            ]
          },
          "metadata": {},
          "execution_count": 3
        }
      ]
    }
  ],
  "metadata": {
    "colab": {
      "provenance": []
    },
    "kernelspec": {
      "display_name": "Python 3",
      "language": "python",
      "name": "python3"
    },
    "language_info": {
      "name": "python",
      "version": "3.8.5",
      "mimetype": "text/x-python",
      "codemirror_mode": {
        "name": "ipython",
        "version": 3
      },
      "pygments_lexer": "ipython3",
      "nbconvert_exporter": "python",
      "file_extension": ".py"
    },
    "nteract": {
      "version": "0.28.0"
    },
    "varInspector": {
      "cols": {
        "lenName": 16,
        "lenType": 16,
        "lenVar": 40
      },
      "kernels_config": {
        "python": {
          "delete_cmd_postfix": "",
          "delete_cmd_prefix": "del ",
          "library": "var_list.py",
          "varRefreshCmd": "print(var_dic_list())"
        },
        "r": {
          "delete_cmd_postfix": ") ",
          "delete_cmd_prefix": "rm(",
          "library": "var_list.r",
          "varRefreshCmd": "cat(var_dic_list()) "
        }
      },
      "types_to_exclude": [
        "module",
        "function",
        "builtin_function_or_method",
        "instance",
        "_Feature"
      ],
      "window_display": false
    }
  },
  "nbformat": 4,
  "nbformat_minor": 0
}